{
 "cells": [
  {
   "cell_type": "code",
   "execution_count": null,
   "metadata": {},
   "outputs": [],
   "source": [
    "import requests\n",
    "from bs4 import BeautifulSoup\n",
    "import time\n",
    "from google.colab import files\n",
    "import random\n",
    "from string import ascii_uppercase"
   ]
  },
  {
   "cell_type": "markdown",
   "metadata": {},
   "source": [
    "# ПРОХОДИМСЯ ПО СТРАНИЦА САЙТА И СОБИРАЕМ СПИСОК ССЫЛОК, ПО КОТОРЫМ НАДО БУДЕТ СКАЧИВАТЬ СУБТИТРЫ"
   ]
  },
  {
   "cell_type": "code",
   "execution_count": null,
   "metadata": {},
   "outputs": [],
   "source": [
    "links_list = []\n",
    "r = requests.get('https://subtitry.ru/subtitles/?filmchar=A&page=1')\n",
    "soup = BeautifulSoup(r.content, \"lxml\")\n",
    "def collect_links(soup, links_list, debug = False):\n",
    "    for a in soup.find_all('a', href=True): \n",
    "          if a.text: \n",
    "              link = a['href']\n",
    "              if debug: print(\"LINK\", link)\n",
    "              replace_el = a['href'].split('/')[-1]\n",
    "              if debug: print(\"replaced el\", replace_el)\n",
    "              updated_link = link.replace(replace_el, \"download.html\")\n",
    "              if debug: print(\"UPDATED LINK\",updated_link)\n",
    "              try:\n",
    "                  film_id = updated_link.split('/')[-2]\n",
    "                  if(film_id.isdigit()):   \n",
    "                    links_list.append(updated_link)\n",
    "\n",
    "              except:\n",
    "                  if debug: print(\"film_id not found\")\n",
    "                  pass"
   ]
  },
  {
   "cell_type": "markdown",
   "metadata": {},
   "source": [
    "# ИСПОЛЬЗУЕМ ПОЛУЧЕННЫЙ СПИСОК ССЫЛОК ДЛЯ СКАЧИВАНИЯ"
   ]
  },
  {
   "cell_type": "code",
   "execution_count": null,
   "metadata": {},
   "outputs": [],
   "source": [
    "current_time = time.time()\n",
    "total_download = 0\n",
    "for ind in range(len(links_list)):\n",
    "  time.sleep(10 + random.randint(1,10))\n",
    "  #print(links_list[ind])\n",
    "  \n",
    "  r = requests.get(links_list[ind])\n",
    "  film_id = links_list[ind].split('/')[-2]\n",
    "  film_folder_name = film_id +\".rar\"\n",
    "  with open(film_folder_name, 'wb') as f:  \n",
    "    f.write(r.content)\n",
    "  print(\"now should download\", film_folder_name)\n",
    "  files.download(film_folder_name)\n",
    "  \n",
    "  total_download += 1\n",
    "  if(total_download % 50 == 0):\n",
    "    print(\"DOWNLOADED FILES NUMBER = \",total_download)\n",
    "  \n",
    "  elapsed_time = time.time() - current_time\n",
    "  print(\"elapsed\", elapsed_time)\n",
    "  current_time = time.time()"
   ]
  }
 ],
 "metadata": {
  "kernelspec": {
   "display_name": "Python 3",
   "language": "python",
   "name": "python3"
  },
  "language_info": {
   "codemirror_mode": {
    "name": "ipython",
    "version": 3
   },
   "file_extension": ".py",
   "mimetype": "text/x-python",
   "name": "python",
   "nbconvert_exporter": "python",
   "pygments_lexer": "ipython3",
   "version": "3.6.4"
  }
 },
 "nbformat": 4,
 "nbformat_minor": 2
}
