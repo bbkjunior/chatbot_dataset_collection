{
 "cells": [
  {
   "cell_type": "code",
   "execution_count": 2,
   "metadata": {
    "collapsed": true
   },
   "outputs": [],
   "source": [
    "import pandas as pd"
   ]
  },
  {
   "cell_type": "code",
   "execution_count": 3,
   "metadata": {},
   "outputs": [
    {
     "data": {
      "text/html": [
       "<div>\n",
       "<style scoped>\n",
       "    .dataframe tbody tr th:only-of-type {\n",
       "        vertical-align: middle;\n",
       "    }\n",
       "\n",
       "    .dataframe tbody tr th {\n",
       "        vertical-align: top;\n",
       "    }\n",
       "\n",
       "    .dataframe thead th {\n",
       "        text-align: right;\n",
       "    }\n",
       "</style>\n",
       "<table border=\"1\" class=\"dataframe\">\n",
       "  <thead>\n",
       "    <tr style=\"text-align: right;\">\n",
       "      <th></th>\n",
       "      <th>fist_phrase</th>\n",
       "      <th>reply</th>\n",
       "    </tr>\n",
       "  </thead>\n",
       "  <tbody>\n",
       "    <tr>\n",
       "      <th>1</th>\n",
       "      <td>Христос рождается!</td>\n",
       "      <td>славімо його!!!</td>\n",
       "    </tr>\n",
       "    <tr>\n",
       "      <th>2</th>\n",
       "      <td>Пампушки с маком</td>\n",
       "      <td>Terry, а можно, пожалуйста, рецепт пампушек, о...</td>\n",
       "    </tr>\n",
       "    <tr>\n",
       "      <th>3</th>\n",
       "      <td>еще было 7 салатиков</td>\n",
       "      <td>Ну, Настюша, ну рукодельница, это ж когда ты т...</td>\n",
       "    </tr>\n",
       "    <tr>\n",
       "      <th>4</th>\n",
       "      <td>Пирог яблочный sour cream apple pie</td>\n",
       "      <td>Хочу подтвердить, что пирог необычайно вкусен!!!</td>\n",
       "    </tr>\n",
       "    <tr>\n",
       "      <th>5</th>\n",
       "      <td>Селедка под шубой</td>\n",
       "      <td>селедочка под шубой</td>\n",
       "    </tr>\n",
       "  </tbody>\n",
       "</table>\n",
       "</div>"
      ],
      "text/plain": [
       "                           fist_phrase  \\\n",
       "1                   Христос рождается!   \n",
       "2                     Пампушки с маком   \n",
       "3                 еще было 7 салатиков   \n",
       "4  Пирог яблочный sour cream apple pie   \n",
       "5                    Селедка под шубой   \n",
       "\n",
       "                                               reply  \n",
       "1                                    славімо його!!!  \n",
       "2  Terry, а можно, пожалуйста, рецепт пампушек, о...  \n",
       "3  Ну, Настюша, ну рукодельница, это ж когда ты т...  \n",
       "4   Хочу подтвердить, что пирог необычайно вкусен!!!  \n",
       "5                                селедочка под шубой  "
      ]
     },
     "execution_count": 3,
     "metadata": {},
     "output_type": "execute_result"
    }
   ],
   "source": [
    "df_basic = pd.read_csv(\"basic.csv\", sep = \"\\t\", encoding = \"cp1251\")\n",
    "df_basic = df_basic.dropna(axis = 0)\n",
    "df_basic.head()"
   ]
  },
  {
   "cell_type": "code",
   "execution_count": 4,
   "metadata": {},
   "outputs": [
    {
     "data": {
      "text/html": [
       "<div>\n",
       "<style scoped>\n",
       "    .dataframe tbody tr th:only-of-type {\n",
       "        vertical-align: middle;\n",
       "    }\n",
       "\n",
       "    .dataframe tbody tr th {\n",
       "        vertical-align: top;\n",
       "    }\n",
       "\n",
       "    .dataframe thead th {\n",
       "        text-align: right;\n",
       "    }\n",
       "</style>\n",
       "<table border=\"1\" class=\"dataframe\">\n",
       "  <thead>\n",
       "    <tr style=\"text-align: right;\">\n",
       "      <th></th>\n",
       "      <th>fist_phrase</th>\n",
       "      <th>reply</th>\n",
       "    </tr>\n",
       "  </thead>\n",
       "  <tbody>\n",
       "    <tr>\n",
       "      <th>0</th>\n",
       "      <td>Это ж какую силу воли нужно иметь, чтобы дотер...</td>\n",
       "      <td>Обязательно приготовлю, большое спасибо за рец...</td>\n",
       "    </tr>\n",
       "    <tr>\n",
       "      <th>1</th>\n",
       "      <td>только с изюмом, вымоченном в роме, но мой люб...</td>\n",
       "      <td>Елена, а как ром сочетается со сгущенкой? Норм...</td>\n",
       "    </tr>\n",
       "    <tr>\n",
       "      <th>2</th>\n",
       "      <td>вот ромовый изюм с коровкой - вкусно, по-рожде...</td>\n",
       "      <td>Как здОрово!</td>\n",
       "    </tr>\n",
       "    <tr>\n",
       "      <th>3</th>\n",
       "      <td>Я капаю в тарелку с холодной водой - как тольк...</td>\n",
       "      <td>Да, можно и такую пробу делать.</td>\n",
       "    </tr>\n",
       "    <tr>\n",
       "      <th>4</th>\n",
       "      <td>оставлю кусочек на хранение, посмотрю как на в...</td>\n",
       "      <td>Думаю, всё-таки, она подсохнет. Хотя в полиэти...</td>\n",
       "    </tr>\n",
       "  </tbody>\n",
       "</table>\n",
       "</div>"
      ],
      "text/plain": [
       "                                         fist_phrase  \\\n",
       "0  Это ж какую силу воли нужно иметь, чтобы дотер...   \n",
       "1  только с изюмом, вымоченном в роме, но мой люб...   \n",
       "2  вот ромовый изюм с коровкой - вкусно, по-рожде...   \n",
       "3  Я капаю в тарелку с холодной водой - как тольк...   \n",
       "4  оставлю кусочек на хранение, посмотрю как на в...   \n",
       "\n",
       "                                               reply  \n",
       "0  Обязательно приготовлю, большое спасибо за рец...  \n",
       "1  Елена, а как ром сочетается со сгущенкой? Норм...  \n",
       "2                                       Как здОрово!  \n",
       "3                    Да, можно и такую пробу делать.  \n",
       "4  Думаю, всё-таки, она подсохнет. Хотя в полиэти...  "
      ]
     },
     "execution_count": 4,
     "metadata": {},
     "output_type": "execute_result"
    }
   ],
   "source": [
    "df_desert = pd.read_csv(\"desert.csv\", sep = \"\\t\", encoding = \"utf-8\")\n",
    "df_desert = df_desert.dropna(axis = 0)\n",
    "df_desert.head()"
   ]
  },
  {
   "cell_type": "code",
   "execution_count": 5,
   "metadata": {},
   "outputs": [
    {
     "data": {
      "text/html": [
       "<div>\n",
       "<style scoped>\n",
       "    .dataframe tbody tr th:only-of-type {\n",
       "        vertical-align: middle;\n",
       "    }\n",
       "\n",
       "    .dataframe tbody tr th {\n",
       "        vertical-align: top;\n",
       "    }\n",
       "\n",
       "    .dataframe thead th {\n",
       "        text-align: right;\n",
       "    }\n",
       "</style>\n",
       "<table border=\"1\" class=\"dataframe\">\n",
       "  <thead>\n",
       "    <tr style=\"text-align: right;\">\n",
       "      <th></th>\n",
       "      <th>fist_phrase</th>\n",
       "      <th>reply</th>\n",
       "    </tr>\n",
       "  </thead>\n",
       "  <tbody>\n",
       "    <tr>\n",
       "      <th>0</th>\n",
       "      <td>-Кать,\" оставайтесь с нами на ужин.</td>\n",
       "      <td>Андрея всё равно нет. Поужинаете у нас.\",,,,,,</td>\n",
       "    </tr>\n",
       "    <tr>\n",
       "      <th>1</th>\n",
       "      <td>Андрея всё равно нет. Поужинаете у нас.</td>\n",
       "      <td>Подождёте здесь. -Спасибо, конечно, за приглаш...</td>\n",
       "    </tr>\n",
       "    <tr>\n",
       "      <th>2</th>\n",
       "      <td>-Не понял. -Катя,\" оставайтесь с нами на ужин.</td>\n",
       "      <td>А дайте поцелую вашу ручку.\",,,,,,</td>\n",
       "    </tr>\n",
       "    <tr>\n",
       "      <th>3</th>\n",
       "      <td>Ты что,\" едой не хочешь делиться? -Я тобой не ...</td>\n",
       "      <td>-Ты что\", ревнуешь? Мне так нравится, когда ты...</td>\n",
       "    </tr>\n",
       "    <tr>\n",
       "      <th>4</th>\n",
       "      <td>-Ничего,\" сейчас у них обед.</td>\n",
       "      <td>Обходить нам\", что ли?,,,,,</td>\n",
       "    </tr>\n",
       "  </tbody>\n",
       "</table>\n",
       "</div>"
      ],
      "text/plain": [
       "                                         fist_phrase  \\\n",
       "0                -Кать,\" оставайтесь с нами на ужин.   \n",
       "1            Андрея всё равно нет. Поужинаете у нас.   \n",
       "2     -Не понял. -Катя,\" оставайтесь с нами на ужин.   \n",
       "3  Ты что,\" едой не хочешь делиться? -Я тобой не ...   \n",
       "4                       -Ничего,\" сейчас у них обед.   \n",
       "\n",
       "                                               reply  \n",
       "0     Андрея всё равно нет. Поужинаете у нас.\",,,,,,  \n",
       "1  Подождёте здесь. -Спасибо, конечно, за приглаш...  \n",
       "2                 А дайте поцелую вашу ручку.\",,,,,,  \n",
       "3  -Ты что\", ревнуешь? Мне так нравится, когда ты...  \n",
       "4                        Обходить нам\", что ли?,,,,,  "
      ]
     },
     "execution_count": 5,
     "metadata": {},
     "output_type": "execute_result"
    }
   ],
   "source": [
    "df_subs = pd.read_csv(\"dialogues_from_subs.csv\", sep = \"\\t\", encoding = \"utf-8\")\n",
    "df_subs = df_subs.dropna(axis = 0)\n",
    "df_subs.head()"
   ]
  },
  {
   "cell_type": "code",
   "execution_count": 6,
   "metadata": {},
   "outputs": [
    {
     "data": {
      "text/html": [
       "<div>\n",
       "<style scoped>\n",
       "    .dataframe tbody tr th:only-of-type {\n",
       "        vertical-align: middle;\n",
       "    }\n",
       "\n",
       "    .dataframe tbody tr th {\n",
       "        vertical-align: top;\n",
       "    }\n",
       "\n",
       "    .dataframe thead th {\n",
       "        text-align: right;\n",
       "    }\n",
       "</style>\n",
       "<table border=\"1\" class=\"dataframe\">\n",
       "  <thead>\n",
       "    <tr style=\"text-align: right;\">\n",
       "      <th></th>\n",
       "      <th>fist_phrase</th>\n",
       "      <th>reply</th>\n",
       "    </tr>\n",
       "  </thead>\n",
       "  <tbody>\n",
       "    <tr>\n",
       "      <th>0</th>\n",
       "      <td>Просто идеальный бульон, основа. Спасибо за ре...</td>\n",
       "      <td>Многодетная мама на аве больше похожа на школь...</td>\n",
       "    </tr>\n",
       "    <tr>\n",
       "      <th>1</th>\n",
       "      <td>Хороший бульон! и описание подробное а что даё...</td>\n",
       "      <td>Спасибо ))))</td>\n",
       "    </tr>\n",
       "    <tr>\n",
       "      <th>2</th>\n",
       "      <td>Наташенька!</td>\n",
       "      <td>Nataliya_Yourevna</td>\n",
       "    </tr>\n",
       "    <tr>\n",
       "      <th>3</th>\n",
       "      <td>Я сухих грибов не ела лет наверное 8-10</td>\n",
       "      <td>Лена приезжай на Украину угостим грибочками</td>\n",
       "    </tr>\n",
       "    <tr>\n",
       "      <th>4</th>\n",
       "      <td>ЭТО ТАК ВКУСНО!!!! Я сухих грибов не ела лет н...</td>\n",
       "      <td>да, Елена, аромат и вкус сухих грибов, особенн...</td>\n",
       "    </tr>\n",
       "  </tbody>\n",
       "</table>\n",
       "</div>"
      ],
      "text/plain": [
       "                                         fist_phrase  \\\n",
       "0  Просто идеальный бульон, основа. Спасибо за ре...   \n",
       "1  Хороший бульон! и описание подробное а что даё...   \n",
       "2                                        Наташенька!   \n",
       "3            Я сухих грибов не ела лет наверное 8-10   \n",
       "4  ЭТО ТАК ВКУСНО!!!! Я сухих грибов не ела лет н...   \n",
       "\n",
       "                                               reply  \n",
       "0  Многодетная мама на аве больше похожа на школь...  \n",
       "1                                       Спасибо ))))  \n",
       "2                                  Nataliya_Yourevna  \n",
       "3        Лена приезжай на Украину угостим грибочками  \n",
       "4  да, Елена, аромат и вкус сухих грибов, особенн...  "
      ]
     },
     "execution_count": 6,
     "metadata": {},
     "output_type": "execute_result"
    }
   ],
   "source": [
    "df_first = pd.read_csv(\"first.csv\", sep = \"\\t\", encoding = \"utf-8\")\n",
    "df_first = df_first.dropna(axis = 0)\n",
    "df_first.head()"
   ]
  },
  {
   "cell_type": "code",
   "execution_count": 7,
   "metadata": {},
   "outputs": [
    {
     "data": {
      "text/html": [
       "<div>\n",
       "<style scoped>\n",
       "    .dataframe tbody tr th:only-of-type {\n",
       "        vertical-align: middle;\n",
       "    }\n",
       "\n",
       "    .dataframe tbody tr th {\n",
       "        vertical-align: top;\n",
       "    }\n",
       "\n",
       "    .dataframe thead th {\n",
       "        text-align: right;\n",
       "    }\n",
       "</style>\n",
       "<table border=\"1\" class=\"dataframe\">\n",
       "  <thead>\n",
       "    <tr style=\"text-align: right;\">\n",
       "      <th></th>\n",
       "      <th>fist_phrase</th>\n",
       "      <th>reply</th>\n",
       "    </tr>\n",
       "  </thead>\n",
       "  <tbody>\n",
       "    <tr>\n",
       "      <th>0</th>\n",
       "      <td>Долго я собиралась приготовить поленту,</td>\n",
       "      <td>Юленька,я тоже вот собираюсь,и все никак ........</td>\n",
       "    </tr>\n",
       "    <tr>\n",
       "      <th>1</th>\n",
       "      <td>вижу ,что и не очень калорийное блюдо!!!</td>\n",
       "      <td>думаю, да, но только зависит сколько съесть я ...</td>\n",
       "    </tr>\n",
       "    <tr>\n",
       "      <th>2</th>\n",
       "      <td>Так-как, пришлось сесть мне на низкокалорийную...</td>\n",
       "      <td>надеюсь ничего серьезного, а только профилакти...</td>\n",
       "    </tr>\n",
       "    <tr>\n",
       "      <th>3</th>\n",
       "      <td>Спасибо большое ,за рецепт,Юленька.</td>\n",
       "      <td>На здоровье, Лика!</td>\n",
       "    </tr>\n",
       "    <tr>\n",
       "      <th>4</th>\n",
       "      <td>надеюсь ничего серьезного, а только профилакти...</td>\n",
       "      <td>При моем росте 1.78 см ,вес мой в пределах нормы.</td>\n",
       "    </tr>\n",
       "  </tbody>\n",
       "</table>\n",
       "</div>"
      ],
      "text/plain": [
       "                                         fist_phrase  \\\n",
       "0            Долго я собиралась приготовить поленту,   \n",
       "1           вижу ,что и не очень калорийное блюдо!!!   \n",
       "2  Так-как, пришлось сесть мне на низкокалорийную...   \n",
       "3                Спасибо большое ,за рецепт,Юленька.   \n",
       "4  надеюсь ничего серьезного, а только профилакти...   \n",
       "\n",
       "                                               reply  \n",
       "0  Юленька,я тоже вот собираюсь,и все никак ........  \n",
       "1  думаю, да, но только зависит сколько съесть я ...  \n",
       "2  надеюсь ничего серьезного, а только профилакти...  \n",
       "3                                 На здоровье, Лика!  \n",
       "4  При моем росте 1.78 см ,вес мой в пределах нормы.  "
      ]
     },
     "execution_count": 7,
     "metadata": {},
     "output_type": "execute_result"
    }
   ],
   "source": [
    "df_porridge = pd.read_csv(\"porridge.csv\", sep = \"\\t\", encoding = \"utf-8\")\n",
    "df_first = df_porridge.dropna(axis = 0)\n",
    "df_porridge.head()"
   ]
  },
  {
   "cell_type": "code",
   "execution_count": 8,
   "metadata": {},
   "outputs": [
    {
     "data": {
      "text/html": [
       "<div>\n",
       "<style scoped>\n",
       "    .dataframe tbody tr th:only-of-type {\n",
       "        vertical-align: middle;\n",
       "    }\n",
       "\n",
       "    .dataframe tbody tr th {\n",
       "        vertical-align: top;\n",
       "    }\n",
       "\n",
       "    .dataframe thead th {\n",
       "        text-align: right;\n",
       "    }\n",
       "</style>\n",
       "<table border=\"1\" class=\"dataframe\">\n",
       "  <thead>\n",
       "    <tr style=\"text-align: right;\">\n",
       "      <th></th>\n",
       "      <th>fist_phrase</th>\n",
       "      <th>reply</th>\n",
       "    </tr>\n",
       "  </thead>\n",
       "  <tbody>\n",
       "    <tr>\n",
       "      <th>0</th>\n",
       "      <td>Ликочка, тебе наверняка известно, что нут я лю...</td>\n",
       "      <td>Любаш,конечно,я уже знаю про твою любоФь к нуту.</td>\n",
       "    </tr>\n",
       "    <tr>\n",
       "      <th>1</th>\n",
       "      <td>Приготовила по твоему рецептику!!!</td>\n",
       "      <td>Нут у меня собственноручно сваренный, помидорк...</td>\n",
       "    </tr>\n",
       "    <tr>\n",
       "      <th>2</th>\n",
       "      <td>И мне кажется тебе уже давно пора присвоить ти...</td>\n",
       "      <td>Любаш,НА ЗДОРОВЬЕ, ДОРОГАЯ!</td>\n",
       "    </tr>\n",
       "    <tr>\n",
       "      <th>3</th>\n",
       "      <td>Любаш,НА ЗДОРОВЬЕ, ДОРОГАЯ!</td>\n",
       "      <td>сто тысяч раз спасибо за добрые слова и шикарн...</td>\n",
       "    </tr>\n",
       "    <tr>\n",
       "      <th>4</th>\n",
       "      <td>Вкуснятина</td>\n",
       "      <td>Екатерина,Рада, что рецепт пригодился! На здор...</td>\n",
       "    </tr>\n",
       "  </tbody>\n",
       "</table>\n",
       "</div>"
      ],
      "text/plain": [
       "                                         fist_phrase  \\\n",
       "0  Ликочка, тебе наверняка известно, что нут я лю...   \n",
       "1                 Приготовила по твоему рецептику!!!   \n",
       "2  И мне кажется тебе уже давно пора присвоить ти...   \n",
       "3                        Любаш,НА ЗДОРОВЬЕ, ДОРОГАЯ!   \n",
       "4                                         Вкуснятина   \n",
       "\n",
       "                                               reply  \n",
       "0   Любаш,конечно,я уже знаю про твою любоФь к нуту.  \n",
       "1  Нут у меня собственноручно сваренный, помидорк...  \n",
       "2                        Любаш,НА ЗДОРОВЬЕ, ДОРОГАЯ!  \n",
       "3  сто тысяч раз спасибо за добрые слова и шикарн...  \n",
       "4  Екатерина,Рада, что рецепт пригодился! На здор...  "
      ]
     },
     "execution_count": 8,
     "metadata": {},
     "output_type": "execute_result"
    }
   ],
   "source": [
    "df_second = pd.read_csv(\"second.csv\", sep = \"\\t\", encoding = \"utf-8\")\n",
    "df_second = df_second.dropna(axis = 0)\n",
    "df_second.head()"
   ]
  },
  {
   "cell_type": "code",
   "execution_count": 9,
   "metadata": {},
   "outputs": [
    {
     "data": {
      "text/html": [
       "<div>\n",
       "<style scoped>\n",
       "    .dataframe tbody tr th:only-of-type {\n",
       "        vertical-align: middle;\n",
       "    }\n",
       "\n",
       "    .dataframe tbody tr th {\n",
       "        vertical-align: top;\n",
       "    }\n",
       "\n",
       "    .dataframe thead th {\n",
       "        text-align: right;\n",
       "    }\n",
       "</style>\n",
       "<table border=\"1\" class=\"dataframe\">\n",
       "  <thead>\n",
       "    <tr style=\"text-align: right;\">\n",
       "      <th></th>\n",
       "      <th>fist_phrase</th>\n",
       "      <th>reply</th>\n",
       "    </tr>\n",
       "  </thead>\n",
       "  <tbody>\n",
       "    <tr>\n",
       "      <th>0</th>\n",
       "      <td>сразу догадалась, чьё это произведение!</td>\n",
       "      <td>благодарю,дорогая!</td>\n",
       "    </tr>\n",
       "    <tr>\n",
       "      <th>1</th>\n",
       "      <td>Какое аппетитное рагу, да ещё и с моими любимы...</td>\n",
       "      <td>Наташа, а что это за такие колбаски чоризу? Он...</td>\n",
       "    </tr>\n",
       "    <tr>\n",
       "      <th>2</th>\n",
       "      <td>что это за такие колбаски чоризу? Они остренькие?</td>\n",
       "      <td>они разные бывают и остренькие и нет,копченые</td>\n",
       "    </tr>\n",
       "    <tr>\n",
       "      <th>3</th>\n",
       "      <td>Это блюдо продают в торговых центрах в Португа...</td>\n",
       "      <td>что-то похожее продают из кальмаров,не обращал...</td>\n",
       "    </tr>\n",
       "    <tr>\n",
       "      <th>4</th>\n",
       "      <td>что-то похожее продают из кальмаров,не обращал...</td>\n",
       "      <td>а вот в ресторанах подают Значит это очень вку...</td>\n",
       "    </tr>\n",
       "  </tbody>\n",
       "</table>\n",
       "</div>"
      ],
      "text/plain": [
       "                                         fist_phrase  \\\n",
       "0            сразу догадалась, чьё это произведение!   \n",
       "1  Какое аппетитное рагу, да ещё и с моими любимы...   \n",
       "2  что это за такие колбаски чоризу? Они остренькие?   \n",
       "3  Это блюдо продают в торговых центрах в Португа...   \n",
       "4  что-то похожее продают из кальмаров,не обращал...   \n",
       "\n",
       "                                               reply  \n",
       "0                                 благодарю,дорогая!  \n",
       "1  Наташа, а что это за такие колбаски чоризу? Он...  \n",
       "2      они разные бывают и остренькие и нет,копченые  \n",
       "3  что-то похожее продают из кальмаров,не обращал...  \n",
       "4  а вот в ресторанах подают Значит это очень вку...  "
      ]
     },
     "execution_count": 9,
     "metadata": {},
     "output_type": "execute_result"
    }
   ],
   "source": [
    "df_fish = pd.read_csv(\"fish.csv\", sep = \"\\t\", encoding = \"utf-8\")\n",
    "df_fish = df_fish.dropna(axis = 0)\n",
    "df_fish.head()"
   ]
  },
  {
   "cell_type": "code",
   "execution_count": 10,
   "metadata": {},
   "outputs": [
    {
     "data": {
      "text/html": [
       "<div>\n",
       "<style scoped>\n",
       "    .dataframe tbody tr th:only-of-type {\n",
       "        vertical-align: middle;\n",
       "    }\n",
       "\n",
       "    .dataframe tbody tr th {\n",
       "        vertical-align: top;\n",
       "    }\n",
       "\n",
       "    .dataframe thead th {\n",
       "        text-align: right;\n",
       "    }\n",
       "</style>\n",
       "<table border=\"1\" class=\"dataframe\">\n",
       "  <thead>\n",
       "    <tr style=\"text-align: right;\">\n",
       "      <th></th>\n",
       "      <th>fist_phrase</th>\n",
       "      <th>reply</th>\n",
       "    </tr>\n",
       "  </thead>\n",
       "  <tbody>\n",
       "    <tr>\n",
       "      <th>0</th>\n",
       "      <td>Светочка, для тортов я открыла новую темку и р...</td>\n",
       "      <td>все, уже увидела все темы- взяла их в закладочки</td>\n",
       "    </tr>\n",
       "    <tr>\n",
       "      <th>1</th>\n",
       "      <td>все, уже увидела все темы- взяла их в закладочки</td>\n",
       "      <td>Светик, пользуйся на здоровье!</td>\n",
       "    </tr>\n",
       "    <tr>\n",
       "      <th>2</th>\n",
       "      <td>yfnfif77</td>\n",
       "      <td>Наташенька, спасибо за ссылки! Для тортов я ре...</td>\n",
       "    </tr>\n",
       "    <tr>\n",
       "      <th>3</th>\n",
       "      <td>Светочка, для тортов я открыла новую темку и р...</td>\n",
       "      <td>все, уже увидела все темы- взяла их в закладочки</td>\n",
       "    </tr>\n",
       "    <tr>\n",
       "      <th>4</th>\n",
       "      <td>все, уже увидела все темы- взяла их в закладочки</td>\n",
       "      <td>Светик, пользуйся на здоровье!</td>\n",
       "    </tr>\n",
       "  </tbody>\n",
       "</table>\n",
       "</div>"
      ],
      "text/plain": [
       "                                         fist_phrase  \\\n",
       "0  Светочка, для тортов я открыла новую темку и р...   \n",
       "1   все, уже увидела все темы- взяла их в закладочки   \n",
       "2                                           yfnfif77   \n",
       "3  Светочка, для тортов я открыла новую темку и р...   \n",
       "4   все, уже увидела все темы- взяла их в закладочки   \n",
       "\n",
       "                                               reply  \n",
       "0   все, уже увидела все темы- взяла их в закладочки  \n",
       "1                     Светик, пользуйся на здоровье!  \n",
       "2  Наташенька, спасибо за ссылки! Для тортов я ре...  \n",
       "3   все, уже увидела все темы- взяла их в закладочки  \n",
       "4                     Светик, пользуйся на здоровье!  "
      ]
     },
     "execution_count": 10,
     "metadata": {},
     "output_type": "execute_result"
    }
   ],
   "source": [
    "df_vypechka = pd.read_csv(\"vypechka.csv\", sep = \"\\t\", encoding = \"utf-8\")\n",
    "df_vypechka = df_vypechka.dropna(axis = 0)\n",
    "df_vypechka.head()"
   ]
  },
  {
   "cell_type": "code",
   "execution_count": 11,
   "metadata": {
    "collapsed": true
   },
   "outputs": [],
   "source": [
    "final_df = pd.concat([df_basic, df_desert, df_subs, df_first, df_porridge, df_second, df_fish, df_vypechka])"
   ]
  },
  {
   "cell_type": "code",
   "execution_count": 12,
   "metadata": {},
   "outputs": [
    {
     "data": {
      "text/plain": [
       "112711"
      ]
     },
     "execution_count": 12,
     "metadata": {},
     "output_type": "execute_result"
    }
   ],
   "source": [
    "len(final_df)"
   ]
  },
  {
   "cell_type": "code",
   "execution_count": 13,
   "metadata": {},
   "outputs": [
    {
     "data": {
      "text/html": [
       "<div>\n",
       "<style scoped>\n",
       "    .dataframe tbody tr th:only-of-type {\n",
       "        vertical-align: middle;\n",
       "    }\n",
       "\n",
       "    .dataframe tbody tr th {\n",
       "        vertical-align: top;\n",
       "    }\n",
       "\n",
       "    .dataframe thead th {\n",
       "        text-align: right;\n",
       "    }\n",
       "</style>\n",
       "<table border=\"1\" class=\"dataframe\">\n",
       "  <thead>\n",
       "    <tr style=\"text-align: right;\">\n",
       "      <th></th>\n",
       "      <th>fist_phrase</th>\n",
       "      <th>reply</th>\n",
       "    </tr>\n",
       "  </thead>\n",
       "  <tbody>\n",
       "    <tr>\n",
       "      <th>1</th>\n",
       "      <td>Христос рождается!</td>\n",
       "      <td>славімо його!!!</td>\n",
       "    </tr>\n",
       "    <tr>\n",
       "      <th>2</th>\n",
       "      <td>Пампушки с маком</td>\n",
       "      <td>Terry, а можно, пожалуйста, рецепт пампушек, о...</td>\n",
       "    </tr>\n",
       "    <tr>\n",
       "      <th>3</th>\n",
       "      <td>еще было 7 салатиков</td>\n",
       "      <td>Ну, Настюша, ну рукодельница, это ж когда ты т...</td>\n",
       "    </tr>\n",
       "    <tr>\n",
       "      <th>4</th>\n",
       "      <td>Пирог яблочный sour cream apple pie</td>\n",
       "      <td>Хочу подтвердить, что пирог необычайно вкусен!!!</td>\n",
       "    </tr>\n",
       "    <tr>\n",
       "      <th>5</th>\n",
       "      <td>Селедка под шубой</td>\n",
       "      <td>селедочка под шубой</td>\n",
       "    </tr>\n",
       "  </tbody>\n",
       "</table>\n",
       "</div>"
      ],
      "text/plain": [
       "                           fist_phrase  \\\n",
       "1                   Христос рождается!   \n",
       "2                     Пампушки с маком   \n",
       "3                 еще было 7 салатиков   \n",
       "4  Пирог яблочный sour cream apple pie   \n",
       "5                    Селедка под шубой   \n",
       "\n",
       "                                               reply  \n",
       "1                                    славімо його!!!  \n",
       "2  Terry, а можно, пожалуйста, рецепт пампушек, о...  \n",
       "3  Ну, Настюша, ну рукодельница, это ж когда ты т...  \n",
       "4   Хочу подтвердить, что пирог необычайно вкусен!!!  \n",
       "5                                селедочка под шубой  "
      ]
     },
     "execution_count": 13,
     "metadata": {},
     "output_type": "execute_result"
    }
   ],
   "source": [
    "final_df.head()"
   ]
  },
  {
   "cell_type": "code",
   "execution_count": 14,
   "metadata": {
    "collapsed": true
   },
   "outputs": [],
   "source": [
    "final_df.to_csv(\"ALL_DIALOGUES.csv\", sep = \"\\t\", index = False)"
   ]
  },
  {
   "cell_type": "code",
   "execution_count": 15,
   "metadata": {},
   "outputs": [
    {
     "data": {
      "text/html": [
       "<div>\n",
       "<style scoped>\n",
       "    .dataframe tbody tr th:only-of-type {\n",
       "        vertical-align: middle;\n",
       "    }\n",
       "\n",
       "    .dataframe tbody tr th {\n",
       "        vertical-align: top;\n",
       "    }\n",
       "\n",
       "    .dataframe thead th {\n",
       "        text-align: right;\n",
       "    }\n",
       "</style>\n",
       "<table border=\"1\" class=\"dataframe\">\n",
       "  <thead>\n",
       "    <tr style=\"text-align: right;\">\n",
       "      <th></th>\n",
       "      <th>fist_phrase</th>\n",
       "      <th>reply</th>\n",
       "    </tr>\n",
       "  </thead>\n",
       "  <tbody>\n",
       "    <tr>\n",
       "      <th>0</th>\n",
       "      <td>Христос рождается!</td>\n",
       "      <td>славімо його!!!</td>\n",
       "    </tr>\n",
       "    <tr>\n",
       "      <th>1</th>\n",
       "      <td>Пампушки с маком</td>\n",
       "      <td>Terry, а можно, пожалуйста, рецепт пампушек, о...</td>\n",
       "    </tr>\n",
       "    <tr>\n",
       "      <th>2</th>\n",
       "      <td>еще было 7 салатиков</td>\n",
       "      <td>Ну, Настюша, ну рукодельница, это ж когда ты т...</td>\n",
       "    </tr>\n",
       "    <tr>\n",
       "      <th>3</th>\n",
       "      <td>Пирог яблочный sour cream apple pie</td>\n",
       "      <td>Хочу подтвердить, что пирог необычайно вкусен!!!</td>\n",
       "    </tr>\n",
       "    <tr>\n",
       "      <th>4</th>\n",
       "      <td>Селедка под шубой</td>\n",
       "      <td>селедочка под шубой</td>\n",
       "    </tr>\n",
       "  </tbody>\n",
       "</table>\n",
       "</div>"
      ],
      "text/plain": [
       "                           fist_phrase  \\\n",
       "0                   Христос рождается!   \n",
       "1                     Пампушки с маком   \n",
       "2                 еще было 7 салатиков   \n",
       "3  Пирог яблочный sour cream apple pie   \n",
       "4                    Селедка под шубой   \n",
       "\n",
       "                                               reply  \n",
       "0                                    славімо його!!!  \n",
       "1  Terry, а можно, пожалуйста, рецепт пампушек, о...  \n",
       "2  Ну, Настюша, ну рукодельница, это ж когда ты т...  \n",
       "3   Хочу подтвердить, что пирог необычайно вкусен!!!  \n",
       "4                                селедочка под шубой  "
      ]
     },
     "execution_count": 15,
     "metadata": {},
     "output_type": "execute_result"
    }
   ],
   "source": [
    "read_final_df = pd.read_csv(\"ALL_DIALOGUES.csv\", sep = \"\\t\")\n",
    "read_final_df.head()"
   ]
  },
  {
   "cell_type": "code",
   "execution_count": 16,
   "metadata": {},
   "outputs": [
    {
     "name": "stdout",
     "output_type": "stream",
     "text": [
      "<class 'pandas.core.frame.DataFrame'>\n",
      "RangeIndex: 112711 entries, 0 to 112710\n",
      "Data columns (total 2 columns):\n",
      "fist_phrase    112693 non-null object\n",
      "reply          112710 non-null object\n",
      "dtypes: object(2)\n",
      "memory usage: 1.7+ MB\n"
     ]
    }
   ],
   "source": [
    "read_final_df.info()"
   ]
  },
  {
   "cell_type": "code",
   "execution_count": 105,
   "metadata": {},
   "outputs": [
    {
     "data": {
      "text/plain": [
       "('идейку стащила У Оли имбирь с киви.', 'дарёнка03')"
      ]
     },
     "execution_count": 105,
     "metadata": {},
     "output_type": "execute_result"
    }
   ],
   "source": [
    "ind = 9666\n",
    "\n",
    "read_final_df['fist_phrase'][ind], read_final_df['reply'][ind]"
   ]
  }
 ],
 "metadata": {
  "kernelspec": {
   "display_name": "Python 3",
   "language": "python",
   "name": "python3"
  },
  "language_info": {
   "codemirror_mode": {
    "name": "ipython",
    "version": 3
   },
   "file_extension": ".py",
   "mimetype": "text/x-python",
   "name": "python",
   "nbconvert_exporter": "python",
   "pygments_lexer": "ipython3",
   "version": "3.6.2"
  }
 },
 "nbformat": 4,
 "nbformat_minor": 2
}
