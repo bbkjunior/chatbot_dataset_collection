{
 "cells": [
  {
   "cell_type": "code",
   "execution_count": null,
   "metadata": {},
   "outputs": [],
   "source": [
    "from gensim.models.keyedvectors import FastTextKeyedVectors\n",
    "\n",
    "import pandas as pd\n",
    "from os import listdir\n",
    "from os.path import isfile, join\n",
    "\n",
    "import progressbar\n",
    "import time"
   ]
  },
  {
   "cell_type": "code",
   "execution_count": null,
   "metadata": {},
   "outputs": [],
   "source": [
    "fasttext = FastTextKeyedVectors.load(\"./FASTTEXT//araneum_none_fasttextcbow_300_5_2018.model\")"
   ]
  },
  {
   "cell_type": "code",
   "execution_count": null,
   "metadata": {},
   "outputs": [],
   "source": [
    "food_word = ['кушать','покушать','еда','пища','блюдо','суп','пир','питье',\n",
    "             'выпивка' ,'закуска','жратва','угощение','лакомство','ужин','завтрак','напиток',\n",
    "            'щи','каша','борщ','похлебка','свинина','говядина','пирог','квашеный','котлета','мясо','баранина','курятина',\n",
    "            'овощ', 'фрукт']\n",
    "\n",
    "def detect_food(line):\n",
    "\"\"\"проходим по каждому слову строки, если есть слово близкое к еде, то вовзращаем соответствующую отметку\"\"\"\n",
    "    try:\n",
    "        words = line.split()\n",
    "    except:\n",
    "        return False, None\n",
    "    for word in words:\n",
    "        for food in  food_word:\n",
    "            try:\n",
    "                sim = fasttext.similarity(word, food)\n",
    "                if(sim > 0.8):\n",
    "                    print(line, \":\",word,  food, sim)\n",
    "                    food_stc = [line, word, food]\n",
    "                    return True, food_stc\n",
    "            except:\n",
    "                pass\n",
    "                \n",
    "    return False, None"
   ]
  },
  {
   "cell_type": "code",
   "execution_count": null,
   "metadata": {},
   "outputs": [],
   "source": [
    "def get_food_dialogues(cleaned_text, lemm_text, debug = False):\n",
    "\n",
    "    bar = progressbar.ProgressBar(maxval=len(lemm_text),\n",
    "                                  widgets=[progressbar.Bar('=', '[', ']'), ' ', progressbar.Percentage()])\n",
    "    bar.start()\n",
    "    lines = 0\n",
    "\n",
    "    dialogues_phrases = []\n",
    "    current_phrase = []\n",
    "    similarity_dict = []\n",
    "    add_response_next_iter = False\n",
    "\n",
    "    ITERATION = 0\n",
    "\n",
    "    stop = 0\n",
    "\n",
    "    for line, orig_line in zip(lemm_text, cleaned_text):\n",
    "        #print(line, orig_line, ITERATION)\n",
    "        if(add_response_next_iter):\n",
    "            if(debug): print(\"SECOND:\", orig_line, ITERATION)\n",
    "            current_phrase.append(orig_line)\n",
    "            dialogues_phrases.append(current_phrase)\n",
    "            assert (len(current_phrase) == 2)\n",
    "            add_response_next_iter = False\n",
    "            current_phrase = []\n",
    "            \n",
    "        \n",
    "        add_response_next_iter, similarity = detect_food(line)\n",
    "\n",
    "        if(similarity):\n",
    "            if(debug):\n",
    "                print(similarity, ITERATION)\n",
    "                print(line, orig_line, ITERATION)\n",
    "            similarity_dict.append(similarity)\n",
    "\n",
    "        if(add_response_next_iter):\n",
    "            if(debug): print(\"FIRST:\", orig_line, ITERATION)\n",
    "            current_phrase.append(orig_line)\n",
    "            assert (len(current_phrase) == 1)\n",
    "\n",
    "        ITERATION += 1\n",
    "\n",
    "\n",
    "        lines += 1\n",
    "        bar.update(lines)\n",
    "        time.sleep(0.1)\n",
    "        \n",
    "    return dialogues_phrases"
   ]
  },
  {
   "cell_type": "code",
   "execution_count": null,
   "metadata": {},
   "outputs": [],
   "source": [
    "all_subs_dialogues = []\n",
    "for sub_df in listdir(\"./sub/proessed_subs/\"):\n",
    "    path_to_df = join(\"./sub/proessed_subs/\",sub_df)\n",
    "    print(\"NOW PROCESSING\",path_to_df)\n",
    "    try:\n",
    "        df = pd.read_csv(path_to_df, sep='\\t', encoding='cp1251')\n",
    "        film_phrases = get_food_dialogues(df['cleaned_text'], df['lemm_text'], debug = True)\n",
    "        all_subs_dialogues.extend(film_phrases)\n",
    "    except:\n",
    "        print(\"FILE_READING_FAILED\")\n",
    "        pass"
   ]
  },
  {
   "cell_type": "code",
   "execution_count": null,
   "metadata": {},
   "outputs": [],
   "source": [
    "def save_dialogues(dialogues, line_number):\n",
    "    fist_phrase = [phrase[0] for phrase in dialogues]\n",
    "    reply = [phrase[1] for phrase in dialogues]\n",
    "    dialogues_df = pd.DataFrame(\n",
    "    {'fist_phrase': fist_phrase,\n",
    "     'reply': reply,\n",
    "    })\n",
    "    df_name = \"dialogues_from_subs.csv\"\n",
    "    dialogues_df.to_csv(df_name, sep='\\t', encoding='utf-8', index=False)"
   ]
  },
  {
   "cell_type": "code",
   "execution_count": null,
   "metadata": {},
   "outputs": [],
   "source": [
    "save_dialogues(all_subs_dialogues, \"all_rest\")"
   ]
  }
 ],
 "metadata": {
  "kernelspec": {
   "display_name": "Python 3",
   "language": "python",
   "name": "python3"
  },
  "language_info": {
   "codemirror_mode": {
    "name": "ipython",
    "version": 3
   },
   "file_extension": ".py",
   "mimetype": "text/x-python",
   "name": "python",
   "nbconvert_exporter": "python",
   "pygments_lexer": "ipython3",
   "version": "3.6.4"
  }
 },
 "nbformat": 4,
 "nbformat_minor": 2
}
