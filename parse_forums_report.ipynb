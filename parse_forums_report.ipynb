{
 "cells": [
  {
   "cell_type": "code",
   "execution_count": null,
   "metadata": {
    "collapsed": true
   },
   "outputs": [],
   "source": [
    "from bs4 import BeautifulSoup \n",
    "import requests \n",
    "\n",
    "import re\n",
    "\n",
    "import time\n",
    "import random"
   ]
  },
  {
   "cell_type": "markdown",
   "metadata": {},
   "source": [
    "В ДАННОМ НОУТБУКЕ В УДОБОЧИТАЕМОМ ВИДЕ ПОКАЗАН ПРОЦЕСС ПОЛУЧЕНИЯ ДАННЫХ С САЙТА. КОД ЗАПУСКАЛСЯ ИЗ ДРУГИХ НОУТБУКОВ, КОТОРЫЕ НАХОДЯТСЯ В ПАПКЕ DRAFTS"
   ]
  },
  {
   "cell_type": "markdown",
   "metadata": {},
   "source": [
    "# ЗАДАЕМ ФУНКЦИЮ ДЛЯ ИЗВЛЕЧЕНИЯ ЦИТАТ И ОТВЕТ НА ЦИТАТЫ НА САЙТЕ https://forum.say7.info/cat14.html"
   ]
  },
  {
   "cell_type": "code",
   "execution_count": null,
   "metadata": {
    "collapsed": true
   },
   "outputs": [],
   "source": [
    "def extract_dialogue(url, debug = False):\n",
    "    page = requests.get(url)\n",
    "    page_source = page.content\n",
    "    soup = BeautifulSoup(page_source)\n",
    "    #if debug == True: print(soup)\n",
    "    dialogues = []\n",
    "    curr_dial = []\n",
    "    add_response = False\n",
    "    for line in soup.get_text().split(\"\\n\"):\n",
    "        if debug == True: print(line)\n",
    "        cleaned_line = re.sub(' +', ' ', line)\n",
    "        cleaned_line = cleaned_line.strip()\n",
    "\n",
    "\n",
    "        if(add_response and cleaned_line):\n",
    "            if debug == True: print(\"REPLY DETECTED\")\n",
    "            curr_dial.append(cleaned_line)\n",
    "            add_response = False\n",
    "\n",
    "            assert (len(curr_dial) == 2)\n",
    "            dialogues.append(curr_dial)\n",
    "            curr_dial = []\n",
    "\n",
    "        if \"писал(а):\" in cleaned_line:\n",
    "            start_quote_info = cleaned_line.index(\"писал(а):\")\n",
    "            if debug == True: print(\"FIRST PHRASE DETECTED\")\n",
    "            add_response = True\n",
    "            if debug == True: print(cleaned_line[start_quote_info + 10:])\n",
    "            curr_dial.append(cleaned_line[start_quote_info + 10:])\n",
    "        if debug == True: print(\"==========\")\n",
    "    return dialogues\n",
    "    \n",
    "lk = 'https://forum.say7.info/topic95678.html'\n",
    "extract_dialogue(lk, debug = False)"
   ]
  },
  {
   "cell_type": "markdown",
   "metadata": {},
   "source": [
    "# ПРЕДВАРИТЕЛЬНО СОБИРАЕМ ССЫЛКИ НА ОБСУЖДЕНИЯ РЕЦЕПТОВ С ПЕРВЫХ 50-ТИ СТРАНИЦ КАЖДОЙ ТЕМЫ"
   ]
  },
  {
   "cell_type": "code",
   "execution_count": null,
   "metadata": {
    "collapsed": true
   },
   "outputs": [],
   "source": [
    "def get_recipies_links(forum_link, page_range):\n",
    "    recipies_links = []\n",
    "    fisrt_page = [None]\n",
    "    pages = [25 * i for i in range(1, page_range)]\n",
    "    all_pages_ind = fisrt_page + pages\n",
    "    \n",
    "    substring_index = forum_link.index(\".html\")\n",
    "    \n",
    "    for ind in all_pages_ind:\n",
    "        time.sleep(10 + random.randint(1,10))\n",
    "        \n",
    "        if(ind):\n",
    "            forum_link = forum_link[:substring_index] + \"-\" + str(ind) + \".html\"\n",
    "        else:\n",
    "            forum_link = forum_link\n",
    "\n",
    "        #print(forum_link)\n",
    "\n",
    "        r = requests.get(forum_link)\n",
    "\n",
    "        forum_index =forum_link.split(\"/\")[-1]\n",
    "        forum_list = BeautifulSoup(r.content)\n",
    "        for link in forum_list.find_all(\"a\", href = True):\n",
    "            if link.text: \n",
    "                lk = link['href']\n",
    "                if(\"topic\" in lk and \"topics\" not in lk):\n",
    "                    updated_link = forum_link.replace(forum_index, lk)\n",
    "                    #print(\"LINK\", updated_link)\n",
    "                    recipies_links.append(updated_link)\n",
    "    return recipies_links"
   ]
  },
  {
   "cell_type": "code",
   "execution_count": null,
   "metadata": {
    "collapsed": true
   },
   "outputs": [],
   "source": [
    "topics_links_basic = get_recipies_links(\"https://forum.say7.info/forum12.html\", 2 )\n",
    "topics_links_vypechka = get_recipies_links(\"https://forum.say7.info/forum68.html\", 50)\n",
    "topics_links_first = get_recipies_links(\"https://forum.say7.info/forum64.html\", 50)\n",
    "topics_links_second = get_recipies_links(\"https://forum.say7.info/forum65.html\", 50)\n",
    "topics_links_fish = get_recipies_links(\"https://forum.say7.info/forum74.html\", 50)\n",
    "topics_links_desert = get_recipies_links(\"https://forum.say7.info/forum69.html\", 50)\n",
    "topics_links_porridge = get_recipies_links(\"https://forum.say7.info/forum70.html\", 50)"
   ]
  },
  {
   "cell_type": "code",
   "execution_count": null,
   "metadata": {
    "collapsed": true
   },
   "outputs": [],
   "source": [
    "def get_dialogues_from_links_list(links_list):\n",
    "    bar = progressbar.ProgressBar(maxval=len(links_list),\n",
    "                                  widgets=[progressbar.Bar('=', '[', ']'), ' ', \n",
    "                                           progressbar.Percentage()])\n",
    "    bar.start()\n",
    "    lines = 0\n",
    "\n",
    "    dialogues = []\n",
    "    for link in links_list:\n",
    "        time.sleep(10 + random.randint(1,10))\n",
    "        curr_dialogues = extract_dialogue(link)\n",
    "        if(lines%10 == 0): print(curr_dialogues)\n",
    "        dialogues.extend(curr_dialogues)\n",
    "        \n",
    "        lines += 1\n",
    "        bar.update(lines)\n",
    "        sleep(0.1) \n",
    "    return dialogues"
   ]
  },
  {
   "cell_type": "code",
   "execution_count": null,
   "metadata": {
    "collapsed": true
   },
   "outputs": [],
   "source": [
    "basic = get_recipies_links(topics_links_basic)\n",
    "vypechka = get_recipies_links(topics_links_vypechka)\n",
    "first = get_recipies_links(topics_links_first)\n",
    "second = get_recipies_links(topics_links_second)\n",
    "fish = get_recipies_links(topics_links_fish)\n",
    "desert = get_recipies_links(topics_links_desert)\n",
    "porridge = get_recipies_links(topics_links_porridge)"
   ]
  },
  {
   "cell_type": "code",
   "execution_count": null,
   "metadata": {
    "collapsed": true
   },
   "outputs": [],
   "source": [
    "def save_dialogues(dialogues, df_name):\n",
    "    fist_phrase = [phrase[0] for phrase in dialogues]\n",
    "    reply = [phrase[1] for phrase in dialogues]\n",
    "    dialogues_df = pd.DataFrame(\n",
    "    {'fist_phrase': fist_phrase,\n",
    "     'reply': reply,\n",
    "    })\n",
    "    df_name = \"second.csv\"\n",
    "    dialogues_df.to_csv(df_name, sep='\\t', encoding='utf-8', index=False)"
   ]
  },
  {
   "cell_type": "code",
   "execution_count": null,
   "metadata": {
    "collapsed": true
   },
   "outputs": [],
   "source": [
    "save_dialogues(basic,\"basic.csv\")\n",
    "save_dialogues(vypechka,\"vypechka\")\n",
    "save_dialogues(first,\"first.csv\")\n",
    "save_dialogues(second,\"second.csv\")\n",
    "save_dialogues(fish,\"fish.csv\")\n",
    "save_dialogues(desert,\"desert.csv\")\n",
    "save_dialogues(porridge,\"porridge.csv\")"
   ]
  },
  {
   "cell_type": "code",
   "execution_count": null,
   "metadata": {
    "collapsed": true
   },
   "outputs": [],
   "source": []
  },
  {
   "cell_type": "code",
   "execution_count": null,
   "metadata": {
    "collapsed": true
   },
   "outputs": [],
   "source": []
  }
 ],
 "metadata": {
  "kernelspec": {
   "display_name": "Python 3",
   "language": "python",
   "name": "python3"
  },
  "language_info": {
   "codemirror_mode": {
    "name": "ipython",
    "version": 3
   },
   "file_extension": ".py",
   "mimetype": "text/x-python",
   "name": "python",
   "nbconvert_exporter": "python",
   "pygments_lexer": "ipython3",
   "version": "3.6.2"
  }
 },
 "nbformat": 4,
 "nbformat_minor": 2
}
