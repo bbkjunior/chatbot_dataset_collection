{
  "nbformat": 4,
  "nbformat_minor": 0,
  "metadata": {
    "colab": {
      "name": "Untitled2.ipynb",
      "version": "0.3.2",
      "provenance": []
    },
    "kernelspec": {
      "name": "python3",
      "display_name": "Python 3"
    }
  },
  "cells": [
    {
      "metadata": {
        "id": "_ezGN3zZw4A8",
        "colab_type": "code",
        "colab": {}
      },
      "cell_type": "code",
      "source": [
        "from bs4 import BeautifulSoup \n",
        "import requests \n",
        "\n",
        "import re\n",
        "\n",
        "import time\n",
        "import random\n",
        "import progressbar\n",
        "\n",
        "import pandas as pd"
      ],
      "execution_count": 0,
      "outputs": []
    },
    {
      "metadata": {
        "id": "FpFMHAr-w7fl",
        "colab_type": "code",
        "colab": {
          "resources": {
            "http://localhost:8080/nbextensions/google.colab/files.js": {
              "data": "Ly8gQ29weXJpZ2h0IDIwMTcgR29vZ2xlIExMQwovLwovLyBMaWNlbnNlZCB1bmRlciB0aGUgQXBhY2hlIExpY2Vuc2UsIFZlcnNpb24gMi4wICh0aGUgIkxpY2Vuc2UiKTsKLy8geW91IG1heSBub3QgdXNlIHRoaXMgZmlsZSBleGNlcHQgaW4gY29tcGxpYW5jZSB3aXRoIHRoZSBMaWNlbnNlLgovLyBZb3UgbWF5IG9idGFpbiBhIGNvcHkgb2YgdGhlIExpY2Vuc2UgYXQKLy8KLy8gICAgICBodHRwOi8vd3d3LmFwYWNoZS5vcmcvbGljZW5zZXMvTElDRU5TRS0yLjAKLy8KLy8gVW5sZXNzIHJlcXVpcmVkIGJ5IGFwcGxpY2FibGUgbGF3IG9yIGFncmVlZCB0byBpbiB3cml0aW5nLCBzb2Z0d2FyZQovLyBkaXN0cmlidXRlZCB1bmRlciB0aGUgTGljZW5zZSBpcyBkaXN0cmlidXRlZCBvbiBhbiAiQVMgSVMiIEJBU0lTLAovLyBXSVRIT1VUIFdBUlJBTlRJRVMgT1IgQ09ORElUSU9OUyBPRiBBTlkgS0lORCwgZWl0aGVyIGV4cHJlc3Mgb3IgaW1wbGllZC4KLy8gU2VlIHRoZSBMaWNlbnNlIGZvciB0aGUgc3BlY2lmaWMgbGFuZ3VhZ2UgZ292ZXJuaW5nIHBlcm1pc3Npb25zIGFuZAovLyBsaW1pdGF0aW9ucyB1bmRlciB0aGUgTGljZW5zZS4KCi8qKgogKiBAZmlsZW92ZXJ2aWV3IEhlbHBlcnMgZm9yIGdvb2dsZS5jb2xhYiBQeXRob24gbW9kdWxlLgogKi8KKGZ1bmN0aW9uKHNjb3BlKSB7CmZ1bmN0aW9uIHNwYW4odGV4dCwgc3R5bGVBdHRyaWJ1dGVzID0ge30pIHsKICBjb25zdCBlbGVtZW50ID0gZG9jdW1lbnQuY3JlYXRlRWxlbWVudCgnc3BhbicpOwogIGVsZW1lbnQudGV4dENvbnRlbnQgPSB0ZXh0OwogIGZvciAoY29uc3Qga2V5IG9mIE9iamVjdC5rZXlzKHN0eWxlQXR0cmlidXRlcykpIHsKICAgIGVsZW1lbnQuc3R5bGVba2V5XSA9IHN0eWxlQXR0cmlidXRlc1trZXldOwogIH0KICByZXR1cm4gZWxlbWVudDsKfQoKLy8gTWF4IG51bWJlciBvZiBieXRlcyB3aGljaCB3aWxsIGJlIHVwbG9hZGVkIGF0IGEgdGltZS4KY29uc3QgTUFYX1BBWUxPQURfU0laRSA9IDEwMCAqIDEwMjQ7Ci8vIE1heCBhbW91bnQgb2YgdGltZSB0byBibG9jayB3YWl0aW5nIGZvciB0aGUgdXNlci4KY29uc3QgRklMRV9DSEFOR0VfVElNRU9VVF9NUyA9IDMwICogMTAwMDsKCmZ1bmN0aW9uIF91cGxvYWRGaWxlcyhpbnB1dElkLCBvdXRwdXRJZCkgewogIGNvbnN0IHN0ZXBzID0gdXBsb2FkRmlsZXNTdGVwKGlucHV0SWQsIG91dHB1dElkKTsKICBjb25zdCBvdXRwdXRFbGVtZW50ID0gZG9jdW1lbnQuZ2V0RWxlbWVudEJ5SWQob3V0cHV0SWQpOwogIC8vIENhY2hlIHN0ZXBzIG9uIHRoZSBvdXRwdXRFbGVtZW50IHRvIG1ha2UgaXQgYXZhaWxhYmxlIGZvciB0aGUgbmV4dCBjYWxsCiAgLy8gdG8gdXBsb2FkRmlsZXNDb250aW51ZSBmcm9tIFB5dGhvbi4KICBvdXRwdXRFbGVtZW50LnN0ZXBzID0gc3RlcHM7CgogIHJldHVybiBfdXBsb2FkRmlsZXNDb250aW51ZShvdXRwdXRJZCk7Cn0KCi8vIFRoaXMgaXMgcm91Z2hseSBhbiBhc3luYyBnZW5lcmF0b3IgKG5vdCBzdXBwb3J0ZWQgaW4gdGhlIGJyb3dzZXIgeWV0KSwKLy8gd2hlcmUgdGhlcmUgYXJlIG11bHRpcGxlIGFzeW5jaHJvbm91cyBzdGVwcyBhbmQgdGhlIFB5dGhvbiBzaWRlIGlzIGdvaW5nCi8vIHRvIHBvbGwgZm9yIGNvbXBsZXRpb24gb2YgZWFjaCBzdGVwLgovLyBUaGlzIHVzZXMgYSBQcm9taXNlIHRvIGJsb2NrIHRoZSBweXRob24gc2lkZSBvbiBjb21wbGV0aW9uIG9mIGVhY2ggc3RlcCwKLy8gdGhlbiBwYXNzZXMgdGhlIHJlc3VsdCBvZiB0aGUgcHJldmlvdXMgc3RlcCBhcyB0aGUgaW5wdXQgdG8gdGhlIG5leHQgc3RlcC4KZnVuY3Rpb24gX3VwbG9hZEZpbGVzQ29udGludWUob3V0cHV0SWQpIHsKICBjb25zdCBvdXRwdXRFbGVtZW50ID0gZG9jdW1lbnQuZ2V0RWxlbWVudEJ5SWQob3V0cHV0SWQpOwogIGNvbnN0IHN0ZXBzID0gb3V0cHV0RWxlbWVudC5zdGVwczsKCiAgY29uc3QgbmV4dCA9IHN0ZXBzLm5leHQob3V0cHV0RWxlbWVudC5sYXN0UHJvbWlzZVZhbHVlKTsKICByZXR1cm4gUHJvbWlzZS5yZXNvbHZlKG5leHQudmFsdWUucHJvbWlzZSkudGhlbigodmFsdWUpID0+IHsKICAgIC8vIENhY2hlIHRoZSBsYXN0IHByb21pc2UgdmFsdWUgdG8gbWFrZSBpdCBhdmFpbGFibGUgdG8gdGhlIG5leHQKICAgIC8vIHN0ZXAgb2YgdGhlIGdlbmVyYXRvci4KICAgIG91dHB1dEVsZW1lbnQubGFzdFByb21pc2VWYWx1ZSA9IHZhbHVlOwogICAgcmV0dXJuIG5leHQudmFsdWUucmVzcG9uc2U7CiAgfSk7Cn0KCi8qKgogKiBHZW5lcmF0b3IgZnVuY3Rpb24gd2hpY2ggaXMgY2FsbGVkIGJldHdlZW4gZWFjaCBhc3luYyBzdGVwIG9mIHRoZSB1cGxvYWQKICogcHJvY2Vzcy4KICogQHBhcmFtIHtzdHJpbmd9IGlucHV0SWQgRWxlbWVudCBJRCBvZiB0aGUgaW5wdXQgZmlsZSBwaWNrZXIgZWxlbWVudC4KICogQHBhcmFtIHtzdHJpbmd9IG91dHB1dElkIEVsZW1lbnQgSUQgb2YgdGhlIG91dHB1dCBkaXNwbGF5LgogKiBAcmV0dXJuIHshSXRlcmFibGU8IU9iamVjdD59IEl0ZXJhYmxlIG9mIG5leHQgc3RlcHMuCiAqLwpmdW5jdGlvbiogdXBsb2FkRmlsZXNTdGVwKGlucHV0SWQsIG91dHB1dElkKSB7CiAgY29uc3QgaW5wdXRFbGVtZW50ID0gZG9jdW1lbnQuZ2V0RWxlbWVudEJ5SWQoaW5wdXRJZCk7CiAgaW5wdXRFbGVtZW50LmRpc2FibGVkID0gZmFsc2U7CgogIGNvbnN0IG91dHB1dEVsZW1lbnQgPSBkb2N1bWVudC5nZXRFbGVtZW50QnlJZChvdXRwdXRJZCk7CiAgb3V0cHV0RWxlbWVudC5pbm5lckhUTUwgPSAnJzsKCiAgY29uc3QgcGlja2VkUHJvbWlzZSA9IG5ldyBQcm9taXNlKChyZXNvbHZlKSA9PiB7CiAgICBpbnB1dEVsZW1lbnQuYWRkRXZlbnRMaXN0ZW5lcignY2hhbmdlJywgKGUpID0+IHsKICAgICAgcmVzb2x2ZShlLnRhcmdldC5maWxlcyk7CiAgICB9KTsKICB9KTsKCiAgY29uc3QgY2FuY2VsID0gZG9jdW1lbnQuY3JlYXRlRWxlbWVudCgnYnV0dG9uJyk7CiAgaW5wdXRFbGVtZW50LnBhcmVudEVsZW1lbnQuYXBwZW5kQ2hpbGQoY2FuY2VsKTsKICBjYW5jZWwudGV4dENvbnRlbnQgPSAnQ2FuY2VsIHVwbG9hZCc7CiAgY29uc3QgY2FuY2VsUHJvbWlzZSA9IG5ldyBQcm9taXNlKChyZXNvbHZlKSA9PiB7CiAgICBjYW5jZWwub25jbGljayA9ICgpID0+IHsKICAgICAgcmVzb2x2ZShudWxsKTsKICAgIH07CiAgfSk7CgogIC8vIENhbmNlbCB1cGxvYWQgaWYgdXNlciBoYXNuJ3QgcGlja2VkIGFueXRoaW5nIGluIHRpbWVvdXQuCiAgY29uc3QgdGltZW91dFByb21pc2UgPSBuZXcgUHJvbWlzZSgocmVzb2x2ZSkgPT4gewogICAgc2V0VGltZW91dCgoKSA9PiB7CiAgICAgIHJlc29sdmUobnVsbCk7CiAgICB9LCBGSUxFX0NIQU5HRV9USU1FT1VUX01TKTsKICB9KTsKCiAgLy8gV2FpdCBmb3IgdGhlIHVzZXIgdG8gcGljayB0aGUgZmlsZXMuCiAgY29uc3QgZmlsZXMgPSB5aWVsZCB7CiAgICBwcm9taXNlOiBQcm9taXNlLnJhY2UoW3BpY2tlZFByb21pc2UsIHRpbWVvdXRQcm9taXNlLCBjYW5jZWxQcm9taXNlXSksCiAgICByZXNwb25zZTogewogICAgICBhY3Rpb246ICdzdGFydGluZycsCiAgICB9CiAgfTsKCiAgaWYgKCFmaWxlcykgewogICAgcmV0dXJuIHsKICAgICAgcmVzcG9uc2U6IHsKICAgICAgICBhY3Rpb246ICdjb21wbGV0ZScsCiAgICAgIH0KICAgIH07CiAgfQoKICBjYW5jZWwucmVtb3ZlKCk7CgogIC8vIERpc2FibGUgdGhlIGlucHV0IGVsZW1lbnQgc2luY2UgZnVydGhlciBwaWNrcyBhcmUgbm90IGFsbG93ZWQuCiAgaW5wdXRFbGVtZW50LmRpc2FibGVkID0gdHJ1ZTsKCiAgZm9yIChjb25zdCBmaWxlIG9mIGZpbGVzKSB7CiAgICBjb25zdCBsaSA9IGRvY3VtZW50LmNyZWF0ZUVsZW1lbnQoJ2xpJyk7CiAgICBsaS5hcHBlbmQoc3BhbihmaWxlLm5hbWUsIHtmb250V2VpZ2h0OiAnYm9sZCd9KSk7CiAgICBsaS5hcHBlbmQoc3BhbigKICAgICAgICBgKCR7ZmlsZS50eXBlIHx8ICduL2EnfSkgLSAke2ZpbGUuc2l6ZX0gYnl0ZXMsIGAgKwogICAgICAgIGBsYXN0IG1vZGlmaWVkOiAkewogICAgICAgICAgICBmaWxlLmxhc3RNb2RpZmllZERhdGUgPyBmaWxlLmxhc3RNb2RpZmllZERhdGUudG9Mb2NhbGVEYXRlU3RyaW5nKCkgOgogICAgICAgICAgICAgICAgICAgICAgICAgICAgICAgICAgICAnbi9hJ30gLSBgKSk7CiAgICBjb25zdCBwZXJjZW50ID0gc3BhbignMCUgZG9uZScpOwogICAgbGkuYXBwZW5kQ2hpbGQocGVyY2VudCk7CgogICAgb3V0cHV0RWxlbWVudC5hcHBlbmRDaGlsZChsaSk7CgogICAgY29uc3QgZmlsZURhdGFQcm9taXNlID0gbmV3IFByb21pc2UoKHJlc29sdmUpID0+IHsKICAgICAgY29uc3QgcmVhZGVyID0gbmV3IEZpbGVSZWFkZXIoKTsKICAgICAgcmVhZGVyLm9ubG9hZCA9IChlKSA9PiB7CiAgICAgICAgcmVzb2x2ZShlLnRhcmdldC5yZXN1bHQpOwogICAgICB9OwogICAgICByZWFkZXIucmVhZEFzQXJyYXlCdWZmZXIoZmlsZSk7CiAgICB9KTsKICAgIC8vIFdhaXQgZm9yIHRoZSBkYXRhIHRvIGJlIHJlYWR5LgogICAgbGV0IGZpbGVEYXRhID0geWllbGQgewogICAgICBwcm9taXNlOiBmaWxlRGF0YVByb21pc2UsCiAgICAgIHJlc3BvbnNlOiB7CiAgICAgICAgYWN0aW9uOiAnY29udGludWUnLAogICAgICB9CiAgICB9OwoKICAgIC8vIFVzZSBhIGNodW5rZWQgc2VuZGluZyB0byBhdm9pZCBtZXNzYWdlIHNpemUgbGltaXRzLiBTZWUgYi82MjExNTY2MC4KICAgIGxldCBwb3NpdGlvbiA9IDA7CiAgICB3aGlsZSAocG9zaXRpb24gPCBmaWxlRGF0YS5ieXRlTGVuZ3RoKSB7CiAgICAgIGNvbnN0IGxlbmd0aCA9IE1hdGgubWluKGZpbGVEYXRhLmJ5dGVMZW5ndGggLSBwb3NpdGlvbiwgTUFYX1BBWUxPQURfU0laRSk7CiAgICAgIGNvbnN0IGNodW5rID0gbmV3IFVpbnQ4QXJyYXkoZmlsZURhdGEsIHBvc2l0aW9uLCBsZW5ndGgpOwogICAgICBwb3NpdGlvbiArPSBsZW5ndGg7CgogICAgICBjb25zdCBiYXNlNjQgPSBidG9hKFN0cmluZy5mcm9tQ2hhckNvZGUuYXBwbHkobnVsbCwgY2h1bmspKTsKICAgICAgeWllbGQgewogICAgICAgIHJlc3BvbnNlOiB7CiAgICAgICAgICBhY3Rpb246ICdhcHBlbmQnLAogICAgICAgICAgZmlsZTogZmlsZS5uYW1lLAogICAgICAgICAgZGF0YTogYmFzZTY0LAogICAgICAgIH0sCiAgICAgIH07CiAgICAgIHBlcmNlbnQudGV4dENvbnRlbnQgPQogICAgICAgICAgYCR7TWF0aC5yb3VuZCgocG9zaXRpb24gLyBmaWxlRGF0YS5ieXRlTGVuZ3RoKSAqIDEwMCl9JSBkb25lYDsKICAgIH0KICB9CgogIC8vIEFsbCBkb25lLgogIHlpZWxkIHsKICAgIHJlc3BvbnNlOiB7CiAgICAgIGFjdGlvbjogJ2NvbXBsZXRlJywKICAgIH0KICB9Owp9CgpzY29wZS5nb29nbGUgPSBzY29wZS5nb29nbGUgfHwge307CnNjb3BlLmdvb2dsZS5jb2xhYiA9IHNjb3BlLmdvb2dsZS5jb2xhYiB8fCB7fTsKc2NvcGUuZ29vZ2xlLmNvbGFiLl9maWxlcyA9IHsKICBfdXBsb2FkRmlsZXMsCiAgX3VwbG9hZEZpbGVzQ29udGludWUsCn07Cn0pKHNlbGYpOwo=",
              "ok": true,
              "headers": [
                [
                  "content-type",
                  "application/javascript"
                ]
              ],
              "status": 200,
              "status_text": ""
            }
          },
          "base_uri": "https://localhost:8080/",
          "height": 74
        },
        "outputId": "9f0df54c-5400-4784-dc6e-98d6204d0ef4"
      },
      "cell_type": "code",
      "source": [
        "from google.colab import files\n",
        "uploaded = files.upload()"
      ],
      "execution_count": 14,
      "outputs": [
        {
          "output_type": "display_data",
          "data": {
            "text/html": [
              "\n",
              "     <input type=\"file\" id=\"files-b1242749-cfca-42fa-a162-7df0827a2b6f\" name=\"files[]\" multiple disabled />\n",
              "     <output id=\"result-b1242749-cfca-42fa-a162-7df0827a2b6f\">\n",
              "      Upload widget is only available when the cell has been executed in the\n",
              "      current browser session. Please rerun this cell to enable.\n",
              "      </output>\n",
              "      <script src=\"/nbextensions/google.colab/files.js\"></script> "
            ],
            "text/plain": [
              "<IPython.core.display.HTML object>"
            ]
          },
          "metadata": {
            "tags": []
          }
        },
        {
          "output_type": "stream",
          "text": [
            "Saving first.txt to first.txt\n"
          ],
          "name": "stdout"
        }
      ]
    },
    {
      "metadata": {
        "id": "cZpCdR0LxEKJ",
        "colab_type": "code",
        "colab": {
          "base_uri": "https://localhost:8080/",
          "height": 139
        },
        "outputId": "cfbd1872-2eef-42c0-ca31-12e0b888d186"
      },
      "cell_type": "code",
      "source": [
        "def extract_dialogue(url, debug = False):\n",
        "    page = requests.get(url)\n",
        "    page_source = page.content\n",
        "    soup = BeautifulSoup(page_source)\n",
        "    #if debug == True: print(soup)\n",
        "    dialogues = []\n",
        "    curr_dial = []\n",
        "    add_response = False\n",
        "    for line in soup.get_text().split(\"\\n\"):\n",
        "        if debug == True: print(line)\n",
        "            \n",
        "        cleaned_line = re.sub(' +', ' ', line)\n",
        "        cleaned_line = cleaned_line.strip()\n",
        "\n",
        "        if(add_response and cleaned_line):\n",
        "            if debug == True: print(\"REPLY DETECTED\")\n",
        "\n",
        "            if \"писал(а):\" in cleaned_line:\n",
        "                start_quote_info = cleaned_line.index(\"писал(а):\")\n",
        "                curr_dial.append(cleaned_line[start_quote_info + 10:])\n",
        "            else:\n",
        "                curr_dial.append(cleaned_line)\n",
        "                \n",
        "            add_response = False\n",
        "            assert (len(curr_dial) == 2)\n",
        "            dialogues.append(curr_dial)\n",
        "            curr_dial = []\n",
        "\n",
        "        if \"писал(а):\" in cleaned_line:\n",
        "            start_quote_info = cleaned_line.index(\"писал(а):\")\n",
        "            if debug == True: print(\"FIRST PHRASE DETECTED\")\n",
        "            add_response = True\n",
        "            if debug == True: print(cleaned_line[start_quote_info + 10:])\n",
        "            curr_dial.append(cleaned_line[start_quote_info + 10:])\n",
        "        if debug == True: print(\"==========\")\n",
        "    return dialogues\n",
        "    \n",
        "lk = 'https://forum.say7.info/topic95678.html'\n",
        "extract_dialogue(lk, debug = False)"
      ],
      "execution_count": 3,
      "outputs": [
        {
          "output_type": "execute_result",
          "data": {
            "text/plain": [
              "[['Ой как вкусно ,спасибо',\n",
              "  'Леночка! Действительно, очень вкусно! Крем замечательный и все вместе великолепно сочетается!'],\n",
              " ['Красота, а чем можно ликер заменить? Сироп подойдет? Классная идея с миндалем. Бум печь. Спасибо.',\n",
              "  'Аленушка! Думаю, ликер ничем нельзя заменить. Сироп не белый и консистенция у него другая. Если не можешь или не хочешь с ликером, оставь бисквит по рецепту, а крем сделай любой на свое усмотрение. Просто именно с маковой начинкой и этим кремом рулет получается таким, какой есть, а при замене будет совершенно новый рецепт и другой вкус.'],\n",
              " ['Поищу безалкогольный ликер, их тоже не мало продают.',\n",
              "  'Никогда о таких не слышала! Удачи тебе, Аленушка, в поисках и вкусного рулета!!!']]"
            ]
          },
          "metadata": {
            "tags": []
          },
          "execution_count": 3
        }
      ]
    },
    {
      "metadata": {
        "id": "yEpW7D8hxG8d",
        "colab_type": "code",
        "colab": {}
      },
      "cell_type": "code",
      "source": [
        "first = []\n",
        "with  open(\"first.txt\",\"r\", encoding = \"utf-8\") as f:\n",
        "    for link in f.readlines():\n",
        "        first.append(link[:-1])"
      ],
      "execution_count": 0,
      "outputs": []
    },
    {
      "metadata": {
        "id": "CtuKwNDtxLB0",
        "colab_type": "code",
        "colab": {
          "base_uri": "https://localhost:8080/",
          "height": 34
        },
        "outputId": "ccf70281-53ce-42a0-fdce-201a91fd71ac"
      },
      "cell_type": "code",
      "source": [
        "first[0]"
      ],
      "execution_count": 16,
      "outputs": [
        {
          "output_type": "execute_result",
          "data": {
            "text/plain": [
              "'https://forum.say7.info/topic95699.html'"
            ]
          },
          "metadata": {
            "tags": []
          },
          "execution_count": 16
        }
      ]
    },
    {
      "metadata": {
        "id": "YCKyM7I2xNw0",
        "colab_type": "code",
        "colab": {
          "base_uri": "https://localhost:8080/",
          "height": 34
        },
        "outputId": "268c7c00-70e7-428f-bd31-9698ba0faf8d"
      },
      "cell_type": "code",
      "source": [
        "len(first)"
      ],
      "execution_count": 17,
      "outputs": [
        {
          "output_type": "execute_result",
          "data": {
            "text/plain": [
              "2323"
            ]
          },
          "metadata": {
            "tags": []
          },
          "execution_count": 17
        }
      ]
    },
    {
      "metadata": {
        "id": "CzrcI_cjxP8O",
        "colab_type": "code",
        "colab": {}
      },
      "cell_type": "code",
      "source": [
        "def get_dialogues_from_links_list(links_list):\n",
        "    bar = progressbar.ProgressBar(maxval=len(links_list),\n",
        "                                  widgets=[progressbar.Bar('=', '[', ']'), ' ', \n",
        "                                           progressbar.Percentage()])\n",
        "    bar.start()\n",
        "    lines = 0\n",
        "\n",
        "    dialogues = []\n",
        "    for link in links_list:\n",
        "        time.sleep(5 + random.randint(1,5))\n",
        "        curr_dialogues = extract_dialogue(link)\n",
        "        if(lines%50 == 0): print(curr_dialogues)\n",
        "        dialogues.extend(curr_dialogues)\n",
        "        \n",
        "        lines += 1\n",
        "        bar.update(lines)\n",
        "        time.sleep(0.1) \n",
        "    return dialogues"
      ],
      "execution_count": 0,
      "outputs": []
    },
    {
      "metadata": {
        "id": "o2NxfZTKxVvd",
        "colab_type": "code",
        "colab": {
          "base_uri": "https://localhost:8080/",
          "height": 853
        },
        "outputId": "7aebb10b-7ef5-465a-9d08-28383901829b"
      },
      "cell_type": "code",
      "source": [
        "first_dialogues = get_dialogues_from_links_list(first)"
      ],
      "execution_count": 18,
      "outputs": [
        {
          "output_type": "stream",
          "text": [
            "\r                                                                               \r\r[                                                                        ] N/A%"
          ],
          "name": "stderr"
        },
        {
          "output_type": "stream",
          "text": [
            "[['Просто идеальный бульон, основа. Спасибо за рецепт!', 'Многодетная мама на аве больше похожа на школьницу'], ['Хороший бульон! и описание подробное а что даёт горчица-паста? Она растворяется в итоге в бульоне?', 'Спасибо ))))'], ['Наташенька!', 'Nataliya_Yourevna']]\n"
          ],
          "name": "stdout"
        },
        {
          "output_type": "stream",
          "text": [
            "\r                                                                               \r\r[                                                                        ]   1%"
          ],
          "name": "stderr"
        },
        {
          "output_type": "stream",
          "text": [
            "[['А картофель не жесковат получается? Варить вместе с томатами......', 'А вообще -то суп должен вкусным быть. Сочетание фасоли и фарша -сытно и вкусно. в закладках.'], ['тут недавно на другой твой супчик с фасолью смотрела, даже баночку фасольки прикупила, сейчас буду мучаться думать - какой лучше сделать', 'Ооооочень понравился супчик, обязательно буду делать, тем более фасоль уже есть'], ['Натуль, ну один в один - мексиканский суп Чили, только он без картофеля. Так что знаем, знаем супчик очень вкусный!', 'да,Леночка,ты права,совсем небольшое отступление'], ['только сегодня приготовила Яночкин \"Кавказский\" суп, а теперь и ты предлагаешь нам', 'я вот тоже скоро до Яниного супа доберусь,шикарное блюдо'], ['Правда сейчас я положу фасоль собственного урожая (впервые всерьез ее посадила', 'оооо,супер,фасолька со своего огорода(или дачи?)мЯчта поэта!'], ['уже приготовила твою Туршу, через пару дней должна быть готова)', 'Спасибо за супец! его супчиком назвать язык не поворачивается, такой он солидный и основательный.'], ['Спасибо за супец! его супчиком назвать язык не поворачивается, такой он солидный и основательный.', 'спасибо,Оленька за комплименты в адрес супа'], ['не перестаю удивляться вашим рецептам!!! Все такие аппетитные и удачные сразу хочется приготовить и попробовать', 'Ритонька,спасибо,что заходишь'], ['каждый раз, когда ты предлагаешь новый вкуснющий (даже без сомнений!!!) суп, я поражаюсь - казалось бы, что еще можно нового приготовить на первое? Ан нет - КАКОЙ суп обалденный Пора мне заводить отдельную тему для', 'Яночка,ну спасибо тебе,ты знаешь как поднять настроение!'], ['я тебе очень благодарна за такое многообразие идей - люблю супы, люблю их готовить, только иногда заморачиваюсь с идеями, а ты просто не даешь мне впасть в уныние!', 'и тебе спасибо за то,что заходишь и пишешь,я всегда тебе рада!'], ['Яночка,ну спасибо тебе,ты знаешь как поднять настроение!', 'Наташа, писала совершенно искренне, на эмоциях'], ['но это при готовке,а стоит попробовать на вкус,понимаю-отличие есть и вкус совершенно другой', 'Дааа, даже борщи все варят по-разному!'], ['можно просмотреть рецепт,но приготовить свой суп,с небольшими отступлениями', 'В случае с твоими супами мне даже совсем не хочется ничего менять!'], ['даже борщи все варят по-разному!', 'ооо,борщи это вообще отдельная тема,да такая интересная и увлекательная'], ['случае с твоими супами мне даже совсем не хочется ничего менять', 'спасибо,Яночка!'], ['фасоли в банках нету есть сырая фасолька...если её варить в бульйоне думаю хуже вкус не станет?', 'конечно не станет,будет так же вкусно'], ['правда у меня не было красной фасольки. делала только с белой', 'это не главное,одного вида тоже достаточно'], ['С пылу с жару фотки получились неочень. запотевал объектив', 'отличные фотки!'], ['спасибо за простой и вкусный супчик от всей семьи', 'на здоровье!'], ['кидай жребий,не ошибешься', 'Ну вот и кинула, и не прогадала'], ['Наташа, суп необыкновенно вкусный, ароматный, сытный', 'Благодаря тебе у меня в семье стали есть супчики и фасоль, я ей вполне заменяю картошку, которую муж не ест'], ['Переписала супчик себе в тетрадочку, с удовольствием буду такой делать, спасибо за твои рецепты', 'и тебе спасибо за отзыв,за наиаппетитнейшие фото...ну из а доверие,которое ты оказываешь моим рецептам.'], ['Марин,а супец твой,скажу я тебе,до того красивый получился.Ну очень аппетит разыгрывается,глядя на него.', 'Спасибо Наташ , так приятно']]\n"
          ],
          "name": "stdout"
        },
        {
          "output_type": "stream",
          "text": [
            "[==                                                                      ]   3%"
          ],
          "name": "stderr"
        },
        {
          "output_type": "stream",
          "text": [
            "[['спасибочки Натусечка', 'попробуем обязательно'], ['лапшу варю,она такая нежная', 'а соус отдельно,томатный,типа моего к спагетти'], ['Натуся я постоянно стала покупать эту лапшичку', 'очень уж она вкусная'], ['на здоровье!', 'лапша удачная,как домашняя,не нужно заморачиваться с ее приготовлением'], ['Очень интересный супчик) Муж военный и любит суп \"Полевой\".Он с пшеном,а я пшено но никак не люблю...Зато люблю с лапшой и клецками супы.Думаю двух зайцев убью одним выстрелом', 'Оксан,попробуй конечно,может и тебе пшено в супе понравится'], ['Натуся спасибочки за вкусняшку', 'супчик такой легкий как раз в жаркое время самое то!'], ['на днях муж попросил этот супчик а лапши не было', 'я с макарошками сварила'], ['с вермешелькой вчера сварила', 'супчик так быстро варится одно наслаждение его готовить и кушать'], ['Наталья спасибо за идею и очередной очень интересный рецепт. В закладки.', 'на здоровье!'], ['да,лентяйкам на заметку', 'на здоровье,Сашуня'], ['варила недавно с лапшой и кускусом пшена не было', 'также вкусно как с пшеном'], ['можно смело пшено заменять кускусом', 'на здоровье,Саш'], ['отож я вспомнила твои супчики с пшеном и решила попробовать', 'nata69'], ['Очень очень интересно. Вот копалсся на любимом сайте, чего приготовить и на тебе Наташа ваш рецепт. Забираю и в ближайшее время обещаю дать отчёт.', 'Владимир,готовь на здоровье'], ['Natasha, muchas gracias por una gran variedad de recetas.', 'на здоровье,Владимир!']]\n"
          ],
          "name": "stdout"
        },
        {
          "output_type": "stream",
          "text": [
            "[====                                                                    ]   6%"
          ],
          "name": "stderr"
        },
        {
          "output_type": "stream",
          "text": [
            "[['Спасибо за идею, Леночка', 'Светланка, и тебе спасибо! Ходим сегодня в гости друг к другу?!'], ['Светланка, и тебе спасибо! Ходим сегодня в гости друг к другу?!', '.'], ['Кстати, я была в вашем наукограде.', 'Правда ? Я очень люблю наш город, только он уже не оправдывает своего названия... На заводах, на которых производили электротехнику и прочее, прочее, теперь пекут ватрушки, шьют детскую одежду и т.д...'], ['Я именно там впервые увидела домик \"на ножках\". Они и в Москве есть, но я до этого не замечала.', '\" Флейта \" называт его у нас...'], ['\" Флейта \" называт его у нас...', 'Почему - флейта?'], ['Почему - флейта?', 'Видимо потому, что очень длинная. Тут фото'], ['Засоряем мы темку офтопом...', 'Всё, больше не засоряем.'], ['Видимо потому, что очень длинная. Тут фото', 'Я тоже посмотрела, Света, у меня же сыночка на всём этом играет: и на флейте и на кларнете и на саксе... Да здание длинное, изящное, стройное и эти козырьки на крыше и лифтовые шахты ровным рядом, - именно как клапаны флейте.'], ['Я тоже посмотрела, Света, у меня же сыночка на всём этом играет: и на флейте и на кларнете и на саксе... Да здание длинное, изящное, стройное и эти козырьки на крыше и лифтовые шахты ровным рядом, - именно как флейте.', 'Умничка какой сыночек']]\n"
          ],
          "name": "stdout"
        },
        {
          "output_type": "stream",
          "text": [
            "\r                                                                               \r\r[=====                                                                   ]   7%"
          ],
          "name": "stderr"
        },
        {
          "output_type": "stream",
          "text": [
            "[]\n"
          ],
          "name": "stdout"
        },
        {
          "output_type": "stream",
          "text": [
            "[=======                                                                 ]  10%"
          ],
          "name": "stderr"
        },
        {
          "output_type": "stream",
          "text": [
            "[['я к тебе в гости с благодарностью и тарелочкой этой вкуснятины!', 'Люда']]\n"
          ],
          "name": "stdout"
        },
        {
          "output_type": "stream",
          "text": [
            "[=========                                                               ]  12%"
          ],
          "name": "stderr"
        },
        {
          "output_type": "stream",
          "text": [
            "[]\n"
          ],
          "name": "stdout"
        },
        {
          "output_type": "stream",
          "text": [
            "\r                                                                               \r\r[==========                                                              ]  13%"
          ],
          "name": "stderr"
        },
        {
          "output_type": "stream",
          "text": [
            "[['а у нас сегодня целый день идет снег, выпало 10см!', 'Брррррррр! В этом плане я очень счастлива - с погодой здесь получше!'], ['Какой аппетитный супчик! Да еще и с весенней витаминной нотой!!!', 'Ларисочка, очень благодарна, за теплые слова! Буду рада, если супчик понравится!'], ['Суп просто шедевр - все как мы любим - и куриный бульончик, и томат, и фасолька, наваристый такой', 'Наташенька, спасибо, что оценила мой супчик!'], ['Вот, только свежей такой сочной фасольки пока нет Снег кругом еще лежит, придется лета ждать, а уж потом', 'Я помню, когда выкладывала рецепты со свежей фасолью в прошлом году, девченки тоже огорчались, что у них это еще не появилось, рано. А у нас сейчас сезон, вот и пользуюсь моментом. Но буду надеяться, что те кому понравился суп, смогут его попробовать позже.'], ['Здоровская фотка свежей крапивы,', 'ага чудо как хороша'], ['Вот, только свежей такой сочной фасольки пока нет', 'и у нас нет не сезон'], ['Леночка,супец очень аппетитный.', 'Наташенька, спасибо! Очень приятна твоя похвала!'], ['Пупочки,три вида любимой фасоли,ароматные травки и яичный блинчик...вкуиснятина.', 'Не скрою - идея этого супа родилась у меня на основе давней любви к твоим супчикам! Так что ты, так сказать, идейный вдохновитель!'], ['Единственное не ем тыкву.Но думаю ее можно исключить или нет?Может чем заменить?', 'Наташенька, тыкву можешь исключить вообще или добавить побольше моркови.'], ['ага чудо как хороша', 'Светик, ты тоже готовишь ее иногда?'], ['и у нас нет не сезон', 'Жаль! Но сезон все же будет!'], ['свежую лимскую фасоль.', 'Леночка, на фото фасолька похожа на бобы'], ['Леночка, кааакой суп! Я просто обожаю ЛЮБУЮ фасоль! И куриные пупочки у нас в почёте! Обязательно в закладки!', 'Владочка, ну тогда с нетерпением буду ждать твой вердикт! Спасибо, что заглянула!'], ['Супчик очень понравился', 'Лерочка, я очень рада!'], ['Леночка, на фото фасолька похожа на бобы', 'А фасоль - это не бобы?! Бобы и есть! Это большая фасоль в стручках. Их надо разрезать и вылущить фасолины (бобы)'], ['А фасоль - это не бобы?!', 'Неа, фасоль - это фасоль, а бобы - это бобы'], ['Их надо разрезать и вылущить фасолины (бобы)', 'Да, знаю, у нас тоже есть блюдо с молодыми бобами, рисом и фаршем'], ['Неа, фасоль - это фасоль, а бобы - это бобы', 'Лерочка, я посмотрела в словарь фасоль переводиться на английский как bean и боб тоже bean. Потом посмотрела в Википедии. Там написано:'], ['Думаю, если варить его без мясных компонентов - будет не хуже!', 'Любочка, думаю, что будет не хуже! Попробуй!'], ['Еленочка!Ух-ты какой суп! Очень понравился!', 'Викочка, я рада, что суп понравился! Готовь на здоровье!'], ['Лерочка, я посмотрела в словарь', 'Поэтому для меня и фасоль, и горох, и бобы - это все семейство бобовых.'], ['Поэтому для меня и фасоль, и горох, и бобы - это все семейство бобовых.', 'Для меня тоже.'], ['Леночка, я же поставила смеющийся смайлик', 'Да, я видела смайлик, просто иногда в таких дискуссиях открывается что-то новое даже о казалось бы знакомых продуктах, поэтому я и покопалась в нете, проверила информацию!'], ['Светик, ты тоже готовишь ее иногда?', 'я с крапивой готовлю весной зеленый борщ -обожаю.. и только с ней его варю..не люблю с щавелем и еще с чем там варят-именно с крапивой'], ['Жаль! Но сезон все же будет!', 'ага конечно будет'], ['Светочка, мне безумно приятно, что ты заглянула и оставила свой комментарий!', 'Поэтому для меня и фасоль, и горох, и бобы - это все семейство бобовых.'], ['Поэтому для меня и фасоль, и горох, и бобы - это все семейство бобовых.', 'ну правильно. только растения разные'], ['но сути это не меняет и большой существенной разницы здесь нет. Пусть это будут бобы', 'вот что я нашла:'], ['стоит помнить, что полкило лимской фасоли по питательным свойствам сопоставимы с килограммом мяса.', 'Ого!!! Я, конечно, догадывалась, что она каллорийная. Но это растительный, а не животный белок, наверное в этом есть свой \"плюс\".'], ['мы и лимскую фасоль и бобы сами выращиваем, поэтому разница есть.', 'Таааак! Вот мы и узнаем из \"первых рук\"!'], ['что на второй фотке,', 'плоские как на 1-ой фотке'], ['плоские как на 1-ой фотке', 'Вот !!! Фасоль Лима имеет крупные, плоские, не мохнатые внутри стручки.'], ['Посмотри и сравни со своими фотками. Я думаю, разница небольшая есть. http://forum.say7.info/topic64406.html', 'Разница в размере, скорее всего она зависит от места произростания, поэтому и там и здесь у тебя бобы.'], ['Почему?', 'Не хотела \"умничать \"']]\n"
          ],
          "name": "stdout"
        },
        {
          "output_type": "stream",
          "text": [
            "[===========                                                             ]  16%"
          ],
          "name": "stderr"
        },
        {
          "output_type": "stream",
          "text": [
            "[['О,я первая,в гости пришла на супчик!', 'Вика Спасибо тебе за внимание'], ['Супчик вкусненький!Легкий!Летний!Ароматный!', 'Сама не ожидала, кабачки не очень жалую, в тушении надоели уже, а суп получился на удивление вкусным ...'], ['Таня, хороший суп!', 'Леночка Благодарю ...'], ['Вкусненький супчик, беру в закладки,', 'Лида Спасибо за внимание буду рада, если рецепт пригодится'], ['Татьяна, спасибо за супчик. Попробую в ближайшее время сделать', 'Леночка Мне очень приятно твое внимание надеюсь, что рецепт не разочарует ... удачи тебе...'], ['Очень аппетитный супчик', 'Ирочка, спасибо, что заглянула...'], ['Танечка, супец - красивейший! Улетел в закладки!', 'Олечка'], ['Очень вкусный супчик. Ароматный и легкий в приготовлении. Понравился.', 'Галочка!'], ['а если использовать корешок сельдерея, а не стебель?', 'Оля, я корень в супе никогда не использовала думаю, если есть такая необходимость, можно попробовать удачи...'], ['Вот и наконец добралась я до супа с кабачками!!', 'В этом году большой урожай кабачков, суп очень красивый и вкусный!!'], ['Сообщение\\tАвтор', 'Густой куриный суп с кабачками и сельдереем'], ['Тань, опять пришла по ссылке: Кабачковый суп с куриными фрикадельками.', 'Попробую и один и второй.'], ['Сегодня обедали Вашим супом! Очень вкусно, дети ели и урчали Спасибо за рецепт! Повторю не раз.', 'Наташа, благодарю за доверие рецепту я очень рада, что рецепт не разочаровал'], ['Очень вкусный и аппетитный супчик!!!!', 'И при этом готовится очень просто!!!!']]\n"
          ],
          "name": "stdout"
        },
        {
          "output_type": "stream",
          "text": [
            "[=============                                                           ]  19%"
          ],
          "name": "stderr"
        },
        {
          "output_type": "stream",
          "text": [
            "[['Я сама тоже признаю только такую окрошку! с кефиром не люблю и с квасом тем более) и делаю точь в точь как етот рецепт))) особенно вкусно на второй день', 'такая самая вкусная для меня - просто сметана и для кистоты - лимонная кислота) хороший рецепт не удаляйте,'], ['а я никогда и не пробовала никакой другой окрошки как с квасом. надо будет такую попробовать, делать быстро, а главное с квасом никакой мороки! надеюсь понравится! спасибо за рецепт!', 'Я раньше тоже только классическую ела, когда жила в Киргизии, а здесь такую научили делать, не жалею! Мария, надеюсь, понравится окрошечка!'], ['с кислотой,главное не переборщить,а то будет сильно кислая,лучше по чуть-чуть добавлять и пробовать', 'спасибо за рецепт На доброе здоровье, дорогая! Вереск писал(а): Приготовлю обязательно.А что плохого в лимонной кислоте?Делаю с ней свекольник-очень вкусно В колбасе и то больше вредных веществ,чем в лимонной кислоте Согласна, но есть люди больные, им нельзя, поэтому столько оговорок! Спасибо за добрый отзыв! Марти писал(а): Я тоже всегда лимонную кислоту добавляю О, Ленусь, может теперь без кефира попробуешь и понравится! Рада тебе очень!!! Наташа,Горячий Ключ писал(а): рецепт отличный!!!Я тоже практически так же и делаю!!Только помимо сметаны добавляю кефир и ложку майонеза!А заливаю не кипяченой водой,а минералкой газированной из холодильника.ОООчень вкусно!! Спасибо, дорогая! Твоим вариантом тоже воспользуюсь! Наташа,Горячий Ключ писал(а): А мы землячки практически,поэтому наверное и вкусы совпадают!!! ЗдОрово!!!'], ['спасибо за рецепт На доброе здоровье, дорогая! Вереск писал(а): Приготовлю обязательно.А что плохого в лимонной кислоте?Делаю с ней свекольник-очень вкусно В колбасе и то больше вредных веществ,чем в лимонной кислоте Согласна, но есть люди больные, им нельзя, поэтому столько оговорок! Спасибо за добрый отзыв! Марти писал(а): Я тоже всегда лимонную кислоту добавляю О, Ленусь, может теперь без кефира попробуешь и понравится! Рада тебе очень!!! Наташа,Горячий Ключ писал(а): рецепт отличный!!!Я тоже практически так же и делаю!!Только помимо сметаны добавляю кефир и ложку майонеза!А заливаю не кипяченой водой,а минералкой газированной из холодильника.ОООчень вкусно!! Спасибо, дорогая! Твоим вариантом тоже воспользуюсь! Наташа,Горячий Ключ писал(а): А мы землячки практически,поэтому наверное и вкусы совпадают!!! ЗдОрово!!!', 'Наташ, ты из Азии родом, да? Откуда?'], ['Наташ, ты из Азии родом, да? Откуда?', 'Лен,я наверное что-то напутала ???Ты из Ростова-на -Дону???'], ['Ты из Ростова-на -Дону???', 'Да-да!Из Ростова-на-Дону! Уже 20 лет здесь живу! В любом случае землячки! Это я напутала, думая, что ты родом из Азии, просто я об этом писала. Так что ты совершенно права!'], ['Уже 20 лет здесь живу! В любом случае землячки!', 'Моя подруга там живет уже лет 7-8 наверное!!!Безумно счастлива!!!Хоть у нас и шикарный город,но Ростов есть Ростов!!!'], ['Очень интересно теперь попробовать.', 'И мне тоже интересно..'], ['честно говоря, удивила Даже не знала, что так бывает . Очень интересно теперь попробовать.', 'Рецепт в закладках, спасибо'], ['моя любимая окрошка - на воде. Привет, моя дорогая!', 'Поэтому поклонники твоей окрошечки обязательно найдутся,'], ['Поэтому поклонники твоей окрошечки обязательно найдутся,', 'молодец, что выставила рецептик. Спасибо! Угощайся Julliet писал(а): И мне тоже интересно..'], ['молодец, что выставила рецептик. Спасибо! Угощайся Julliet писал(а): И мне тоже интересно..', 'Леночка,честно признатся я вообще никогда окрошку не готовила,вот летом и попробуем Попробуй, Юлечка! Спасибо, что заглянула! Надеюсь, не разочарует окрошка!'], ['теперь обязательно твою попробую !!!', 'Ирочка, дорогая, спасибо, что зашла! Попробуй, окрошечка вкусная!'], ['Лен, готовим такую же окрошку! Другую не признаём! Не думала,что ещё кто-то, такую делает.', 'Ой, как здОрово!!! Ларис, и вправду эта окрошка наиболее вкусная Ну, по крайней мере, для нас! Спасибо за визит!!!!'], ['многим этот рецепт придется НЕ ПО ДУШЕ из-за лимонной кислоты,', 'Может и не придётся кому-то , но я только так и делаю! Ленусь, я вместо простой воды лью охлаждённую сильногазированную минералку, ну и дальше всё, как у тебя, накладываю в тарелочки нарезанную окрошку, сверху сметанку, сольку, лимонку минералочку и... отвал башки! Так мне нравится больше всего! Спасибо, Ленусик, что написала, может кто-то откроет для себя эту прелесть!Помню, когда мне рассказали этот рецепт, я с огромным недоверием отнеслась к нему , зато сейчас тоже рекомендую всем'], ['я только так и делаю!', 'и... отвал башки! Вот-вот!!! Мы совпадаем!!!!! graNATKA писал(а): может кто-то откроет для себя эту прелесть! Очень на это надеюсь!!! graNATKA писал(а): сейчас тоже рекомендую всем Спасибо, моя дорогая, за поддержку!!!! античная роза писал(а): Такую еще не делала, обязательно приготовлю и расскажу про впечатления мужа ИРОЧКА! Спасибо тебе за доверие!!!! Думаю, что не разочаруется твоя вторая половинка! Рада тебе несказанно!!!!!'], ['и... отвал башки! Вот-вот!!! Мы совпадаем!!!!! graNATKA писал(а): может кто-то откроет для себя эту прелесть! Очень на это надеюсь!!! graNATKA писал(а): сейчас тоже рекомендую всем Спасибо, моя дорогая, за поддержку!!!! античная роза писал(а): Такую еще не делала, обязательно приготовлю и расскажу про впечатления мужа ИРОЧКА! Спасибо тебе за доверие!!!! Думаю, что не разочаруется твоя вторая половинка! Рада тебе несказанно!!!!!', 'корделия']]\n"
          ],
          "name": "stdout"
        },
        {
          "output_type": "stream",
          "text": [
            "[===============                                                         ]  21%"
          ],
          "name": "stderr"
        },
        {
          "output_type": "stream",
          "text": [
            "[['Вот это - щи, всем ща ЩИ! Я такие ела у моих родичей, живущих в Вологодской губернии, да ещё в русской печке приготовленные! Умирать буду - не забуду, какие вкуснющие!', 'А у меня этот рецепт щей из Тверской губернии.'], ['папа про такие рассказывал - его брат с женой из Нижнего Новгорода такие щи готовили, говорил, что вкуснятина.........', 'Никогда не поверю. Родина этих щей - Великий Новгород, а не Нижний. Проблема от того, что все путают эти 2 города.'], ['Родина этих щей - Великий Новгород, а не Нижний.', 'Ой буду громко спорить, извините. Родина этих щей - Россия. И все города туда. Наши родственники по Ярославской, Владимирской, Костромской, Ивановской и т.д. областям считают их своими родными исконными. Приятно, что и Wladislaus ими так ревностно гордится.'], ['Я родом из Тверской области. У нас там это самое первое блюдо.', 'Спасибо большое Мариночка, что поддержала, а то я до сих пор успокоится не могу:'], ['Родина этих щей - Великий Новгород', 'Везде их Родина, по всей России и за её пределами, даже в Украине и Белоруссии, там, где есть славяне. Приятного Всем аппетита!'], ['я родом с новгородской обл и очень их люблю, у нас здесь все заготавливают крошево с весны, а зимой наслаждаются щами', 'Ой, объясните пожалуйста как весной можно эту щаницу (Ваше крошево) заготовить? Капуста осенью созревает и листья зелёные соответственно. Не слыхала о весенней заготовке, очень интересно.'], ['Во класс!!! Мне папа про такие рассказывал - его брат с женой из Нижнего Новгорода такие щи готовили, говорил, что вкуснятина.........', 'Но вот как это крошево правильно готовить, я не знаю']]\n"
          ],
          "name": "stdout"
        },
        {
          "output_type": "stream",
          "text": [
            "\r                                                                               \r\r[================                                                        ]  22%"
          ],
          "name": "stderr"
        },
        {
          "output_type": "stream",
          "text": [
            "[['Надеюсь любителям блюд из тыквы этот суп понравится.', 'Вот две тыквы что-то никак не пристроить (правда, одна не совсем тыква - фицефалия ). Как раз для супа и подойдут Оля, спасибо за рецепт'], ['Придется ждать следующего сезона', 'Неужели на рынках бабулечки не продают тыквы?'], ['Когда будет возможность купить тыкву,', 'Что в Германи это пробюлема?'], ['Вот две тыквы что-то никак не пристроить (', 'Валюшь ...ну пора их пристроить в супчик'], ['обязательнопопробую', 'good luck!!'], ['Взяла на заметку!', 'Это правильно'], ['за подробный рецептик!!!', 'Всегда пожалуйста'], ['А я еще ни разу не пробовала суп из тыквы, все каши, да каши', 'Леночка....советую попробовать.. ..суп и каша абсолютно разные веши'], ['только вот можно сливки чем-то заменить?', 'Кончно можно. Можно просто на бульоне сделать или добавить молока, или сл.масла....на твой вкус']]\n"
          ],
          "name": "stdout"
        },
        {
          "output_type": "stream",
          "text": [
            "[==================                                                      ]  25%"
          ],
          "name": "stderr"
        },
        {
          "output_type": "stream",
          "text": [
            "[['ну я тоже не так давно стала их варить', '2 кг мяса?'], ['Много пельмешек получилось.Я их малюсенькими делаю как твои.Так намного удобнее варить замораживать и кушать.', 'Три больших пакета заморозила.Варить не переварить.'], ['', 'молодчина!'], ['начинка какая?', 'я последнюю партию замороженных использовала'], ['начинка мясная, но на мой вкус: никакая.', 'так что в суп как раз можно использовать'], ['Какая тарелочка вкусняцкая.Я на неделе варила супчик.Не перестану благодарить тебя Натуся за супы с пельмешками.Это шедевральные рецепты.', 'мне самой они нравятся'], ['я нашла блюдо на завтра , спасибо', 'на здоровье и вкусного супа'], ['фасоль белая -1 банка', 'Очень люблю фасолевые супы. Спасибо, Наташа!'], ['бросить натертый на крупной терке картофель', 'Наташ, что дает натертый картофель? Никогда не натирала.'], ['Вот что подумала может мне самой сделать?', 'Наверняка есть такой рецептик.'], ['Очень вкусный, сытный супчик!', 'Наталочка, спасибо тебе огромное за твои замечательные рецептики - с удовольствием использую их для разнообразия своего семейного меню!']]\n"
          ],
          "name": "stdout"
        },
        {
          "output_type": "stream",
          "text": [
            "[====================                                                    ]  27%"
          ],
          "name": "stderr"
        },
        {
          "output_type": "stream",
          "text": [
            "[['пасибо за рецептик. Супчек очень,очень,вкусный nyam2 good2 Вот мой отчёт', 'Танюша холодничок супер!!!!!!!']]\n"
          ],
          "name": "stdout"
        },
        {
          "output_type": "stream",
          "text": [
            "\r                                                                               \r\r[====================                                                    ]  29%"
          ],
          "name": "stderr"
        },
        {
          "output_type": "stream",
          "text": [
            "[['Я первая на тарелочку!!!!!!!!!', 'Вот куда я пристрою грибочки обжаренные'], ['Наташа, всё-таки, Ты - королева супов!', 'Любаша,давно тебя не видела'], ['Наташа Какой аппетитный суп!! Признаюсь честно,никогда не варила перловку Как её правильно варить? В детстве я любила перловую кашу а вот варить её так и не научилась,стыдно', 'Юленька,спасибо,что заглянула'], ['для супов я ее очень хорошо промываю и варю в большом количестве воды до готовности,а затем промываю холодной водой и в конце добавляю в суп', 'я бы тоже не додумалась сварить ее отдельно. Кинула бы прямо в кастрюлю.'], ['Спасибо, Наташа. что делишься с нами секретиками', 'Это же Наташа! Поэтому все получается по её рецептам.'], ['вам должно понравиться,вон и грибочки уже поджарены', 'Наточка, спасибо!'], ['я бы тоже не додумалась сварить ее отдельно. Кинула бы прямо в кастрюлю.', 'Спасибо, Наташа. что делишься с нами секретиками'], ['Это же Наташа! Поэтому все получается по её рецептам.', 'Натуль, прочла рецептик и поняла, что я этот суп уже готовила и отчетик тебе относила на \"Суп со свининой, мелкой пастой и перловкой\", я тогда как-раз туда грибы и приплюсовала! Так что супец вкусняцкий!'], ['Натуль, прочла рецептик и поняла, что я этот суп уже готовила и отчетик тебе относила на \"Суп со свининой, мелкой пастой и перловкой\", я тогда как-раз туда грибы и приплюсовала! Так что супец вкусняцкий!', 'да,Леночка,я когда его увидела,полезла в свои рецепты,проверить'], ['Наточка, спасибо!', 'уже приготовила'], ['уже и попробовала?', 'а главный дегустатор,интересно,что скажет'], ['Наташ, суп вкусный! Съели по тарелочки с аппетитом!', 'Как так и должно быть'], ['а ты,кстати,похожий уже варила', 'раньше который выкладывала'], ['Натуся супчик как всегда на высоте', 'я тоже варила тот другой'], ['вижу грибочки сельдерейчик любимый', 'чтото я корень никогда не вижу только стебли'], ['завтра докуплю недостающих продуктов и испробую', 'фоточки хочется скушать'], ['чтото я корень никогда не вижу только стебли', 'а у меня как раз корень частенько бывает на кухне'], ['а у меня как раз корень частенько бывает на кухне', 'везет!'], ['на рынке смотрела нету', 'странно!']]\n"
          ],
          "name": "stdout"
        },
        {
          "output_type": "stream",
          "text": [
            "[======================                                                  ]  31%"
          ],
          "name": "stderr"
        },
        {
          "output_type": "stream",
          "text": [
            "[]\n"
          ],
          "name": "stdout"
        },
        {
          "output_type": "stream",
          "text": [
            "[========================                                                ]  34%"
          ],
          "name": "stderr"
        },
        {
          "output_type": "stream",
          "text": [
            "[['купырь', 'Таня, подскажите пожалуйста, что это такое?!'], ['вот в России он как то не распространён.', 'Ага-сь, с купырём у нас явно здесь проблемы, здесь он только как сорняк выращивается, как я понимаю ... У нас на даче он тоже есть, судя по картинкам с инета, уж я его выпалываю, в поте лица ! Ну а если без него, уже что-то потеряется, какая-то изюминка? Ну, это я на случай, если бысто вылететь к тебе не удастся ?'], ['Таня,а фины вообще гостеприимны? А то у меня тут знакомый рассказывал,что пришли в гости,а девочка-финка вытащила старую варёную картошку на стол,нате,мол,ешьте.Ну,а наши,как водится,водки принесли Ну ты даёшь! Вон у Танюшки какие рецептики есть, зашибись ! (Такие-то \"гостеприимные\" и у нас найдутся) Я по её рецептикам что готовила - всё классно! (оба салата с тунцом готовила, мексиканский и с сёмгой, как раз есть несколько фоток, надо выложить со спасибом!) Потому и борщик очень уж хочу попробовать, технология-то несколько другая... Интересно!', 'alena-solena'], ['Хочу заметить !!! Борщ обсолютно без картошки !!!!! и на маложирном фарше, а значит довольно лёгкий супчик, по сравнению с русским борщём !!! и готовиться быстрее, так как не надо так долго варить мясо.', 'ТАня, а это самое интересное...не люблю бульон варить']]\n"
          ],
          "name": "stdout"
        },
        {
          "output_type": "stream",
          "text": [
            "\r                                                                               \r\r[=========================                                               ]  35%"
          ],
          "name": "stderr"
        },
        {
          "output_type": "stream",
          "text": [
            "[['Обязательно попробуем!!!!!', 'Надеюсь, что понравится'], ['Спасибо за рецептик!', 'Малгося, на здоровье'], ['Как же это вкусно!!!!!!!!', 'Да, Мариш, вкусно и просто готовится'], ['Спасибо милая!!!!!!!', 'За такое простое и вкусное блюдо!!!!!!!'], ['Лерочка, спасибо еще за один ливанский рецепт!!!', 'Натали, рада, что понравилось На здоровье'], ['Валерия, главное просто!!!! Здорово! Очень аппетитно!!', 'На здоровье'], ['Лера, суп должен понравиться моему мужу', 'Татьяна, я тоже думаю, что должен. Суп очень простой, а приправы можно добавить по вкусу.'], ['Спасибо', 'На здоровье Очень рада, что заглянула ко мне на супец'], ['Лер, принимай отчет:', 'Ксюнчик, приняла, приняла Классный отчёт'], ['Очень вкусно, я в этом и не сомневалась', 'Спасибо, дорогая'], ['Опять же подавала как второе блюдо, очень сочно получилось, соус вкуснейший Спасибо огромное!', 'Еще один рецепт, прочно засевщий в мой арсенал'], ['Еще один рецепт, прочно засевщий в мой арсенал', 'Очень приятно читать такие слова И я так рада, что рецепт у тебя прижился Спасибо тебе за доверие'], ['Валерия, вчера готовила ваше росто - очень вкусно!', 'Юличка !!! Как же я этому рада И давай плиииз на \"ты\", а то мне не ловко как-то'], ['Только я немного извратилась и совместила этот рецепт с другим вашим рецептом \"стручковой фасоли по-ливански\", то есть все сделала точно по рецепту росто, но в кастрюлю с курицей и картошкой добавила эту самую стручковую фасоль + 1 свежий помидорчик. Специально достала такие же специи, как у вас, только здесь это называется All Spice, но состав тот же, я проверила. И последнее отступление, у нас получился такой вкусный бульон, что мы это блюдо ели как супчик без риса, надеюсь от всех этих моих излишеств мое блюдо не стало менее ливанским?', 'Спасибо вам за рецепт, очень он нам понравился'], ['Спасибо вам за рецепт, очень он нам понравился', 'На здоровье и причтного аппетита Спасибо тебе, что доверилась моим рецептам'], ['Лерочка, мне просто так хотелось приготовить оба этих рецепта - росто и фасольку, и чтобы оба сразу, что я и решилась на все эти вольности. Посчитала, что раз в рецепте с фасолькой есть помидорка, то и росто она не должна испортить. Однозначно без специй совсем другой бы вкус получился, они придают блюду изюминку.', 'Главное, что результат понравился Два в одном получилось'], ['Это тебе спасибо за твои интересные и вкусные рецепты', 'И тебе спасибо за комплимент, очень приятно'], ['И хоммус твой тоже, кстати, делали, очень вкусно!', 'На здоровье'], ['Благодаря твоим рецептам я теперь знаю, что я очень люблю ливанскую кухню', 'Это хорошо, Ливанская кухня и правда, очень интересная И между прочим, в Лондоне есть Ливанский ресторан, называется \"Маруж\". У нас тут поговаривают, что каждую неделю для самой королевы там еду заказывают.'], ['Надо же! А я как-то английскую королеву больше себе с чаем представляю, чем с хоммусом', 'А если серьезно, то по гугл не смогла я этот ресторан в Лондоне найти'], ['А если серьезно, то по гугл не смогла я этот ресторан в Лондоне найти', 'И я тоже, сейчас посмотрела и не нашла А у нас в Ливане его по TV рекламируют'], ['Но я бы не удивилась, что заказывают, это же так вкусно', 'Что верно, то верно. У нас не далеко от дома есть кафешка, там очень даже приличная кухня, так вот говорят, что хозяин этой кафешки специально ездил в Лондон в начале своей карьеры устраиваться на работу в этот ресторан, чтобы научиться всем секретам тамошней кухни. И теперь, действительно, у него всегда полно народу потому что вкусная еда.'], ['Может, весь этот ресторан с его поварами в Букингемский Дворец перезезли по требованию Ее Величества, вот и не найти его теперь', 'Может быть'], ['А почему рис без вермишелек?', 'А потому, что стараемся как можно меньше есть жареного'], ['но это наверно на вкус на цвет...', 'Ну вот видите, Вы сами все прекрасно понимаете'], ['На фото смотрю томатная паста иранского производства, я тоже ее абажаю, вот где действительно вкусная весч, из нее томатный сок даже вкусный получается', 'Неееет, сок нужно делать только из собственно приготовленной томатной пасты'], ['Тут такие помидоры продают... Не знаю даже смеющийся смайлик поставить или плачущий? ))) что я предпочитаю иранскую пасту, чем собственно-приготовленную из бледных и пресных помидор', 'Что и летом разве тоже бледные ???? Помоему летние помидоры очень даже ничего.']]\n"
          ],
          "name": "stdout"
        },
        {
          "output_type": "stream",
          "text": [
            "[===========================                                             ]  38%"
          ],
          "name": "stderr"
        },
        {
          "output_type": "stream",
          "text": [
            "[['Джанго', 'ах катенька какой вкусный и легкий супчик...на днях приготовлю....а заменить пармезан не пробовала?'], ['Джанго', 'спасибо катюш постараюсь найти пармезан ( иногда нам посылают пармезан из италии но вот сейчас его нет у нас, поэтому спросила'], ['Катюша, очень интересный супчик! Спасибо!', 'простенький,но очень вкусный надеюсь придется по вкусу'], ['какоф красивый супчик )))) мм ням ням', 'спасибо!!'], ['а что такое короткая некрупная паста?', 'у меня были мелкие \"рожки\"'], ['Сегодня моя семья обедала этим замечательным супчиком! Очень понравился, да и рецепт очень простой не требующий много времени. Спрасибо за замечательные рецептики.', 'очень рада что семье понравился супчик!!!!!'], ['Вкусный суп, необычный, ароматный. Я ещё добавила щепотку прованских трав, он стал ещё ароматнее', 'очень рада что супчик понравился!!!! спасибо за фото!!'], ['Только он у меня получился ну оч-ч-ень густой ! Практически как лагман. Но мужу понравилось.', 'да,этот суп густой но можно разбавить его бульоном или водичкой до привычной нам консистенции'], ['готовила сегодня супчик по вашему рецепту - очень вкусно и нежно!', 'как красиво!!! очень рада что супчик понравился!!! спасибо за чудесный фотоотчёт!!']]\n"
          ],
          "name": "stdout"
        },
        {
          "output_type": "stream",
          "text": [
            "[=============================                                           ]  40%"
          ],
          "name": "stderr"
        },
        {
          "output_type": "stream",
          "text": [
            "[['Евгений Ка, спасибо за рецептЙ это очень вкусно!', 'Готовьте на здоровье ! По некоторым причинам не могу себе сделать некоторое время, но потом оторвусь, в предвкушении лагмана на костре . Осталось уличный комплекс доделать)))'], ['в предвкушении лагмана на костре', 'на костре! вот это да!'], ['Воды очень и очень мало, я наливала и наливала, а тесто так и оставалось жёстким.', 'Тут скорее всего всего дело в муке, недостаток клейковины, поэтому воду мука и требовала. а потом и рвалось. Пропорции уже годами выверенные. А вот с мукой раньше тоже бывали проблемы, пока не нашел \"свою\" марку с которой и катаю лагман. Так что не расстраивайся'], ['А хуже что подливы пол казана, где ж теперь искать лагман...', 'О как)))! Я думал в Алмате в магазинах свободно лагманная лапша продается, у меня друг, ваш бывший земляк, привозил расфасованную в пакеты, как обычная лапша.'], ['составе есть дайкон и пекинская капуста)', 'Все допускается, что на огороде красивое растет'], ['ОМГ как же это вкусно!!!! Всем советую приготовить, проверено', 'Евгений Ка'], ['Привет Светлана! Извиняюсь что долго не отвечал, строю баню))).', 'О как)))! Я думал в Алмате в магазинах свободно лагманная лапша продается, у меня друг, ваш бывший земляк, привозил расфасованную в пакеты, как обычная лапша.'], ['тесто почему то серое получилось еще... В общем ничегл я не поняла. Из этой муки все делаю, никогда не подводила...', 'Света!Все больше к мысли склоняюсь, что дело в муке... Наверное в твой пакет по всем сусекам скребли раз еще и серое тесто получилось.'], ['Евгений а вот мой отчетик правда я без капусты и без картошки делала но получилась вкуснотища и ещё заправочка с чесноком и перцем это ч то то', 'На вид Вкуснотища'], ['это заправка типа соуса пошло 2 перца горьких и 8 долек чеснока а сто грамм масла подсолнечного и столовая ложка жгучего перца молотого', 'Ладжан по Уйгурски называется. К лагману в восточных странах как обязательная приправа идет , да и не только к лагману. Раньше в каждой столовой и чайхане наряду с солью и перцем стояла плошка.'], ['а я вот сделала горькая острая острое не люблю но заправочку кушаю с удовольствием .. Так как у нас на Украине горчица в столовых была бесплатна тоже соль перец уксус и черный хлеб ..вот были времена', 'lybovm'], ['вот были времена', 'Хорошо хоть лагман остается неизменно вкусным']]\n"
          ],
          "name": "stdout"
        },
        {
          "output_type": "stream",
          "text": [
            "[==============================                                          ]  43%"
          ],
          "name": "stderr"
        },
        {
          "output_type": "stream",
          "text": [
            "[['это классика украинской кухни', 'Не знаю... ни у нас, ни у знакомых никто так не варил. Мы попробовали. Неплохой супчик.'], ['Конечно, настоящий украинский капустняк готовится только из квашеной капусты', 'Я тоже всю жизнь знала только такой вариант, но для разнообразия буду теперь готовить и так.']]\n"
          ],
          "name": "stdout"
        },
        {
          "output_type": "stream",
          "text": [
            "\r                                                                               \r\r[===============================                                         ]  44%"
          ],
          "name": "stderr"
        },
        {
          "output_type": "stream",
          "text": [
            "[['классный супчик и готовить быстро, уже хочу.', 'Спасибо тебе'], [',я вчера сварила этот вкусный и быстрый суп.', 'Не успела оглянутся а он уже готов.'], ['Муж доволен как слон,две тарелки слопал.', 'Спасибо большое пребольшое.'], ['Видела твой супчик, даже закинула рецепт себе в закладочки, но не было времени написать отзыв и поблагодарить за очередную вкусняшку.', 'Наточка, я уже говорила тебе (в смысле - писала), что все твои супы очень соблазнительные сытные и вкусные!'], ['у Вас все такие \"стоячие\" супчики, просто сказка!', 'спасибо,Ольга!'], ['Пробовала ваш рассольник с рисом - чудо! Домашние на ура встретили. Надо теперь и с фаршем попробовать. Спасибо', 'на здоровье и удачи'], ['я сварила сегодня этот суп. Как обычно-бурные аплодисменты, переходящие а овацию!', 'Оль,привет!'], ['Несмотря на то, что до ужина еще далеко, с удовольствием съела тарелочку супа Фотографии делаю, но пока руки не доходят их выложить. Однажды отчитаюсь разом и во всех темах', 'лучшее доказательство того,что суп получился на славу!'], ['заинтиговал суп названием....ключевое слово \"по-быстрому\"', 'Оленька,ну хот название себя оправдало или провозилась?'], ['ыл фраш, грибы..да и все остальное, кроме одного из основных ингредиентов...мелкой пасты... , но почему-то это не удивительно, в моем- то случае', 'ну,у тебя же не супермаркет,чтобы все всегда было в наличии'], ['Суп получился ооочень вкусным...впрочем, как всегда...твои рецепты еще ни разу не подвели...муж поел...попросил добавки...спросил название этого чудного супчика...и сказал, чтобы я запомнила рецепт, потому что это будет тоже его любимый суп. Вот!', 'ой как здорово!'], ['себя оправдало или провозилась', 'Что ты...оправдало на все 100% хотя я и не стремилась к быстроте а просто искала, что приготовить из того , что было'], ['макарошки какие нибудь положила или исключила', 'положила немножко вермишельки- паутинки...ее даже не видно было...Спасибо еще раз, было ооочень вкусно'], ['то ты...оправдало на все 100% хотя я и не стремилась к быстроте а просто искала, что приготовить из того , что было', 'ну и отлично!'], ['положила немножко вермишельки- паутинки...ее даже не видно было', 'на здоровье,Оленька'], ['Натулечка....заинтиговал суп названием....ключевое слово \"по-быстрому\"', 'вот-вот Оленька!'], ['Вместо магазинной пасты положила готовые Шпецле', 'Спасибо за обалденный рецепт супа'], ['рада,что и этот суп не разочаровал', 'буду его еще готовить неоднократно'], ['буду его еще готовить неоднократно', 'Да с чесночком!!!! Аромат'], ['Действительно быстро, а главное - вкусно!', 'Елена, яркое фото'], ['Елена, яркое фото', 'Приготовлю на днях']]\n"
          ],
          "name": "stdout"
        },
        {
          "output_type": "stream",
          "text": [
            "[=================================                                       ]  46%"
          ],
          "name": "stderr"
        },
        {
          "output_type": "stream",
          "text": [
            "[['умеешь ты порадовать', 'Наташенька, радость, которую я тебе дарю лишь малая часть той радости, что ты даешь своими рецептами!'], ['суп - объедение!', 'Понравился очень!'], ['яркий супик получился', 'Ага!'], ['Наташенька, радость, которую я тебе дарю лишь малая часть той радости, что ты даешь своими рецептами!', 'Леночка'], ['Наташ,спасибо за эту вкуснотень!!!!! Готовлю этот суп очень часто!!!!!Еще и подруг на него \"подсадила\"', 'Ирочка,на здоровье'], ['Суп чечевичный с говядиной и лапшой.', 'решила приготовить его сегодня!'], ['решила приготовить его сегодня!', 'Бульон готов! осталось совсем немного поколдовать'], ['вкусного вам супа!', 'Натуль, вкусный , верно!'], ['Натуль, вкусный , верно!', 'щелкнула тарелочку, а фотоаппарат закапризничал.'], ['жду фотку!', 'Наточка, вкусно!'], ['Натуля,как аппетитно смотрится супец в наших красивых пиалочках', 'на здоровье вам!'], ['Наташенька какие красивые тарелочки', 'Сашенька, с барельефом'], ['Натуль, супик крупным планом', 'прелесть супец!'], ['Классный рецепт, но я говядину не куском одним положила, а порезала на маленькие кусочки.Не кажется, что так удобнее.', 'можно кусочками нарезать,можно сварить куском и потом нарезать-кому как удобно'], ['Наташа, спасибо за идею супа, очень вкусно получилось', 'на здоровье!']]\n"
          ],
          "name": "stdout"
        },
        {
          "output_type": "stream",
          "text": [
            "[===================================                                     ]  49%"
          ],
          "name": "stderr"
        },
        {
          "output_type": "stream",
          "text": [
            "[['ижу облизываюсь! Какая вкуснятинка! Приготовлю приготовлю, только наверное без порея и с желудочками. Думаю будет не хуже', 'конечно будет вкусно'], ['супчик класс буду ждать конца поста и приготовлю.', 'а то муж мой супчики не особо ест, только если со мной за компанию'], ['Наташа,обожаю твои первые блюда Суп такой аппетитный,но завтра у меня твой борщ с фрикадельками,а потом очередь дойдет и до этого супика.Спасибо тебе за твои вкусные рецепты', 'ой,Танюш,спасибо тебе огромное!'], ['ела бы я такого супца жаль семейство такое есть точно не будет', 'да,Наташ,когда семья не ест...'], ['мои наотрез отказываются от куриных потрошков, но может как нибудь уговорю попробовать', 'раз не любят,то да...даже не стоит пробовать'], ['онсервированную не признаю,а такая закончилась', 'а я последнее время грешу и в суп иногда кладу консервированную...но здесь она вкусная'], ['рикупила и белую, и красную, и тигровую', 'о,какой наборчик'], ['звездочки-это детская засыпка из твердых сортов,она мне очень нравится,не раскисает.', 'nata69']]\n"
          ],
          "name": "stdout"
        },
        {
          "output_type": "stream",
          "text": [
            "\r                                                                               \r\r[====================================                                    ]  50%"
          ],
          "name": "stderr"
        },
        {
          "output_type": "stream",
          "text": [
            "[['Анечка, как актуально для меня, спасибо!', 'На здоровье'], ['Как интересно - никогда не использовала рыбу в томате для супа, обычно в масле или собственном соку обязательно попробую, очень понравился рецепт, спасибо, Габи!', 'Спасибо за внимание к рецепту) Я однажды в детстве (совсем ребенком, лет 5) пробовала рыбный суп как раз с томатом, а потом сколько не ела рыбных супов удивлялась почему же они не похожи на \"тот рыбный из детства\", потом уже поняла, что вкус тот был именно за счет томата)'], ['2 черешка сельдерея', 'Спасибо, просто рыбный суп из консервированной рыбы готовлю.'], ['Сельдерей добавлять стала во все овощные супы.', 'Я тоже кладу сельдерей почти во все супы, кстати, после этого рыбного супа)'], ['Режем все овощи мелко, заливаем водой, доводим до кипения.', 'Когда читаешь, не все правильно осознается.'], ['ТОЛЬКО когда она обработана с маслом или жирком - я посмотрела информацию в интернете, там говорится, что морковь должна употребляться вместе с жирами, а не быть обработана. То есть для усвоения достаточно добавлять, например, в салат сметану, масло, орехи и тд', 'Я думаю, что в данном рецепте жиром может выступать рыба в которой его достаточно + в консервированной рыбе с томатом в составе есть растительное масло. Как Вы считаете?'], ['То есть в любой суп я морковь пассерую. можно ее сбрызнуть любым растительным маслом, дать постоять с полчаса', 'в консервированной рыбе с томатом в составе есть растительное масло'], ['в консервированной рыбе с томатом в составе есть растительное масло', 'На мой взгляд, морковь его и не увидит. На кастрюлю 1,5 литра 1 баночка рыбы. Сколько на эту баночку томата, а растительное масло только в томатной пасте. Рыбу никто обжаривать не будет.'], ['для усвоения достаточно добавлять, например, в салат сметану, масло, орехи', 'Сметана, масло - да, орехи - не уверена.'], ['Спасибо за рецепты, второй рецепт супа понравился', 'Мы на него подсели. Собиралась варить его, сварила Ваш. Следующий - перерыв в томате, а затем, пока у нас прохладно, все-таки его.'], ['На мой взгляд, морковь его и не увидит', 'Поняла! Спасибо!'], ['Мое дело рассказать, а Ваше решать.', 'Вам большое спасибо, что рассказали, я действительного этого не знала, теперь всегда буду пассеровать морковь']]\n"
          ],
          "name": "stdout"
        },
        {
          "output_type": "stream",
          "text": [
            "[======================================                                  ]  53%"
          ],
          "name": "stderr"
        },
        {
          "output_type": "stream",
          "text": [
            "[]\n"
          ],
          "name": "stdout"
        },
        {
          "output_type": "stream",
          "text": [
            "[========================================                                ]  55%"
          ],
          "name": "stderr"
        },
        {
          "output_type": "stream",
          "text": [
            "[['Мммммммм, сейчас в кастрюльке варится ))) Быстро, вкусно', 'Вопросик: указанное Вами выше кол-во продуктов (в граммах) на какой объем кастрюльки?'], ['Вопросик: указанное Вами выше кол-во продуктов (в граммах) на какой объем кастрюльки?', 'на кастрюльку около 5-6 литров'], ['вам большое спасибо', 'Оля и тебе спасибо за доверие к рецепту'], ['чень понравился, сегодня целый день хожу и только его и ем', 'класс,я такая радая,такая радая! (если смотрела Сваты,там моя любимая Кравченко таким образом выражает свою радость)'], ['Скоро ещё в один суп к тебе приду', 'ждемс с нетерпением!'], ['тарелочка неимоверно аппетитная,супец наваристый', 'Спасибо, дорогая, я старалась'], [',с удовольствием бы угостилась', 'Так заходи, Натуль, вместе отобедаем'], ['если смотрела Сваты,там моя любимая Кравченко таким образом выражает свою радость)', 'Неа, не смотрела Я вообще телек почти не смотрю'], ['ждемс с нетерпением!', 'Уже скоро Настроилась конкретно'], ['ак заходи, Натуль, вместе отобедаем', 'спасибо,Лерок,забегу обязательно!'], ['же скоро Настроилась конкретно', 'nata69'], ['Получается до этого чечевицу не готовила?', 'Нет, первый раз, специально съездила в супермаркет купила. Давно хотела попробовать и кстати твои супы наталкивали, уж очень аппетитные и красивые , сегодня выбрала этот, продукты все доступные. Еще с грибами и клецками хочу попробовать.'], ['Тарелочка безумно аппетитная.', 'Спасибочки!'], ['иногда делаю типа гарнира или салата...', 'Спасибо, буду пробовать!']]\n"
          ],
          "name": "stdout"
        },
        {
          "output_type": "stream",
          "text": [
            "\r                                                                               \r\r[=========================================                               ]  56%"
          ],
          "name": "stderr"
        },
        {
          "output_type": "stream",
          "text": [
            "[['Ох, какой аппетитный!', 'Спасибо, Вероника! Не только аппетитно выглядит, но и очень вкусный)'], ['', 'Борщ варится без капусты, я правильно поняла?)'], ['И снова возвращаюсь к рецепту, вчера весь день гоняла его в голове. :', 'Уж очень мне понравилась идея с домашней сметаной, но из-за нее суп только на 1 раз, верно? И мясной бульон забьет вкус супа?'], ['', 'И мясной бульон забьет вкус супа?'], ['А почему на один раз? Борщ всегда вкуснее на другой день, когда всё \"подружится\"... Надо же протушить со сметаной не меньше 3х минут, а это уже тепловая обработка, и написано, что потом добавлять зажарку в кипящий борщ. Поэтому мне кажется, что борщу и через день не грозит вспухнуть.', 'Алена, при такой тепловой обработке, конечно он не вспухнет и его можно есть на другой день) но этот борщ очень вкусен именно свежеприготовленным... у него особый аромат... а на следующий день он тоже хорош, но нет того вкусового очарования)) как-то так... это нужно пробовать)))'], ['Валенция', 'Валентина, я вчера приготовила твой чудный борщ!'], ['', 'Сознаюсь и еще в одном: когда я нарезала свеклу, то по привычке сбрызнула её сразу уксусом (чтоб цвет не ушел при варке, уж очень я люблю яркий борщ).'], ['', 'Приеду в Москву, куплю \"правильные\" продукты, учту свои ошибки и мужа накормлю вкусным борщом.))) Он супы очень уважает.'], ['Замечательный рецепт! Моим точно понравится! Спасибо, Валюша, что поделилась!', 'Галина, спасибо! Готовьте с удовольствием!'], ['Все понравилось-вы умничка,что поделились таким рецептом Честно не ожидала,что так вкусно окажется', 'Таня, спасибо! Пусть всем будет вкусно хотя, думаю, многие читая рецепт, думают: без мяса, да капусты, ну что это за борщ а на самом деле Танюша, спасибо']]\n"
          ],
          "name": "stdout"
        },
        {
          "output_type": "stream",
          "text": [
            "[==========================================                              ]  59%"
          ],
          "name": "stderr"
        },
        {
          "output_type": "stream",
          "text": [
            "[]\n"
          ],
          "name": "stdout"
        },
        {
          "output_type": "stream",
          "text": [
            "[============================================                            ]  62%"
          ],
          "name": "stderr"
        },
        {
          "output_type": "stream",
          "text": [
            "[['Да со свежей черняшечкой ...', 'Откройте секрет - что такое \"черняшечка\"?'], ['Черняшка ... это чёрный ржаной хлеб.', 'Аааааа! Ну, это самый лучший вариант к окрошке из хлебо-булочных изделий'], ['ИВАНЫЧ', 'Спасибо! Позитив на все100%!!!!!!!!!!!!!!!!!!!!'], ['просто захотелось поделиться весенним позитивом.', 'Большое СПАСИБО! Рецепт хорош, и оформление - ЗАМЕЧАТЕЛЬНОЕ!'], ['Мы пользуем, ..., из Савво-Сторожевского монастыря', 'Ну, нам так не жить!']]\n"
          ],
          "name": "stdout"
        },
        {
          "output_type": "stream",
          "text": [
            "[==============================================                          ]  64%"
          ],
          "name": "stderr"
        },
        {
          "output_type": "stream",
          "text": [
            "[['если свежие грибы, то их предварительно не обжаривать? Имеющегося времени варки им хватит?', 'Хватит, но можно и немного дополнительно обжарить - это для вкуса'], ['он - ярый консерватор, любит борщ', 'мой тоже.....был....'], ['посмотрим, что они вечером мне скажут', 'надеюсь, что все будет хорошо'], ['но попросил варить, чтобы он видел, то что ест', 'А я люблю супы - пюрешки'], ['А я люблю супы - пюрешки', 'я тоже..... и мужа приучила даже к овощным, легким'], ['чего такого добавить, чтобы молочный сохранить?', 'к сожалению, не знаю'], ['Ребёнку тоже его даю, т.к.алкоголь при нагревании испаряется и остаётся только аромат вина', 'правильно....к вкусному надо с детства приучать']]\n"
          ],
          "name": "stdout"
        },
        {
          "output_type": "stream",
          "text": [
            "\r                                                                               \r\r[===============================================                         ]  65%"
          ],
          "name": "stderr"
        },
        {
          "output_type": "stream",
          "text": [
            "[]\n"
          ],
          "name": "stdout"
        },
        {
          "output_type": "stream",
          "text": [
            "[=================================================                       ]  68%"
          ],
          "name": "stderr"
        },
        {
          "output_type": "stream",
          "text": [
            "[['Ларочка, добрый час! приготовила сегодня этот чудесный суп', 'Всё очень быстро и вкусно! Много благодаря'], ['Всё очень быстро и вкусно! Много благодаря', 'Радует, что супчик понравился. Спасибо за приятный отзыв!'], ['Радует, что супчик понравился.', 'Как же такой суп может не понравиться очень вкусный!'], ['А я вот сегодня испекла слоеный пирог с замороженным шпинатом', 'Это вкусно! А я сейчас в Болгарии, здесь банички делают из теста \"фило\", внутри брынза со шпинатом или просто один шпинат, тоже вкусно'], ['Как же такой суп может не понравиться очень вкусный', 'здесь банички делают из теста \"фило\", внутри брынза со шпинатом или просто один шпинат, тоже вкусно'], ['здесь банички делают из теста \"фило\", внутри брынза со шпинатом или просто один шпинат, тоже вкусно', 'Очень вкусная выпечка. Я даже выставила как-то рецепт баницы с сыром. http://forum.say7.info/topic74186.html'], ['Ларочка, спасибо за замечательный рецепт!', 'Супчик понравился всей семье (хотя у нас большинство не является поклонниками супов-пюре). Сначала отнеслись критически, но, попробовав, оценили по достоинству!'], ['Супчик понравился всей семье (хотя у нас большинство не является поклонниками супов-пюре). Сначала отнеслись критически, но, попробовав, оценили по достоинству!', 'Любезно разрешили внести этот рецепт в семейное меню.']]\n"
          ],
          "name": "stdout"
        },
        {
          "output_type": "stream",
          "text": [
            "[===================================================                     ]  70%"
          ],
          "name": "stderr"
        },
        {
          "output_type": "stream",
          "text": [
            "[['А шо ето за \"пипетка\"?', 'Ето не пипетка, ето клизЬма!'], ['А шо ето за \"пипетка\"?', 'Это кулинарная пипетка,ей чаще пользуются,когда мясо в духовке запекают(поливают соком) и ещё есть насадка,чтоб маринад прям в мясо как щприцом \"натыкать\"'], ['через ситечко попробую...', 'а вот это зря,лучше ложкой или половником'], ['Рада за тебя, не перестаешь удивлять!!!!!', 'А пипетка-клизьма, щось в лиси сдохло! Откуда, такая чуда-юда!'], ['А пипетка-клизьма, щось в лиси сдохло! Откуда, такая чуда-юда!', 'Я таких и не видовала Шо значит сэло'], ['Я делаю немного по-другому,но очень любим мы его', 'Да у каждой хозяйки свой рецепт'], ['Ира,', 'а в Торонто есть такие плавленные сырки,как были в той жизни в Союзе ?']]\n"
          ],
          "name": "stdout"
        },
        {
          "output_type": "stream",
          "text": [
            "\r                                                                               \r\r[===================================================                     ]  72%"
          ],
          "name": "stderr"
        },
        {
          "output_type": "stream",
          "text": [
            "[['Просто иногда руки зачешутся ... ну и .. Ну тогда и почаще Вам, чтоб это самое..., руки чесались... Так ДУШЕВНО это у Вас получается! Дааа, на форуме не так уж, чтоб много мужчин было, но зато ВСЕ, КАК НА ПОДБОР!!!! И тексты писать, и кулинарные шедевры творить... Что тут сказать, только МАСТЕР-ПОВАР!!!!', 'alena-solena'], ['Казан у меня литров на восемь', 'мой любимый размер!!']]\n"
          ],
          "name": "stdout"
        },
        {
          "output_type": "stream",
          "text": [
            "[=====================================================                   ]  74%"
          ],
          "name": "stderr"
        },
        {
          "output_type": "stream",
          "text": [
            "[['Вот и сварила!!!', 'Отлично, очень рад , что понравилось.']]\n"
          ],
          "name": "stdout"
        },
        {
          "output_type": "stream",
          "text": [
            "[=======================================================                 ]  77%"
          ],
          "name": "stderr"
        },
        {
          "output_type": "stream",
          "text": [
            "[['я снова варила этот суп', 'нам он очень нравится'], ['как раз в предпоследний день перед моей диетой', 'оторвалась как следует'], ['делала недавно мой любимый суп', 'обожаю его!'], ['и даже картофель не надо??', 'Натуль,я иногда и картошку кладу или натираю'], ['совсем забыла о моем любимом супчике', 'купила ребрышки на следующей неделе буду варить'], ['мне повезло отхватила ребрышки последние забрала', 'почему они у нас так редко бывают не понимаю'], ['да в нем самом', 'в местных то вооще нет их'], ['очень вкусный и ароматный супчик!', 'Как прочтешь рецепт, так сразу запах почувствуешь'], ['Как прочтешь рецепт, так сразу запах почувствуешь', 'ага,запах копченостей незабываем'], ['вот мы оторвались супчиком', 'погодка противная дождливая как раз в такую погоду горячий и вкусный супец надо кушать'], ['', 'не дразнись,у меня ребер нет и не будет'], ['отхватила я сегодня ребрышек в русском магазинчике', 'на неделе буду супчики варить'], ['вкусных супов,Саш', 'а второй какой?'], ['уже отчиталась', 'этот на очереди на днях сварю купила готовый нут не хочу варить'], ['nata69', 'Натуль'], ['nata69', 'Наточка, благодарю за рецепт!']]\n"
          ],
          "name": "stdout"
        },
        {
          "output_type": "stream",
          "text": [
            "\r                                                                               \r\r[========================================================                ]  78%"
          ],
          "name": "stderr"
        },
        {
          "output_type": "stream",
          "text": [
            "[['Привет Натусик! Очень вкусный суп!', 'Правда делала без жира и с обычным луком.'], ['Наташа, спасибо огромное!', 'Супец просто чудесный! Вкусный, наваристый, густой и красивый!'], ['о какой супец у Юлии и мне опять захотелось этого супчика', 'на днях сварю']]\n"
          ],
          "name": "stdout"
        },
        {
          "output_type": "stream",
          "text": [
            "[==========================================================              ]  81%"
          ],
          "name": "stderr"
        },
        {
          "output_type": "stream",
          "text": [
            "[['Какое яркое, полезное и несомненно вкусное блюдо.', 'Очень люблю овощные супы-пюре, так что взяла рецептик на заметку.'], ['тоже взяла на змаметку. спасибки', 'Не за что, угощайтесь на здоровье']]\n"
          ],
          "name": "stdout"
        },
        {
          "output_type": "stream",
          "text": [
            "[============================================================            ]  83%"
          ],
          "name": "stderr"
        },
        {
          "output_type": "stream",
          "text": [
            "[]\n"
          ],
          "name": "stdout"
        },
        {
          "output_type": "stream",
          "text": [
            "[=============================================================           ]  86%"
          ],
          "name": "stderr"
        },
        {
          "output_type": "stream",
          "text": [
            "[['В свеклу, когда она тушится, дайте сметану! Вы себе не можете представить, какая вкуснота будет!', 'Лидочка, спасибо за прекрасный совет! Обязательно им воспользуюсь.'], ['я именно так и варю \"скорый\" борщ с фрикадельками.', 'Ну, ничего себе \"скорый\"... я так долго с ним возилась... Для меня \"скорый\" - это когда овощи почистил, порезал и поочереди закидал в кипящий бульон, даже не обжариваю ничего...'], ['И опять рецепт из моего любимого журнала \"Добрые советы\".', 'А что это за журнал? Я такой ни разу не видела'], ['Одобрено мужем и дочками.', 'Это самое главное и всегда так приятно!'], ['овощи-то на любой борщ чистить надо, а для этого борщика хоть мясо 2,5 часа не варить!', 'Инночка, а я бульон варю заранее. И у меня так получается, что остаётся только овощи покидать.'], ['Свёклу в кожуре заливаю кипятком и в микроволновку на 30 минут,', 'Ин, а у нас продаётся уже отварная свекла (в вакууме) - так я её иногда покупаю и в борщ! Вот какие мы с тобой хитрые...'], ['борщик , отменный Спасибо за фрикадельки', 'Спасибо, Оленька!'], ['Ни разу с фрикадельками борщ не варила!', 'Верочка, обязательно свари! Очень вкусно!'], ['А что это за журнал? Я такой ни разу не видела', 'Валечка, это журнал издательства Бурда, посмотри здесь http://www.burda.ru/Magazine/Dsovety.aspx'], ['замечательный борщ! С фрикадельками - всегда удачный вариант', 'Людочка, спасибо!'], ['Виргиниа, ну ты столько всяких полезных мелочей знаешь!', 'Я только что скопировала Маринкин борщик - а теперь надо твое замечание добавить.'], ['Мой любимый борщ!!!! Я всегда так варю,', 'Оль, а для меня это открытие!'], ['чечевица и маш одно и то же или нет?', 'Инна, что такое маш????'], ['а если добавить болгарского перца - то болгарский борщ будет', 'Honey']]\n"
          ],
          "name": "stdout"
        },
        {
          "output_type": "stream",
          "text": [
            "\r                                                                               \r\r[==============================================================          ]  87%"
          ],
          "name": "stderr"
        },
        {
          "output_type": "stream",
          "text": [
            "[['W4era prigotowila wkusnenko polu4ilos!!!', 'Сима, очень рада, что блюдо понравилось'], ['tolko ja nemnogo kurkumi dobawlalja, 4tobi ris zheltenkim nemnozhko bil.', 'Наверное красивый рис получился А сколько вы добавляете куркумы на стакан риса ???'], ['..spasibo za rezept', 'На здоровье И вам спасибо за доверие'], ['Пропистила хороший рецепт! Обалдеть!', 'Танечка, никогда не поздо приготовить'], ['Вкусно, полезно, здрОво!', 'Пользуйся на здоровье'], ['Лерочка , очень вкусно получилось , спасибо', 'Катюша, очень рада, что блюдо понравилось Кушайте на здоровье'], ['я тоже такое готовлю-муж любит а дети нет.', 'Мои дети тоже не особо любят'], ['.А у нас молодая фасоль с кожицей готовитс', 'Ага, и у нас тоже http://forum.say7.info/topic46983.html'], ['а у Вас смотрю лущеная даже больше похожа на молодые бобы.', 'Это сорт белой крупной фасоли, у нас её молодую, недозрелую тоже собирают и готовят.'], ['Сейчас сезон молодых бобов-я их с мясом и томатной пастой готовлю-обьедение.', 'Да, очень вкусно У нас сейчас тоже во всю молодые бобы продают'], ['Спасибо что напомнили рецепт', 'Всегда пожалуйста']]\n"
          ],
          "name": "stdout"
        },
        {
          "output_type": "stream",
          "text": [
            "[================================================================        ]  89%"
          ],
          "name": "stderr"
        },
        {
          "output_type": "stream",
          "text": [
            "[]\n"
          ],
          "name": "stdout"
        },
        {
          "output_type": "stream",
          "text": [
            "[==================================================================      ]  92%"
          ],
          "name": "stderr"
        },
        {
          "output_type": "stream",
          "text": [
            "[['НО ХАРЧО ОТ ЭТОГО ХУЖЕ НЕ СТАНАВИТСЯ.', 'Конечно не становится...'], ['ЭТОТ РЕЦЕПТ МНЕ ПЕРЕДАЛА МАМА, А ЕЙ ЗНАЮ, ЧТО КАКАЯ- ТО ГРУЗИНКА ( ОНИ ЖИЛИ ПО СОСЕДСТВУ В ТБИЛИСИ). ЭТОМУ РЕЦЕПТУ УЖЕ ЛЕТ 40.', 'Риночка, с этим трудно не согласиться'], ['а что если положить туда пару картофелин?', 'тогда это будет суп с рисом'], ['он не будет слишком жидким', 'Нет, не будет, если рассчитать правильно колл-во риса.']]\n"
          ],
          "name": "stdout"
        },
        {
          "output_type": "stream",
          "text": [
            "\r                                                                               \r\r[===================================================================     ]  93%"
          ],
          "name": "stderr"
        },
        {
          "output_type": "stream",
          "text": [
            "[['хорошие щи. Супы часто не варю ,но следуйущий будет этот .', 'Понравился !'], ['индюшиным хвостикоми', 'ух,ты!'], ['Теперь это мой любимый зимний супчик! Еще раз спасибо, Наташа!', 'Lena12'], ['Наташенька, очень вкусный супчик получился! Ухнула кило бедра индейки, из лишнего мяса сделала \"холодец\". Блюдо \"два в одном\"! Ура!', 'Танюша,на здоровье.'], ['и опять я здесь', 'питаемся вкусными и полезными супиками с любимой и вкусной капусточкой'], ['Саш,это хорошо,что суп всегда в твоей памяти', 'на здоровье'], ['ты знаешь сколько твоих рецептов я знаю наизусть?', 'ну оооочень много'], ['сколько?', 'сложо посчитать но их очень много']]\n"
          ],
          "name": "stdout"
        },
        {
          "output_type": "stream",
          "text": [
            "[=====================================================================   ]  96%"
          ],
          "name": "stderr"
        },
        {
          "output_type": "stream",
          "text": [
            "[['одной стороны все просто, но до чего красиво, аппетитно и сытно! Я вроде бы и не голодная, но так хочется угоститься твоим супчиком. Спасибо, дорогая.', 'на здоровье,Оленька!'], ['!!Можно к тебе смело заходить и найдешь то,что несомненно понравится !!!!Ты-королева первых блюд!!!!', 'И этот супчик шикарен,фотографии настолько аппетитные,что так и хочется отведать такого наваристого,душистого супчика!!!Спасибо за рецепт!'], ['мои домочадцы уж очень уважают супчик с фрикадеьками,а тут еще в новом варианте', 'значит этот суп ваш'], ['вот с утра завтра и займусь', 'удачи!'], ['количество ингридиентов на кастрюлю 8 литров', 'Мне бы хватило всю улицу накормить, а мож и не одну'], ['Мне бы хватило всю улицу накормить, а мож и не одну', 'а моим мужикам это на два раза...ну еще,как обычно,с добавками'], ['куда потом можно пристроить луковицу и морковь, которые мы использовали в бульон?', 'Ир,можно морковь кусочками нарезать и в тарелку с супом положить,так же и с луком.'], ['Понятно...попробую сначала утилизировать в супчик', 'попробуй конечно,все лучше,чем выбросить']]\n"
          ],
          "name": "stdout"
        },
        {
          "output_type": "stream",
          "text": [
            "[======================================================================= ]  98%"
          ],
          "name": "stderr"
        },
        {
          "output_type": "stream",
          "text": [
            "[['Нас осудят настоящие рыбаки, но я в начале повествования уже оговорилась, что уха не настоящая', 'Тёть Люб, чёй-то не настоящая????'], ['я потом полдня кухню отмывала, главное - человек ТВОРИЛ!!!', 'Верно!!!!'], ['Нас осудят настоящие рыбаки, но я в начале повествования уже оговорилась, что уха не настоящая', 'Да ну! Это настоящие рыбаки придумали себе настоящую уху, за неимением такого изобилия рыбки!'], ['Нас осудят настоящие рыбаки,', 'Если и осудят, то только потому, что им ни в жисть не наловить сразу столько такой хорошей рыбки! А это - уже их проблемы'], ['Сегодня обязательно натворю что-нибудь по вашим рецептам и отчитаюсь!!!!', 'Очень ждём'], ['Сегодня обязательно натворю что-нибудь по вашим рецептам и отчитаюсь!!!!', 'Не забудь отчитаться!'], ['Теть Люб, класснючая у тебя уха!!!! И муж Молодец!!!', 'А смешная рыбка БАРАБУЛЬКА - это очень хорошая и вкусная рыбка!!!!'], ['И фигня, что я потом полдня кухню отмывала, главное - человек ТВОРИЛ!!!', 'Мужу отдельное спасибо!'], ['Я уже забила на вес, потому как не умею не есть', 'Вот и я всё никак не научусь не кушать...']]\n"
          ],
          "name": "stdout"
        },
        {
          "output_type": "stream",
          "text": [
            "\r                                                                               \r\r[========================================================================] 100%"
          ],
          "name": "stderr"
        }
      ]
    },
    {
      "metadata": {
        "id": "k75pISZeJS1S",
        "colab_type": "code",
        "colab": {}
      },
      "cell_type": "code",
      "source": [
        "def save_dialogues(dialogues):\n",
        "    fist_phrase = [phrase[0] for phrase in dialogues]\n",
        "    reply = [phrase[1] for phrase in dialogues]\n",
        "    dialogues_df = pd.DataFrame(\n",
        "    {'fist_phrase': fist_phrase,\n",
        "     'reply': reply,\n",
        "    })\n",
        "    df_name = \"first.csv\"\n",
        "    #try:\n",
        "    dialogues_df.to_csv(df_name, sep='\\t', encoding='utf-8', index=False)\n",
        "    #except:\n",
        "       # print('SAVE_FAILED')\n",
        "       # return\n",
        "    print(\"saved\", df_name)"
      ],
      "execution_count": 0,
      "outputs": []
    },
    {
      "metadata": {
        "id": "DAgnFX6aJZvK",
        "colab_type": "code",
        "colab": {
          "base_uri": "https://localhost:8080/",
          "height": 34
        },
        "outputId": "2196f3a3-350c-4320-dabd-e4a93157e46e"
      },
      "cell_type": "code",
      "source": [
        "save_dialogues(first_dialogues)"
      ],
      "execution_count": 22,
      "outputs": [
        {
          "output_type": "stream",
          "text": [
            "saved first.csv\n"
          ],
          "name": "stdout"
        }
      ]
    },
    {
      "metadata": {
        "id": "dUJBnpEKJtNm",
        "colab_type": "code",
        "colab": {
          "base_uri": "https://localhost:8080/",
          "height": 34
        },
        "outputId": "0f89e72b-462c-4e68-9f0f-f4dda7ca3224"
      },
      "cell_type": "code",
      "source": [
        "len(first_dialogues)"
      ],
      "execution_count": 23,
      "outputs": [
        {
          "output_type": "execute_result",
          "data": {
            "text/plain": [
              "21917"
            ]
          },
          "metadata": {
            "tags": []
          },
          "execution_count": 23
        }
      ]
    },
    {
      "metadata": {
        "id": "sykqjzQoJiSs",
        "colab_type": "code",
        "colab": {}
      },
      "cell_type": "code",
      "source": [
        "files.download(\"first.csv\")"
      ],
      "execution_count": 0,
      "outputs": []
    }
  ]
}