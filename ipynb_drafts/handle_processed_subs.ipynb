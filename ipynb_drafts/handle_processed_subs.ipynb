{
 "cells": [
  {
   "cell_type": "code",
   "execution_count": 12,
   "metadata": {},
   "outputs": [],
   "source": [
    "from gensim.models.keyedvectors import FastTextKeyedVectors\n",
    "\n",
    "import pandas as pd\n",
    "from os import listdir\n",
    "from os.path import isfile, join\n",
    "\n",
    "import progressbar\n",
    "import time\n"
   ]
  },
  {
   "cell_type": "code",
   "execution_count": 2,
   "metadata": {
    "collapsed": true
   },
   "outputs": [],
   "source": [
    "fasttext = FastTextKeyedVectors.load(\"./FASTTEXT//araneum_none_fasttextcbow_300_5_2018.model\")"
   ]
  },
  {
   "cell_type": "code",
   "execution_count": 10,
   "metadata": {},
   "outputs": [
    {
     "data": {
      "text/html": [
       "<div>\n",
       "<style scoped>\n",
       "    .dataframe tbody tr th:only-of-type {\n",
       "        vertical-align: middle;\n",
       "    }\n",
       "\n",
       "    .dataframe tbody tr th {\n",
       "        vertical-align: top;\n",
       "    }\n",
       "\n",
       "    .dataframe thead th {\n",
       "        text-align: right;\n",
       "    }\n",
       "</style>\n",
       "<table border=\"1\" class=\"dataframe\">\n",
       "  <thead>\n",
       "    <tr style=\"text-align: right;\">\n",
       "      <th></th>\n",
       "      <th>cleaned_text</th>\n",
       "      <th>lemm_text</th>\n",
       "    </tr>\n",
       "  </thead>\n",
       "  <tbody>\n",
       "    <tr>\n",
       "      <th>0</th>\n",
       "      <td>Ух ты! Выглядишь прекрасно. Что за событие?</td>\n",
       "      <td>ух ты выглядеть прекрасно что событие</td>\n",
       "    </tr>\n",
       "    <tr>\n",
       "      <th>1</th>\n",
       "      <td>Моника и я отмечаем нашу десятимесячную годовщ...</td>\n",
       "      <td>моника отмечать наш десятимесячный годовщина</td>\n",
       "    </tr>\n",
       "    <tr>\n",
       "      <th>2</th>\n",
       "      <td>Я заказал столик в \"Жан-Жорж\".</td>\n",
       "      <td>я заказать столик жанжорж</td>\n",
       "    </tr>\n",
       "    <tr>\n",
       "      <th>3</th>\n",
       "      <td>Как ты попал туда?</td>\n",
       "      <td>как попасть туда</td>\n",
       "    </tr>\n",
       "    <tr>\n",
       "      <th>4</th>\n",
       "      <td>Сделал пару звонков, дёрнул пару рычажков...</td>\n",
       "      <td>сделать пара звонок дёрнуть пара рычажок</td>\n",
       "    </tr>\n",
       "  </tbody>\n",
       "</table>\n",
       "</div>"
      ],
      "text/plain": [
       "                                        cleaned_text  \\\n",
       "0        Ух ты! Выглядишь прекрасно. Что за событие?   \n",
       "1  Моника и я отмечаем нашу десятимесячную годовщ...   \n",
       "2                     Я заказал столик в \"Жан-Жорж\".   \n",
       "3                                 Как ты попал туда?   \n",
       "4       Сделал пару звонков, дёрнул пару рычажков...   \n",
       "\n",
       "                                      lemm_text  \n",
       "0         ух ты выглядеть прекрасно что событие  \n",
       "1  моника отмечать наш десятимесячный годовщина  \n",
       "2                     я заказать столик жанжорж  \n",
       "3                              как попасть туда  \n",
       "4      сделать пара звонок дёрнуть пара рычажок  "
      ]
     },
     "execution_count": 10,
     "metadata": {},
     "output_type": "execute_result"
    }
   ],
   "source": [
    "df = pd.read_csv(\"./sub/proessed_subs/Friends - 5x19.srt.csv\", sep='\\t', encoding='cp1251')\n",
    "df.head()"
   ]
  },
  {
   "cell_type": "code",
   "execution_count": 19,
   "metadata": {
    "collapsed": true
   },
   "outputs": [],
   "source": [
    "food_word = ['кушать','покушать','еда','пища','блюдо','суп','пир','питье',\n",
    "             'выпивка' ,'закуска','жратва','угощение','лакомство','ужин','завтрак','напиток',\n",
    "            'щи','каша','борщ','похлебка','свинина','говядина','пирог','квашеный','котлета','мясо','баранина','курятина',\n",
    "            'овощ', 'фрукт']\n",
    "\n",
    "def detect_food(line):\n",
    "    try:\n",
    "        words = line.split()\n",
    "    except:\n",
    "        return False, None\n",
    "    for word in words:\n",
    "        for food in  food_word:\n",
    "            try:\n",
    "                sim = fasttext.similarity(word, food)\n",
    "                if(sim > 0.8):\n",
    "                    print(line, \":\",word,  food, sim)\n",
    "                    food_stc = [line, word, food]\n",
    "                    return True, food_stc\n",
    "            except:\n",
    "                pass\n",
    "                \n",
    "    return False, None"
   ]
  },
  {
   "cell_type": "code",
   "execution_count": 14,
   "metadata": {},
   "outputs": [],
   "source": [
    "def get_food_dialogues(cleaned_text, lemm_text, debug = False):\n",
    "\n",
    "    bar = progressbar.ProgressBar(maxval=len(lemm_text),\n",
    "                                  widgets=[progressbar.Bar('=', '[', ']'), ' ', progressbar.Percentage()])\n",
    "    bar.start()\n",
    "    lines = 0\n",
    "\n",
    "    dialogues_phrases = []\n",
    "    current_phrase = []\n",
    "    similarity_dict = []\n",
    "    add_response_next_iter = False\n",
    "\n",
    "    ITERATION = 0\n",
    "\n",
    "    stop = 0\n",
    "\n",
    "    for line, orig_line in zip(lemm_text, cleaned_text):\n",
    "        #print(line, orig_line, ITERATION)\n",
    "        if(add_response_next_iter):\n",
    "            if(debug): print(\"SECOND:\", orig_line, ITERATION)\n",
    "            current_phrase.append(orig_line)\n",
    "            dialogues_phrases.append(current_phrase)\n",
    "            assert (len(current_phrase) == 2)\n",
    "            add_response_next_iter = False\n",
    "            current_phrase = []\n",
    "            \n",
    "        \n",
    "        add_response_next_iter, similarity = detect_food(line)\n",
    "\n",
    "        if(similarity):\n",
    "            if(debug):\n",
    "                print(similarity, ITERATION)\n",
    "                print(line, orig_line, ITERATION)\n",
    "            similarity_dict.append(similarity)\n",
    "\n",
    "        if(add_response_next_iter):\n",
    "            if(debug): print(\"FIRST:\", orig_line, ITERATION)\n",
    "            current_phrase.append(orig_line)\n",
    "            assert (len(current_phrase) == 1)\n",
    "\n",
    "        ITERATION += 1\n",
    "\n",
    "        \"\"\"\n",
    "        stop += 1\n",
    "        if stop > 100:\n",
    "            break\"\"\"\n",
    "\n",
    "        lines += 1\n",
    "        bar.update(lines)\n",
    "        time.sleep(0.1)\n",
    "        \n",
    "    return dialogues_phrases"
   ]
  },
  {
   "cell_type": "code",
   "execution_count": 20,
   "metadata": {},
   "outputs": [
    {
     "name": "stderr",
     "output_type": "stream",
     "text": [
      "[===                                                                     ]   5%\r"
     ]
    },
    {
     "name": "stdout",
     "output_type": "stream",
     "text": [
      "сашка скоро завтракать собираться : завтракать кушать 0.801914\n",
      "['сашка скоро завтракать собираться', 'завтракать', 'кушать'] 43\n",
      "сашка скоро завтракать собираться -Сашка, ты скоро? Завтракать собираешься? 43\n",
      "FIRST: -Сашка, ты скоро? Завтракать собираешься? 43\n",
      "SECOND: Лина ждёт тебя голодная. -Спасибо. 44\n"
     ]
    },
    {
     "name": "stderr",
     "output_type": "stream",
     "text": [
      "[====                                                                    ]   6%\r"
     ]
    },
    {
     "name": "stdout",
     "output_type": "stream",
     "text": [
      "смеяться ладно завтракать : завтракать кушать 0.801914\n",
      "['смеяться ладно завтракать', 'завтракать', 'кушать'] 52\n",
      "смеяться ладно завтракать СМЕЁТСЯ Ладно, завтракайте. 52\n",
      "FIRST: СМЕЁТСЯ Ладно, завтракайте. 52\n",
      "SECOND: Приятного аппетита. 53\n"
     ]
    },
    {
     "name": "stderr",
     "output_type": "stream",
     "text": [
      "[================                                                        ]  22%\r"
     ]
    },
    {
     "ename": "KeyboardInterrupt",
     "evalue": "",
     "output_type": "error",
     "traceback": [
      "\u001b[1;31m---------------------------------------------------------------------------\u001b[0m",
      "\u001b[1;31mKeyboardInterrupt\u001b[0m                         Traceback (most recent call last)",
      "\u001b[1;32m<ipython-input-20-912d95be5a22>\u001b[0m in \u001b[0;36m<module>\u001b[1;34m()\u001b[0m\n\u001b[1;32m----> 1\u001b[1;33m \u001b[0mget_food_dialogues\u001b[0m\u001b[1;33m(\u001b[0m\u001b[0mdf\u001b[0m\u001b[1;33m[\u001b[0m\u001b[1;34m'cleaned_text'\u001b[0m\u001b[1;33m]\u001b[0m\u001b[1;33m,\u001b[0m \u001b[0mdf\u001b[0m\u001b[1;33m[\u001b[0m\u001b[1;34m'lemm_text'\u001b[0m\u001b[1;33m]\u001b[0m\u001b[1;33m,\u001b[0m \u001b[0mdebug\u001b[0m \u001b[1;33m=\u001b[0m \u001b[1;32mTrue\u001b[0m\u001b[1;33m)\u001b[0m\u001b[1;33m\u001b[0m\u001b[0m\n\u001b[0m",
      "\u001b[1;32m<ipython-input-14-ca6f3af6a4b2>\u001b[0m in \u001b[0;36mget_food_dialogues\u001b[1;34m(cleaned_text, lemm_text, debug)\u001b[0m\n\u001b[0;32m     47\u001b[0m         \u001b[0mlines\u001b[0m \u001b[1;33m+=\u001b[0m \u001b[1;36m1\u001b[0m\u001b[1;33m\u001b[0m\u001b[0m\n\u001b[0;32m     48\u001b[0m         \u001b[0mbar\u001b[0m\u001b[1;33m.\u001b[0m\u001b[0mupdate\u001b[0m\u001b[1;33m(\u001b[0m\u001b[0mlines\u001b[0m\u001b[1;33m)\u001b[0m\u001b[1;33m\u001b[0m\u001b[0m\n\u001b[1;32m---> 49\u001b[1;33m         \u001b[0mtime\u001b[0m\u001b[1;33m.\u001b[0m\u001b[0msleep\u001b[0m\u001b[1;33m(\u001b[0m\u001b[1;36m0.1\u001b[0m\u001b[1;33m)\u001b[0m\u001b[1;33m\u001b[0m\u001b[0m\n\u001b[0m\u001b[0;32m     50\u001b[0m \u001b[1;33m\u001b[0m\u001b[0m\n\u001b[0;32m     51\u001b[0m     \u001b[1;32mreturn\u001b[0m \u001b[0mdialogues_phrases\u001b[0m\u001b[1;33m\u001b[0m\u001b[0m\n",
      "\u001b[1;31mKeyboardInterrupt\u001b[0m: "
     ]
    }
   ],
   "source": [
    "get_food_dialogues(df['cleaned_text'], df['lemm_text'], debug = True)"
   ]
  },
  {
   "cell_type": "code",
   "execution_count": 28,
   "metadata": {},
   "outputs": [
    {
     "data": {
      "text/plain": [
       "['1-2 серии (AVS).srt.csv',\n",
       " '10 серия (AMZN.WEBRip.DDP5.1.x264).srt.csv',\n",
       " '10.5.minut.ticiny.vozvrachenie.2018.WEB-DLRip.Files-x.srt.csv',\n",
       " '10.Chernov.(2018).WEB-DLRip.Files-x.srt.csv',\n",
       " '11.5.minut.ticiny.vozvrachenie.2018.WEB-DLRip.Files-x.srt.csv',\n",
       " '11.Chernov.(2018).WEB-DLRip.Files-x.srt.csv',\n",
       " '12.5.minut.ticiny.vozvrachenie.2018.WEB-DLRip.Files-x.srt.csv',\n",
       " '12.Chernov.(2018).WEB-DLRip.Files-x.srt.csv',\n",
       " '13.5.minut.ticiny.vozvrachenie.2018.WEB-DLRip.Files-x.srt.csv',\n",
       " '14.5.minut.ticiny.vozvrachenie.2018.WEB-DLRip.Files-x.srt.csv',\n",
       " '15.5.minut.ticiny.vozvrachenie.2018.WEB-DLRip.Files-x.srt.csv',\n",
       " '16.5.minut.ticiny.vozvrachenie.2018.WEB-DLRip.Files-x.srt.csv',\n",
       " '17.5.minut.ticiny.vozvrachenie.2018.WEB-DLRip.Files-x.srt.csv',\n",
       " '18.5.minut.ticiny.vozvrachenie.2018.WEB-DLRip.Files-x.srt.csv',\n",
       " '19.5.minut.ticiny.vozvrachenie.2018.WEB-DLRip.Files-x.srt.csv',\n",
       " '2 серия (AMZN.WEB-DL.DDP5.1.H.264).srt.csv',\n",
       " '20.5.minut.ticiny.vozvrachenie.2018.WEB-DLRip.Files-x.srt.csv',\n",
       " '21.5.minut.ticiny.vozvrachenie.2018.WEB-DLRip.Files-x.srt.csv',\n",
       " '22.5.minut.ticiny.vozvrachenie.2018.WEB-DLRip.Files-x.srt.csv',\n",
       " '23.5.minut.ticiny.vozvrachenie.2018.WEB-DLRip.Files-x.srt.csv',\n",
       " '24.5.minut.ticiny.vozvrachenie.2018.WEB-DLRip.Files-x.srt.csv',\n",
       " '3 серия (Сonvert).srt.csv',\n",
       " '4 серия (DEFLATE).srt.csv',\n",
       " '5 серия (KILLERS).srt.csv',\n",
       " '9 серия (AMZN.WEB-DL.DDP5.1.H.264).srt.csv',\n",
       " '9-10 серии (KILLERS).srt.csv',\n",
       " 'A nos amours.srt.csv',\n",
       " 'A u nas vo dvore.01.HDTVRip.GeneralFilm.srt.csv',\n",
       " 'A u nas vo dvore.02.HDTVRip.GeneralFilm.srt.csv',\n",
       " 'A u nas vo dvore.03.HDTVRip.GeneralFilm.srt.csv',\n",
       " 'A u nas vo dvore.04.HDTVRip.GeneralFilm.srt.csv',\n",
       " 'A u nas vo dvore.05.HDTVRip.GeneralFilm.srt.csv',\n",
       " 'A u nas vo dvore.06.HDTVRip.GeneralFilm.srt.csv',\n",
       " 'A u nas vo dvore.07.HDTVRip.GeneralFilm.srt.csv',\n",
       " 'A u nas vo dvore.08.HDTVRip.GeneralFilm.srt.csv',\n",
       " 'A u nas vo dvore.09.HDTVRip.GeneralFilm.srt.csv',\n",
       " 'A u nas vo dvore.10.HDTVRip.GeneralFilm.srt.csv',\n",
       " 'A u nas vo dvore.11.HDTVRip.GeneralFilm.srt.csv',\n",
       " 'A u nas vo dvore.12.HDTVRip.GeneralFilm.srt.csv',\n",
       " 'A.Star.is.Born.2018.1080p.WEB-DL.DD5.1.H264-FGT.srt.csv',\n",
       " 'Aa!_Megamisama!_ep1_RUS_1993.srt.csv',\n",
       " 'Aa!_Megamisama!_ep2_RUS_1993.srt.csv',\n",
       " 'Aa!_Megamisama!_ep3_RUS_1993.srt.csv',\n",
       " 'Aa!_Megamisama!_ep4_RUS_1993.srt.csv',\n",
       " 'Aa!_Megamisama!_ep5_RUS_1993.srt.csv',\n",
       " 'Aab_Baad_Khaak_RUS_1989_20100529213309.srt.csv',\n",
       " 'Aachi_And_Ssipak_RUS_2006_20100812000717.srt.csv',\n",
       " 'Aadhavan_RUS_2009_20100128153407.srt.csv',\n",
       " 'Aaltra.ru.srt.csv',\n",
       " 'Aa_Dekhen_Zara_RUS_2009_20100228122515.srt.csv',\n",
       " 'Ah_My_Goddess_Movie_CD1_RUS_2000.srt.csv',\n",
       " 'Ah_My_Goddess_Movie_CD2_RUS_2000.srt.csv',\n",
       " 'Ah_my_goddess_the_movie_RUS_2000.srt.csv',\n",
       " 'AI_Assault_Shockwave_RUS_2006.srt.csv',\n",
       " 'All_About_Them_RUS_2015_20190106183646.srt.csv',\n",
       " 'Aquaman.2018.WEB-DL.x264-FGT.srt.csv',\n",
       " 'A_gauche_en_sortant_de_l-ascenseur_RUS_1988.srt.csv',\n",
       " 'A_La_Folie_Pas_Du_Tout_RUS_2002.srt.csv',\n",
       " 'A_Nous_La_Liberte_Clair_1931.srt.csv',\n",
       " 'A_Star_Is_Born_RUS_2018_20190224025504.srt.csv',\n",
       " 'A_Ton_Image_RUS_2004.srt.csv',\n",
       " 'A_vdrug_poluchitsja_RUS_1979.srt.csv',\n",
       " 'A_zori_zdes_tikhiye_CD1_RUS_1972.srt.csv',\n",
       " 'A_zori_zdes_tikhiye_CD2_RUS_1972.srt.csv',\n",
       " 'dacha.(1973).DVDRip.srt.csv',\n",
       " 'Dagon_RUS.srt.csv',\n",
       " 'Dangerous_Liaisons_RUS_1988_20141108160119.srt.csv',\n",
       " 'Dark_Angel_RUS_2000_20081213200924.srt.csv',\n",
       " 'Dark_Knight_The_RUS_2008_20140704055153.srt.csv',\n",
       " 'Dark_Matter_RUS_2015_20150720174357.srt.csv',\n",
       " 'David_Copperfield_1.srt.csv',\n",
       " 'David_Copperfield_2.srt.csv',\n",
       " 'Dear_John_RUS_2010_20100422170853.srt.csv',\n",
       " 'Demonic_RUS_2015_20160520194514.srt.csv',\n",
       " 'Densha_Otoko_-_ep06.srt.csv',\n",
       " 'Derrida (rus).srt.csv',\n",
       " 'desperado.srt.csv',\n",
       " 'Diary.of.the.Dead.2007_перевод_без_цензуры.srt.csv',\n",
       " 'Diary.of.the.Dead.2007_перевод_с_цензурой.srt.csv',\n",
       " 'Die_Sohne_Der_Grossen_Barin_RUS_1966_20110131233836.srt.csv',\n",
       " 'Djavol.-.eto.zhenwina.(DVDRip,XviD,Rus).by.HeDgEhOt.srt.csv',\n",
       " 'Doberman.1997.kyberpunk.&.DelgaDo_new.srt.csv',\n",
       " 'Doctor_Who_RUS_2005_20100223121256.srt.csv',\n",
       " 'Dver.2009.srt.csv',\n",
       " 'Earth.Final.Conflict.1x01.-.Decision.(rus).DvdRipEng_by.Xandra&Taelon_Sanctuary_Team.srt.csv',\n",
       " 'Earth.Final.Conflict.1x16.-.The.Wrath.of.Achilles(rus).by.Xandra.&Taelon_Sanctuary_Team.srt.csv',\n",
       " 'Earth.Final.Conflict.3x14.-.ScorchedEarth.(rus).by.Xandra.&.Taelon_Sanctuary_Team.srt.csv',\n",
       " 'Eclipse_RUS_1962_20181208110753.srt.csv',\n",
       " 'Emmanuellel_2__The_Anti-Virgin_RUS_1975_20101017135423.srt.csv',\n",
       " 'Enough_RUS_2002.srt.csv',\n",
       " 'En_som_Hodder_RUS_2003.srt.csv',\n",
       " 'Ernest__Celestine_RUS_2012_20130708190524.srt.csv',\n",
       " 'Extracted.2012.BaiBako.&.DelgaDo_new.srt.csv',\n",
       " 'Extreme_limits_RUS_2000.srt.csv',\n",
       " 'Factotum by K. Pozdnyakov.srt.csv',\n",
       " 'Falling_in_love_Vlublennie_RUS_utf8.srt.csv',\n",
       " 'Family Guy [1x02] - I Never Met the Dead Man_Rus.srt.csv',\n",
       " 'Family Guy [1x05] - A Hero Sits Next Door_Rus.srt.csv',\n",
       " 'Family_Guy_4x03_RUS_1999.srt.csv',\n",
       " 'Farscape_1x11_Till_The_Blood_Runs_Clear.srt.csv',\n",
       " 'Farscape_1x18_A_Bug_s_Life.srt.csv',\n",
       " 'Farscape_2x03_Taking_The_Stone.srt.csv',\n",
       " 'Final_fantasy_RUS_2001g.srt.csv',\n",
       " 'Fingers 1978.srt.csv',\n",
       " 'Firefly_1x04_Safe_RUS_2002.srt.csv',\n",
       " 'Firestarter_Rekindled_RUS_2002.srt.csv',\n",
       " 'First Kiss ep04 (1024x576 x264).srt.csv',\n",
       " 'First Kiss ep04 (704x396 DivX6).srt.csv',\n",
       " 'Flash_RUS_1990_20100720004759.srt.csv',\n",
       " 'Flirting_With_Forty_RUS_2008_20100310195358.srt.csv',\n",
       " 'Forbidden_Kingdom_RUS_2008_20080816221953.srt.csv',\n",
       " 'Forgotten.Silver.rip.by.rtm.srt.csv',\n",
       " 'Freakdog_RUS_2008_20110125235425.srt.csv',\n",
       " 'Freudlose Gasse 1925 Pabst 148 min en.srt.csv',\n",
       " 'Friday_The_13th__The_Final_Chapter_RUS_1984_20131130133540.srt.csv',\n",
       " 'Friends - 5x19.srt.csv',\n",
       " 'Friends.csv',\n",
       " 'Friends_RUS_1994_20100816203958.srt.csv',\n",
       " 'Friends_s5x06.srt.csv',\n",
       " 'frighteners.srt.csv',\n",
       " 'Fringe_RUS_2008_20090922220435.srt.csv',\n",
       " 'Frode.2008.srt.csv',\n",
       " 'Futurama - 601 - Rebirth_HDTV_rus.srt.csv',\n",
       " 'Futurama - 601 - Rebirth_Web-DL_rus.srt.csv',\n",
       " 'Genuine.1920.R.Wiene._43__58_.Dvdrip.XviD_Leoville.srt.csv',\n",
       " 'George qui.srt.csv',\n",
       " 'Gigantic LIMITED.DVDRip.XviD-NeDiVx.srt.csv',\n",
       " 'Goluboj_karbunkul_RUS_1979.srt.csv',\n",
       " 'Good_Year_CD1_RUS_2006.srt.csv',\n",
       " 'Good_Year_CD2_RUS_2006.srt.csv',\n",
       " 'Gotham_RUS_2014_20150123194409.srt.csv',\n",
       " 'Gotham_RUS_2014_20160308192747.srt.csv',\n",
       " 'Gromovy_RUS_20100216174307.srt.csv',\n",
       " 'Guignolo_CD1_RUS_1979.srt.csv',\n",
       " 'Guignolo_CD2_RUS_1979.srt.csv',\n",
       " 'Hanzo.The.Razor.Sword.Of.Justice.1972.RUS.srt.csv',\n",
       " 'Harley_Davidson_And_The_Marlboro_Man_RUS_1991_20110401155743.srt.csv',\n",
       " 'harpers.island.e03.hdtvrip.srt.csv',\n",
       " 'Harrys_Law_RUS_2012_20121219095552.srt.csv',\n",
       " 'Harrys_Law_RUS_2012_20121219095557.srt.csv',\n",
       " 'Harrys_Law_RUS_2012_20121219100154.srt.csv',\n",
       " 'Hatchet_II_RUS_2010_20150208102325.srt.csv',\n",
       " 'Heaven_RUS_2002.srt.csv',\n",
       " 'Hellraiser I.srt.csv',\n",
       " 'Komanda.А.2010.Extended.Cut.FR.srt.csv',\n",
       " 'Komanda.А.2010.Extended.Cut.Full.srt.csv',\n",
       " 'Kung_Fu_Yoga_RUS_2017_20170828182548.srt.csv',\n",
       " 'Loco_Fever_RUS_2002.srt.csv',\n",
       " 'Neuderzhimye.2010.Rus.For.srt.csv',\n",
       " 'processed_text.csv']"
      ]
     },
     "execution_count": 28,
     "metadata": {},
     "output_type": "execute_result"
    }
   ],
   "source": [
    "subs_list = listdir(\"./sub/proessed_subs/\")[19:]\n",
    "subs_list"
   ]
  },
  {
   "cell_type": "code",
   "execution_count": 33,
   "metadata": {
    "collapsed": true
   },
   "outputs": [],
   "source": [
    "subs = listdir(\"./sub/proessed_subs/\")[:19]"
   ]
  },
  {
   "cell_type": "code",
   "execution_count": 34,
   "metadata": {},
   "outputs": [
    {
     "name": "stderr",
     "output_type": "stream",
     "text": [
      "[                                                                        ]   0%\r"
     ]
    },
    {
     "name": "stdout",
     "output_type": "stream",
     "text": [
      "NOW PROCESSING ./sub/proessed_subs/01.5.minut.ticiny.vozvrachenie.2018.WEB-DLRip.Files-x.srt.csv\n"
     ]
    },
    {
     "name": "stderr",
     "output_type": "stream",
     "text": [
      "[===                                                                     ]   5%\r"
     ]
    },
    {
     "name": "stdout",
     "output_type": "stream",
     "text": [
      "сашка скоро завтракать собираться : завтракать кушать 0.801914\n",
      "['сашка скоро завтракать собираться', 'завтракать', 'кушать'] 43\n",
      "сашка скоро завтракать собираться -Сашка, ты скоро? Завтракать собираешься? 43\n",
      "FIRST: -Сашка, ты скоро? Завтракать собираешься? 43\n",
      "SECOND: Лина ждёт тебя голодная. -Спасибо. 44\n"
     ]
    },
    {
     "name": "stderr",
     "output_type": "stream",
     "text": [
      "[====                                                                    ]   6%\r"
     ]
    },
    {
     "name": "stdout",
     "output_type": "stream",
     "text": [
      "смеяться ладно завтракать : завтракать кушать 0.801914\n",
      "['смеяться ладно завтракать', 'завтракать', 'кушать'] 52\n",
      "смеяться ладно завтракать СМЕЁТСЯ Ладно, завтракайте. 52\n",
      "FIRST: СМЕЁТСЯ Ладно, завтракайте. 52\n",
      "SECOND: Приятного аппетита. 53\n"
     ]
    },
    {
     "name": "stderr",
     "output_type": "stream",
     "text": [
      "[====================================                                    ]  50%\r"
     ]
    },
    {
     "name": "stdout",
     "output_type": "stream",
     "text": [
      "чай недавно пить : пить кушать 0.817057\n",
      "['чай недавно пить', 'пить', 'кушать'] 374\n",
      "чай недавно пить -А я чай недавно пила. 374\n",
      "FIRST: -А я чай недавно пила. 374\n",
      "SECOND: -Правда. Я воду из фильтра брала. 375\n"
     ]
    },
    {
     "name": "stderr",
     "output_type": "stream",
     "text": [
      "[==========================================                              ]  59%\r"
     ]
    },
    {
     "name": "stdout",
     "output_type": "stream",
     "text": [
      "борщ сваривать хватить издеваться : борщ борщ 1.0\n",
      "['борщ сваривать хватить издеваться', 'борщ', 'борщ'] 439\n",
      "борщ сваривать хватить издеваться -А борщ-то не сварен. -Хватит издеваться. 439\n",
      "FIRST: -А борщ-то не сварен. -Хватит издеваться. 439\n",
      "SECOND: Да, борщ-то и не сварен. 440\n",
      "борщ сваривать : борщ борщ 1.0\n",
      "['борщ сваривать', 'борщ', 'борщ'] 440\n",
      "борщ сваривать Да, борщ-то и не сварен. 440\n",
      "FIRST: Да, борщ-то и не сварен. 440\n",
      "SECOND: Сегодня котлеты на ужин. 441\n",
      "сегодня котлета ужин : котлета котлета 1.0\n",
      "['сегодня котлета ужин', 'котлета', 'котлета'] 441\n",
      "сегодня котлета ужин Сегодня котлеты на ужин. 441\n",
      "FIRST: Сегодня котлеты на ужин. 441\n",
      "SECOND: Хочешь поболтать - поехали со мной. -Поехали. 442\n"
     ]
    },
    {
     "name": "stderr",
     "output_type": "stream",
     "text": [
      "[=============================================                           ]  62%\r"
     ]
    },
    {
     "name": "stdout",
     "output_type": "stream",
     "text": [
      "вода из-под кран пить чай : пить кушать 0.817057\n",
      "['вода из-под кран пить чай', 'пить', 'кушать'] 463\n",
      "вода из-под кран пить чай -Тоже воду из-под крана пила? -Чай. 463\n",
      "FIRST: -Тоже воду из-под крана пила? -Чай. 463\n",
      "SECOND: -Нет отравления. Сейчас поедем в больницу, 464\n"
     ]
    },
    {
     "name": "stderr",
     "output_type": "stream",
     "text": [
      "[                                                                        ]   0%\r"
     ]
    },
    {
     "name": "stdout",
     "output_type": "stream",
     "text": [
      "NOW PROCESSING ./sub/proessed_subs/01.Chernov.(2018).WEB-DLRip.Files-x.srt.csv\n"
     ]
    },
    {
     "name": "stderr",
     "output_type": "stream",
     "text": [
      "[                                                                        ]   1%\r"
     ]
    },
    {
     "name": "stdout",
     "output_type": "stream",
     "text": [
      "просить попить покушать : покушать кушать 0.859781\n",
      "['просить попить покушать', 'покушать', 'кушать'] 7\n",
      "просить попить покушать Теперь прошу попить-покушать. 7\n",
      "FIRST: Теперь прошу попить-покушать. 7\n",
      "SECOND: Извини за вопрос, но всё равно спрошу. 8\n"
     ]
    },
    {
     "name": "stderr",
     "output_type": "stream",
     "text": [
      "[                                                                        ]   0%\r"
     ]
    },
    {
     "name": "stdout",
     "output_type": "stream",
     "text": [
      "NOW PROCESSING ./sub/proessed_subs/02.5.minut.ticiny.vozvrachenie.2018.WEB-DLRip.Files-x.srt.csv\n"
     ]
    },
    {
     "name": "stderr",
     "output_type": "stream",
     "text": [
      "[========================================                                ]  55%\r"
     ]
    },
    {
     "name": "stdout",
     "output_type": "stream",
     "text": [
      "пить хотеть выпивать честно : пить кушать 0.817057\n",
      "['пить хотеть выпивать честно', 'пить', 'кушать'] 383\n",
      "пить хотеть выпивать честно -А пить хочешь? -Выпил бы, если честно. 383\n",
      "FIRST: -А пить хочешь? -Выпил бы, если честно. 383\n",
      "SECOND: -Ну вот, верные симптомы бешенства. -Угу. 384\n"
     ]
    },
    {
     "name": "stderr",
     "output_type": "stream",
     "text": [
      "[================================================================        ]  89%\r"
     ]
    },
    {
     "name": "stdout",
     "output_type": "stream",
     "text": [
      "пить двигаться это гадюка школа помнить : пить кушать 0.817057\n",
      "['пить двигаться это гадюка школа помнить', 'пить', 'кушать'] 620\n",
      "пить двигаться это гадюка школа помнить -Надо много пить и не двигаться. -Это гадюка, я со школы помню. 620\n",
      "FIRST: -Надо много пить и не двигаться. -Это гадюка, я со школы помню. 620\n",
      "SECOND: -Давай. -Да, видели твою обидчицу. 621\n"
     ]
    },
    {
     "name": "stderr",
     "output_type": "stream",
     "text": [
      "[                                                                        ]   0%\r"
     ]
    },
    {
     "name": "stdout",
     "output_type": "stream",
     "text": [
      "NOW PROCESSING ./sub/proessed_subs/02.Chernov.(2018).WEB-DLRip.Files-x.srt.csv\n"
     ]
    },
    {
     "name": "stderr",
     "output_type": "stream",
     "text": [
      "[========                                                                ]  11%\r"
     ]
    },
    {
     "name": "stdout",
     "output_type": "stream",
     "text": [
      "поэтому пить тип спортсмен : пить кушать 0.817057\n",
      "['поэтому пить тип спортсмен', 'пить', 'кушать'] 73\n",
      "поэтому пить тип спортсмен -Поэтому не пьёшь? Типа спортсмен? 73\n",
      "FIRST: -Поэтому не пьёшь? Типа спортсмен? 73\n",
      "SECOND: -Нет, со спортом давно завязал. 74\n"
     ]
    },
    {
     "name": "stderr",
     "output_type": "stream",
     "text": [
      "[==========                                                              ]  15%\r"
     ]
    },
    {
     "name": "stdout",
     "output_type": "stream",
     "text": [
      "рынок абрек фрукт овощ подносить относить : фрукт овощ 0.85047\n",
      "['рынок абрек фрукт овощ подносить относить', 'фрукт', 'овощ'] 95\n",
      "рынок абрек фрукт овощ подносить относить На рынке абрекам фрукты-овощи поднеси, отнеси. 95\n",
      "FIRST: На рынке абрекам фрукты-овощи поднеси, отнеси. 95\n",
      "SECOND: Или очко кому новое выкопаешь за литрашку или даже полтора. 96\n"
     ]
    },
    {
     "name": "stderr",
     "output_type": "stream",
     "text": [
      "[                                                                        ]   0%\r"
     ]
    },
    {
     "name": "stdout",
     "output_type": "stream",
     "text": [
      "NOW PROCESSING ./sub/proessed_subs/03.5.minut.ticiny.vozvrachenie.2018.WEB-DLRip.Files-x.srt.csv\n"
     ]
    },
    {
     "name": "stderr",
     "output_type": "stream",
     "text": [
      "[========================================                                ]  56%\r"
     ]
    },
    {
     "name": "stdout",
     "output_type": "stream",
     "text": [
      "чай сахар пить : пить кушать 0.817057\n",
      "['чай сахар пить', 'пить', 'кушать'] 361\n",
      "чай сахар пить Вы чай с сахаром пьёте? -Без. 361\n",
      "FIRST: Вы чай с сахаром пьёте? -Без. 361\n",
      "SECOND: ТРЕВОЖНАЯ МУЗЫКА 362\n"
     ]
    },
    {
     "name": "stderr",
     "output_type": "stream",
     "text": [
      "[===============================================                         ]  66%\r"
     ]
    },
    {
     "name": "stdout",
     "output_type": "stream",
     "text": [
      "видеть отравление пить : пить кушать 0.817057\n",
      "['видеть отравление пить', 'пить', 'кушать'] 423\n",
      "видеть отравление пить -Да вижу я, что отравление. Что ели, пили, когда? 423\n",
      "FIRST: -Да вижу я, что отравление. Что ели, пили, когда? 423\n",
      "SECOND: -Ну выпили мы немного, честное слово, немного, грамм по сто. 424\n"
     ]
    },
    {
     "name": "stderr",
     "output_type": "stream",
     "text": [
      "[===================================================                     ]  70%\r"
     ]
    },
    {
     "name": "stdout",
     "output_type": "stream",
     "text": [
      "нечего пить руль дурак слушать : пить кушать 0.817057\n",
      "['нечего пить руль дурак слушать', 'пить', 'кушать'] 446\n",
      "нечего пить руль дурак слушать нечего было пить за рулём. И этих дураков слушать. 446\n",
      "FIRST: нечего было пить за рулём. И этих дураков слушать. 446\n",
      "SECOND: -Вы поймите, если мы составим грамотно иск, вы можете получить 447\n"
     ]
    },
    {
     "name": "stderr",
     "output_type": "stream",
     "text": [
      "[==============================================================          ]  86%\r"
     ]
    },
    {
     "name": "stdout",
     "output_type": "stream",
     "text": [
      "ко сегодня поступать пациент съедать рыба который вылавливать : съедать кушать 0.849749\n",
      "['ко сегодня поступать пациент съедать рыба который вылавливать', 'съедать', 'кушать'] 548\n",
      "ко сегодня поступать пациент съедать рыба который вылавливать Ко мне сегодня поступил пациент, съевший рыбу, которую выловил 548\n",
      "FIRST: Ко мне сегодня поступил пациент, съевший рыбу, которую выловил 548\n",
      "SECOND: из реки, чуть выше водозабора очистных сооружений. 549\n"
     ]
    },
    {
     "name": "stderr",
     "output_type": "stream",
     "text": [
      "[                                                                        ]   0%\r"
     ]
    },
    {
     "name": "stdout",
     "output_type": "stream",
     "text": [
      "NOW PROCESSING ./sub/proessed_subs/03.Chernov.(2018).WEB-DLRip.Files-x.srt.csv\n"
     ]
    },
    {
     "name": "stderr",
     "output_type": "stream",
     "text": [
      "[=================                                                       ]  24%\r"
     ]
    },
    {
     "name": "stdout",
     "output_type": "stream",
     "text": [
      "пить зина : пить кушать 0.817057\n",
      "['пить зина', 'пить', 'кушать'] 153\n",
      "пить зина -Я не пью. И Зина тоже. 153\n",
      "FIRST: -Я не пью. И Зина тоже. 153\n",
      "SECOND: Мы вместе закодировались, когда решили Ваську запланировать. 154\n"
     ]
    },
    {
     "name": "stderr",
     "output_type": "stream",
     "text": [
      "[========================                                                ]  34%\r"
     ]
    },
    {
     "name": "stdout",
     "output_type": "stream",
     "text": [
      "любить вчерашний борщ : борщ борщ 1.0\n",
      "['любить вчерашний борщ', 'борщ', 'борщ'] 221\n",
      "любить вчерашний борщ -А вы любите вчерашний борщ? 221\n",
      "FIRST: -А вы любите вчерашний борщ? 221\n",
      "SECOND: -Обожаю, но не сегодня. 222\n"
     ]
    },
    {
     "name": "stderr",
     "output_type": "stream",
     "text": [
      "[============================                                            ]  39%\r"
     ]
    },
    {
     "name": "stdout",
     "output_type": "stream",
     "text": [
      "кушать здоровье спасибо люба : кушать кушать 1.0\n",
      "['кушать здоровье спасибо люба', 'кушать', 'кушать'] 253\n",
      "кушать здоровье спасибо люба Кушайте на здоровье -Спасибо, Люба. 253\n",
      "FIRST: Кушайте на здоровье -Спасибо, Люба. 253\n",
      "SECOND: -Пожалуйста, Оленька. 254\n"
     ]
    },
    {
     "name": "stderr",
     "output_type": "stream",
     "text": [
      "[=============================                                           ]  40%\r"
     ]
    },
    {
     "name": "stdout",
     "output_type": "stream",
     "text": [
      "приглашать малознакомый мужчина борщ ... : борщ борщ 1.0\n",
      "['приглашать малознакомый мужчина борщ ...', 'борщ', 'борщ'] 260\n",
      "приглашать малознакомый мужчина борщ ... -Приглашаете малознакомого мужчину на борщ... 260\n",
      "FIRST: -Приглашаете малознакомого мужчину на борщ... 260\n",
      "SECOND: А потом, я не верю, чтобы красивая женщина в вашем возрасте 261\n"
     ]
    },
    {
     "name": "stderr",
     "output_type": "stream",
     "text": [
      "[===============================                                         ]  44%\r"
     ]
    },
    {
     "name": "stdout",
     "output_type": "stream",
     "text": [
      "ничто сказать зато сказать пить компот : пить кушать 0.817057\n",
      "['ничто сказать зато сказать пить компот', 'пить', 'кушать'] 284\n",
      "ничто сказать зато сказать пить компот -Так я же ничего не сказал -Зато я сказал. Пей компот. 284\n",
      "FIRST: -Так я же ничего не сказал -Зато я сказал. Пей компот. 284\n",
      "SECOND: -Алён, дай сказать два слова. Пожалуйста. 285\n"
     ]
    },
    {
     "name": "stderr",
     "output_type": "stream",
     "text": [
      "[====================================                                    ]  50%\r"
     ]
    },
    {
     "name": "stdout",
     "output_type": "stream",
     "text": [
      "мочь зайти ужин : ужин ужин 1.0\n",
      "['мочь зайти ужин', 'ужин', 'ужин'] 321\n",
      "мочь зайти ужин -Может быть, зайдёте на ужин? 321\n",
      "FIRST: -Может быть, зайдёте на ужин? 321\n",
      "SECOND: -Всё-таки решили затмить борщом школьный рассольник тёти Любы? 322\n",
      "все-таки решать затмевать борщ школьный рассольник тетя люба : борщ борщ 1.0\n",
      "['все-таки решать затмевать борщ школьный рассольник тетя люба', 'борщ', 'борщ'] 322\n",
      "все-таки решать затмевать борщ школьный рассольник тетя люба -Всё-таки решили затмить борщом школьный рассольник тёти Любы? 322\n",
      "FIRST: -Всё-таки решили затмить борщом школьный рассольник тёти Любы? 322\n",
      "SECOND: -Спасибо. 323\n"
     ]
    },
    {
     "name": "stderr",
     "output_type": "stream",
     "text": [
      "[=====================================                                   ]  51%\r"
     ]
    },
    {
     "name": "stdout",
     "output_type": "stream",
     "text": [
      "борщ остынуть : борщ борщ 1.0\n",
      "['борщ остынуть', 'борщ', 'борщ'] 329\n",
      "борщ остынуть -Вы ешьте. Борщ остынет. 329\n",
      "FIRST: -Вы ешьте. Борщ остынет. 329\n",
      "SECOND: -Извините, я не могу. 330\n"
     ]
    },
    {
     "name": "stderr",
     "output_type": "stream",
     "text": [
      "[==========================================                              ]  58%\r"
     ]
    },
    {
     "name": "stdout",
     "output_type": "stream",
     "text": [
      "ребенок рождаться здоровый бросать пить : пить кушать 0.817057\n",
      "['ребенок рождаться здоровый бросать пить', 'пить', 'кушать'] 373\n",
      "ребенок рождаться здоровый бросать пить что для того, чтобы ребёнок родился здоровым, вы бросили пить. 373\n",
      "FIRST: что для того, чтобы ребёнок родился здоровым, вы бросили пить. 373\n",
      "SECOND: До этого вы употребляли. -Вы что, издеваетесь, что ли?! 374\n"
     ]
    },
    {
     "name": "stderr",
     "output_type": "stream",
     "text": [
      "[==================================================                      ]  70%\r"
     ]
    },
    {
     "name": "stdout",
     "output_type": "stream",
     "text": [
      "слушать борщ чабрец полагать : борщ борщ 1.0\n",
      "['слушать борщ чабрец полагать', 'борщ', 'борщ'] 446\n",
      "слушать борщ чабрец полагать -Слушай, ты в борщ чабрец-то положила? 446\n",
      "FIRST: -Слушай, ты в борщ чабрец-то положила? 446\n",
      "SECOND: -Нет. 447\n",
      "считать пропадать борщ думать : борщ борщ 1.0\n",
      "['считать пропадать борщ думать', 'борщ', 'борщ'] 448\n",
      "считать пропадать борщ думать -Всё! Считай, пропал борщ. -Думаете? 448\n",
      "FIRST: -Всё! Считай, пропал борщ. -Думаете? 448\n",
      "SECOND: -Ну! Ты кушай, кушай. Мне это не мешает. 449\n",
      "кушать кушать это мешать : кушать кушать 1.0\n",
      "['кушать кушать это мешать', 'кушать', 'кушать'] 449\n",
      "кушать кушать это мешать -Ну! Ты кушай, кушай. Мне это не мешает. 449\n",
      "FIRST: -Ну! Ты кушай, кушай. Мне это не мешает. 449\n",
      "SECOND: Только без чабреца борщ не борщ. 450\n",
      "чабрец борщ борщ : борщ борщ 1.0\n",
      "['чабрец борщ борщ', 'борщ', 'борщ'] 450\n",
      "чабрец борщ борщ Только без чабреца борщ не борщ. 450\n",
      "FIRST: Только без чабреца борщ не борщ. 450\n",
      "SECOND: Я тебе в следующий раз принесу... -Извините, как вас? 451\n"
     ]
    },
    {
     "name": "stderr",
     "output_type": "stream",
     "text": [
      "[===================================================                     ]  71%\r"
     ]
    },
    {
     "name": "stdout",
     "output_type": "stream",
     "text": [
      "закрывать тема борщ происходить говорить : борщ борщ 1.0\n",
      "['закрывать тема борщ происходить говорить', 'борщ', 'борщ'] 453\n",
      "закрывать тема борщ происходить говорить закроем тему борща. Что там у вас произошло? Говорите. 453\n",
      "FIRST: закроем тему борща. Что там у вас произошло? Говорите. 453\n",
      "SECOND: -Так вот. В тот день, когда Васеньку-то убили... 454\n"
     ]
    },
    {
     "name": "stderr",
     "output_type": "stream",
     "text": [
      "[====================================================                    ]  72%\r"
     ]
    },
    {
     "name": "stdout",
     "output_type": "stream",
     "text": [
      "борщ чабрец варить : борщ борщ 1.0\n",
      "['борщ чабрец варить', 'борщ', 'борщ'] 464\n",
      "борщ чабрец варить Борщ без чабреца варить! 464\n",
      "FIRST: Борщ без чабреца варить! 464\n",
      "SECOND: Значит, он в дерево ножи кидает. 465\n"
     ]
    },
    {
     "name": "stderr",
     "output_type": "stream",
     "text": [
      "[=====================================================                   ]  74%\r"
     ]
    },
    {
     "name": "stdout",
     "output_type": "stream",
     "text": [
      "тарелка борщ выхлебать : борщ борщ 1.0\n",
      "['тарелка борщ выхлебать', 'борщ', 'борщ'] 468\n",
      "тарелка борщ выхлебать что тебе тарелку борща выхлебать. 468\n",
      "FIRST: что тебе тарелку борща выхлебать. 468\n",
      "SECOND: -Боялись, но всё же пришли? 469\n"
     ]
    },
    {
     "name": "stderr",
     "output_type": "stream",
     "text": [
      "[                                                                        ]   0%\r"
     ]
    },
    {
     "name": "stdout",
     "output_type": "stream",
     "text": [
      "NOW PROCESSING ./sub/proessed_subs/04.5.minut.ticiny.vozvrachenie.2018.WEB-DLRip.Files-x.srt.csv\n"
     ]
    },
    {
     "name": "stderr",
     "output_type": "stream",
     "text": [
      "[====                                                                    ]   6%\r"
     ]
    },
    {
     "name": "stdout",
     "output_type": "stream",
     "text": [
      "пить утренний кофе наш ресторан судьба : пить кушать 0.817057\n",
      "['пить утренний кофе наш ресторан судьба', 'пить', 'кушать'] 40\n",
      "пить утренний кофе наш ресторан судьба пьёт утренний кофе в нашем ресторане. Какими судьбами? 40\n",
      "FIRST: пьёт утренний кофе в нашем ресторане. Какими судьбами? 40\n",
      "SECOND: -У меня дела неподалёку. 41\n"
     ]
    },
    {
     "name": "stderr",
     "output_type": "stream",
     "text": [
      "[==========                                                              ]  14%\r"
     ]
    },
    {
     "name": "stdout",
     "output_type": "stream",
     "text": [
      "спасибо пузырь завтракать : завтракать кушать 0.801914\n",
      "['спасибо пузырь завтракать', 'завтракать', 'кушать'] 97\n",
      "спасибо пузырь завтракать -Спасибо. -А что Пузырь? Завтракал? 97\n",
      "FIRST: -Спасибо. -А что Пузырь? Завтракал? 97\n",
      "SECOND: -Да. У него полноценный рацион. 98\n",
      "сытый значит обувь жрать : жрать кушать 0.847564\n",
      "['сытый значит обувь жрать', 'жрать', 'кушать'] 101\n",
      "сытый значит обувь жрать -Сытый, значит. А что ж он обувь-то жрёт? 101\n",
      "FIRST: -Сытый, значит. А что ж он обувь-то жрёт? 101\n",
      "SECOND: -Это не Пузырь. 102\n"
     ]
    },
    {
     "name": "stderr",
     "output_type": "stream",
     "text": [
      "[============                                                            ]  17%\r"
     ]
    },
    {
     "name": "stdout",
     "output_type": "stream",
     "text": [
      "старик сидеть насыпь дама каша : каша каша 1.0\n",
      "['старик сидеть насыпь дама каша', 'каша', 'каша'] 111\n",
      "старик сидеть насыпь дама каша -Старик, ну что сидишь? Насыпь даме каши. 111\n",
      "FIRST: -Старик, ну что сидишь? Насыпь даме каши. 111\n",
      "SECOND: -Дамы у вас в карточной колоде. 112\n"
     ]
    },
    {
     "name": "stderr",
     "output_type": "stream",
     "text": [
      "[=============================                                           ]  40%\r"
     ]
    },
    {
     "name": "stdout",
     "output_type": "stream",
     "text": [
      "мясо невозможно жрать оно сухой : мясо свинина 0.810131\n",
      "['мясо невозможно жрать оно сухой', 'мясо', 'свинина'] 270\n",
      "мясо невозможно жрать оно сухой Мясо невозможно жрать - оно же сухое! 270\n",
      "FIRST: Мясо невозможно жрать - оно же сухое! 270\n",
      "SECOND: -Нормальное мясо. Что ты придираешься? 271\n",
      "нормальный мясо придираться : мясо свинина 0.810131\n",
      "['нормальный мясо придираться', 'мясо', 'свинина'] 271\n",
      "нормальный мясо придираться -Нормальное мясо. Что ты придираешься? 271\n",
      "FIRST: -Нормальное мясо. Что ты придираешься? 271\n"
     ]
    },
    {
     "name": "stderr",
     "output_type": "stream",
     "text": [
      "[==============================                                          ]  41%\r"
     ]
    },
    {
     "name": "stdout",
     "output_type": "stream",
     "text": [
      "SECOND: -Я ещё даже не начинал придираться. Я не хочу нормального. 272\n"
     ]
    },
    {
     "name": "stderr",
     "output_type": "stream",
     "text": [
      "[====================================                                    ]  51%\r"
     ]
    },
    {
     "name": "stdout",
     "output_type": "stream",
     "text": [
      "серьезно примесь незначительный пить : пить кушать 0.817057\n",
      "['серьезно примесь незначительный пить', 'пить', 'кушать'] 337\n",
      "серьезно примесь незначительный пить -Серьёзно. Примеси совсем незначительные, можно хоть пить. 337\n",
      "FIRST: -Серьёзно. Примеси совсем незначительные, можно хоть пить. 337\n",
      "SECOND: -Э, не надо, не надо. Верю. 338\n"
     ]
    },
    {
     "name": "stderr",
     "output_type": "stream",
     "text": [
      "[=========================================                               ]  57%\r"
     ]
    },
    {
     "name": "stdout",
     "output_type": "stream",
     "text": [
      "суховатый досадно банкет это блюдо : блюдо блюдо 1.0\n",
      "['суховатый досадно банкет это блюдо', 'блюдо', 'блюдо'] 377\n",
      "суховатый досадно банкет это блюдо -Суховата. Досадно. Но на банкете этого блюда не будет, 377\n",
      "FIRST: -Суховата. Досадно. Но на банкете этого блюда не будет, 377\n",
      "SECOND: повару сделаем выговор. 378\n"
     ]
    },
    {
     "name": "stderr",
     "output_type": "stream",
     "text": [
      "[===================================================                     ]  71%\r"
     ]
    },
    {
     "name": "stdout",
     "output_type": "stream",
     "text": [
      "сегодня мочь нужно кормить будущий муж ужин : ужин ужин 1.0\n",
      "['сегодня мочь нужно кормить будущий муж ужин', 'ужин', 'ужин'] 472\n",
      "сегодня мочь нужно кормить будущий муж ужин -Сегодня не могу. Нужно кормить будущего мужа ужином. 472\n",
      "FIRST: -Сегодня не могу. Нужно кормить будущего мужа ужином. 472\n",
      "SECOND: -Да, верно. Тогда вот вам моя визиточка. Звоните. 473\n"
     ]
    },
    {
     "name": "stderr",
     "output_type": "stream",
     "text": [
      "[=====================================================                   ]  74%\r"
     ]
    },
    {
     "name": "stdout",
     "output_type": "stream",
     "text": [
      "тортик сбегать пирожок мясо пекарня : мясо свинина 0.810131\n",
      "['тортик сбегать пирожок мясо пекарня', 'мясо', 'свинина'] 494\n",
      "тортик сбегать пирожок мясо пекарня За тортиком сейчас сбегаю. -А пирожки с мясом в пекарне есть? 494\n",
      "FIRST: За тортиком сейчас сбегаю. -А пирожки с мясом в пекарне есть? 494\n",
      "SECOND: -И с мясом, и с капустой - всё есть. -Прищепочку снимите. 495\n",
      "мясо капуста прищепочка снимать : мясо свинина 0.810131\n",
      "['мясо капуста прищепочка снимать', 'мясо', 'свинина'] 495\n",
      "мясо капуста прищепочка снимать -И с мясом, и с капустой - всё есть. -Прищепочку снимите. 495\n",
      "FIRST: -И с мясом, и с капустой - всё есть. -Прищепочку снимите. 495\n",
      "SECOND:"
     ]
    },
    {
     "name": "stderr",
     "output_type": "stream",
     "text": [
      "[======================================================                  ]  75%\r"
     ]
    },
    {
     "name": "stdout",
     "output_type": "stream",
     "text": [
      " -Да. Только за ним посмотрите. -Хорошо, хорошо. 496\n",
      "саша привет сегодня праздничный ужин : ужин ужин 1.0\n",
      "['саша привет сегодня праздничный ужин', 'ужин', 'ужин'] 501\n",
      "саша привет сегодня праздничный ужин -Саша, привет. У нас с тобой сегодня будет праздничный ужин, 501\n",
      "FIRST: -Саша, привет. У нас с тобой сегодня будет праздничный ужин, 501\n",
      "SECOND: так что не задерживайся. 502\n"
     ]
    },
    {
     "name": "stderr",
     "output_type": "stream",
     "text": [
      "[==============================================================          ]  86%\r"
     ]
    },
    {
     "name": "stdout",
     "output_type": "stream",
     "text": [
      "живот романтический ужин намечаться : ужин ужин 1.0\n",
      "['живот романтический ужин намечаться', 'ужин', 'ужин'] 568\n",
      "живот романтический ужин намечаться живота не будет. У меня романтический ужин намечается, 568\n",
      "FIRST: живота не будет. У меня романтический ужин намечается, 568\n",
      "SECOND: а мне столько надо приготовить. -Хорошо, я тебя поняла. Целую. 569\n"
     ]
    },
    {
     "name": "stderr",
     "output_type": "stream",
     "text": [
      "[===================================================================     ]  94%\r"
     ]
    },
    {
     "name": "stdout",
     "output_type": "stream",
     "text": [
      "ужин старик : ужин ужин 1.0\n",
      "['ужин старик', 'ужин', 'ужин'] 616\n",
      "ужин старик Ну чего у нас на ужин? -Старик. 616\n",
      "FIRST: Ну чего у нас на ужин? -Старик. 616\n",
      "SECOND: -Минутная готовность. 617\n"
     ]
    },
    {
     "name": "stderr",
     "output_type": "stream",
     "text": [
      "[====================================================================    ]  95%\r"
     ]
    },
    {
     "name": "stdout",
     "output_type": "stream",
     "text": [
      "вот-вот давать дуть говориться жрать нечего : жрать кушать 0.847564\n",
      "['вот-вот давать дуть говориться жрать нечего', 'жрать', 'кушать'] 621\n",
      "вот-вот давать дуть говориться жрать нечего -Вот-вот. Давай дуй. Как говорится, самим жрать нечего. 621\n",
      "FIRST: -Вот-вот. Давай дуй. Как говорится, самим жрать нечего. 621\n",
      "SECOND: -Петя, ну что ты за адвокат такой? 622\n"
     ]
    },
    {
     "name": "stderr",
     "output_type": "stream",
     "text": [
      "[                                                                        ]   0%\r"
     ]
    },
    {
     "name": "stdout",
     "output_type": "stream",
     "text": [
      "NOW PROCESSING ./sub/proessed_subs/04.Chernov.(2018).WEB-DLRip.Files-x.srt.csv\n"
     ]
    },
    {
     "name": "stderr",
     "output_type": "stream",
     "text": [
      "[===                                                                     ]   4%\r"
     ]
    },
    {
     "name": "stdout",
     "output_type": "stream",
     "text": [
      "смонтировать сидеть истукан пить : пить кушать 0.817057\n",
      "['смонтировать сидеть истукан пить', 'пить', 'кушать'] 29\n",
      "смонтировать сидеть истукан пить Вот. Я смонтировал, только как он сидит как истукан, пьёт, 29\n",
      "FIRST: Вот. Я смонтировал, только как он сидит как истукан, пьёт, 29\n",
      "SECOND: иногда сам с собой разговаривает. 30\n"
     ]
    },
    {
     "name": "stderr",
     "output_type": "stream",
     "text": [
      "[===============                                                         ]  21%\r"
     ]
    },
    {
     "name": "stdout",
     "output_type": "stream",
     "text": [
      "борщ : борщ борщ 1.0\n",
      "['борщ', 'борщ', 'борщ'] 141\n",
      "борщ -Где борщ? 141\n",
      "FIRST: -Где борщ? 141\n",
      "SECOND: -Кончился. 142\n"
     ]
    },
    {
     "name": "stderr",
     "output_type": "stream",
     "text": [
      "[================                                                        ]  22%\r"
     ]
    },
    {
     "name": "stdout",
     "output_type": "stream",
     "text": [
      "хорошенько отдыхать желательно выпивка : выпивка выпивка 1.0\n",
      "['хорошенько отдыхать желательно выпивка', 'выпивка', 'выпивка'] 150\n",
      "хорошенько отдыхать желательно выпивка Хорошенько отдохнуть, и желательно без выпивки. 150\n",
      "FIRST: Хорошенько отдохнуть, и желательно без выпивки. 150\n",
      "SECOND: -Но ведь кома у неё невозвратная! Жена этого мента никогда не очнётся! 151\n"
     ]
    },
    {
     "name": "stderr",
     "output_type": "stream",
     "text": [
      "[================================                                        ]  44%\r"
     ]
    },
    {
     "name": "stdout",
     "output_type": "stream",
     "text": [
      "скоро жрать нечего недаром марсоход кататься : жрать кушать 0.847564\n",
      "['скоро жрать нечего недаром марсоход кататься', 'жрать', 'кушать'] 286\n",
      "скоро жрать нечего недаром марсоход кататься У них там скоро жрать нечего будет, недаром там марсоход катается, 286\n",
      "FIRST: У них там скоро жрать нечего будет, недаром там марсоход катается, 286\n",
      "SECOND: все попрятались. Вот они своих гадёнышей нам и перекидывают. 287\n"
     ]
    },
    {
     "name": "stderr",
     "output_type": "stream",
     "text": [
      "[====================================                                    ]  50%\r"
     ]
    },
    {
     "name": "stdout",
     "output_type": "stream",
     "text": [
      "покушать котлетка : покушать кушать 0.859781\n",
      "['покушать котлетка', 'покушать', 'кушать'] 320\n",
      "покушать котлетка -А есть чего покушать? Котлетки у тебя есть? 320\n",
      "FIRST: -А есть чего покушать? Котлетки у тебя есть? 320\n",
      "SECOND: Пойдём. 321\n"
     ]
    },
    {
     "name": "stderr",
     "output_type": "stream",
     "text": [
      "[                                                                        ]   0%\r"
     ]
    },
    {
     "name": "stdout",
     "output_type": "stream",
     "text": [
      "NOW PROCESSING ./sub/proessed_subs/05.5.minut.ticiny.vozvrachenie.2018.WEB-DLRip.Files-x.srt.csv\n"
     ]
    },
    {
     "name": "stderr",
     "output_type": "stream",
     "text": [
      "[======                                                                  ]   8%\r"
     ]
    },
    {
     "name": "stdout",
     "output_type": "stream",
     "text": [
      "ладно садиться завтракать : завтракать кушать 0.801914\n",
      "['ладно садиться завтракать', 'завтракать', 'кушать'] 78\n",
      "ладно садиться завтракать Ладно, садись завтракать. 78\n",
      "FIRST: Ладно, садись завтракать. 78\n",
      "SECOND: -Хорош. 79\n"
     ]
    },
    {
     "name": "stderr",
     "output_type": "stream",
     "text": [
      "[===================                                                     ]  26%\r"
     ]
    },
    {
     "name": "stdout",
     "output_type": "stream",
     "text": [
      "мочь предлагать обед торопиться жених : обед ужин 0.841833\n",
      "['мочь предлагать обед торопиться жених', 'обед', 'ужин'] 215\n",
      "мочь предлагать обед торопиться жених -Я могу предложить вам обед? Или вы торопитесь к жениху? 215\n",
      "FIRST: -Я могу предложить вам обед? Или вы торопитесь к жениху? 215\n",
      "SECOND: -Нет, я не спешу, он будет поздно. -Замечательно. 216\n"
     ]
    },
    {
     "name": "stderr",
     "output_type": "stream",
     "text": [
      "[=================================                                       ]  46%\r"
     ]
    },
    {
     "name": "stdout",
     "output_type": "stream",
     "text": [
      "давать приходиться пить брудершафт : пить кушать 0.817057\n",
      "['давать приходиться пить брудершафт', 'пить', 'кушать'] 373\n",
      "давать приходиться пить брудершафт -Хорошо, давайте на \"ты\". Если не придётся пить на брудершафт. 373\n",
      "FIRST: -Хорошо, давайте на \"ты\". Если не придётся пить на брудершафт. 373\n",
      "SECOND: -Не думайте обо мне так плохо. -Тогда за дружбу. 374\n"
     ]
    },
    {
     "name": "stderr",
     "output_type": "stream",
     "text": [
      "[======================================                                  ]  52%\r"
     ]
    },
    {
     "name": "stdout",
     "output_type": "stream",
     "text": [
      "полиция обед никуда поехать : обед ужин 0.841833\n",
      "['полиция обед никуда поехать', 'обед', 'ужин'] 422\n",
      "полиция обед никуда поехать В полиции сейчас как раз обед. -Мы никуда не поедем. 422\n",
      "FIRST: В полиции сейчас как раз обед. -Мы никуда не поедем. 422\n",
      "SECOND: Сергею Викторовичу нужна медицинская помощь. Он пусть едет. 423\n"
     ]
    },
    {
     "name": "stderr",
     "output_type": "stream",
     "text": [
      "[============================================                            ]  61%\r"
     ]
    },
    {
     "name": "stdout",
     "output_type": "stream",
     "text": [
      "это вроде пить : пить кушать 0.817057\n",
      "['это вроде пить', 'пить', 'кушать'] 496\n",
      "это вроде пить -Что это? Вроде не пили ещё. 496\n",
      "FIRST: -Что это? Вроде не пили ещё. 496\n",
      "SECOND: -Я такого никогда в жизни не видел. 497\n"
     ]
    },
    {
     "name": "stderr",
     "output_type": "stream",
     "text": [
      "[==================================================                      ]  69%\r"
     ]
    },
    {
     "name": "stdout",
     "output_type": "stream",
     "text": [
      "давать завтракать : завтракать кушать 0.801914\n",
      "['давать завтракать', 'завтракать', 'кушать'] 557\n",
      "давать завтракать Давай завтракать. 557\n",
      "FIRST: Давай завтракать. 557\n",
      "SECOND: -Так красиво. Если честно, я первый раз здесь, за городом. 558\n"
     ]
    },
    {
     "name": "stderr",
     "output_type": "stream",
     "text": [
      "[                                                                        ]   0%\r"
     ]
    },
    {
     "name": "stdout",
     "output_type": "stream",
     "text": [
      "NOW PROCESSING ./sub/proessed_subs/05.Chernov.(2018).WEB-DLRip.Files-x.srt.csv\n"
     ]
    },
    {
     "name": "stderr",
     "output_type": "stream",
     "text": [
      "[================                                                        ]  23%\r"
     ]
    },
    {
     "name": "stdout",
     "output_type": "stream",
     "text": [
      "нужно сарказм жаль борщ : борщ борщ 1.0\n",
      "['нужно сарказм жаль борщ', 'борщ', 'борщ'] 164\n",
      "нужно сарказм жаль борщ -Ну, не нужно сарказма, жаль борща нет. 164\n",
      "FIRST: -Ну, не нужно сарказма, жаль борща нет. 164\n",
      "SECOND: -Почему же, есть, 165\n"
     ]
    },
    {
     "name": "stderr",
     "output_type": "stream",
     "text": [
      "[==================                                                      ]  25%\r"
     ]
    },
    {
     "name": "stdout",
     "output_type": "stream",
     "text": [
      "пить спасибо : пить кушать 0.817057\n",
      "['пить спасибо', 'пить', 'кушать'] 175\n",
      "пить спасибо А вы чего не пьёте? -Спасибо. 175\n",
      "FIRST: А вы чего не пьёте? -Спасибо. 175\n",
      "SECOND: -Сейчас бы хорошо борща. 176\n",
      "борщ : борщ борщ 1.0\n",
      "['борщ', 'борщ', 'борщ'] 176\n",
      "борщ -Сейчас бы хорошо борща. 176\n",
      "FIRST: -Сейчас бы хорошо борща. 176\n",
      "SECOND:"
     ]
    },
    {
     "name": "stderr",
     "output_type": "stream",
     "text": [
      "[=======================                                                 ]  32%\r"
     ]
    },
    {
     "name": "stdout",
     "output_type": "stream",
     "text": [
      " ТЕЛЕФОННЫЙ ЗВОНОК 177\n",
      "ленка принцип пить : пить кушать 0.817057\n",
      "['ленка принцип пить', 'пить', 'кушать'] 228\n",
      "ленка принцип пить Ленке в принципе пить нельзя, 228\n",
      "FIRST: Ленке в принципе пить нельзя, 228\n",
      "SECOND: она на антидепрессантах уже три года. 229\n"
     ]
    },
    {
     "name": "stderr",
     "output_type": "stream",
     "text": [
      "[====================================================                    ]  73%\r"
     ]
    },
    {
     "name": "stdout",
     "output_type": "stream",
     "text": [
      "цена мясо : мясо свинина 0.810131\n",
      "['цена мясо', 'мясо', 'свинина'] 513\n",
      "цена мясо Цены-то на мясо одни и те же, 513\n",
      "FIRST: Цены-то на мясо одни и те же, 513\n",
      "SECOND: а вино не бесплатно. 514\n"
     ]
    },
    {
     "name": "stderr",
     "output_type": "stream",
     "text": [
      "[===============================================================         ]  87%\r"
     ]
    },
    {
     "name": "stdout",
     "output_type": "stream",
     "text": [
      "первый месяц ресторан съедать весь вкладывать деньги : съедать кушать 0.849749\n",
      "['первый месяц ресторан съедать весь вкладывать деньги', 'съедать', 'кушать'] 608\n",
      "первый месяц ресторан съедать весь вкладывать деньги -Первые три месяца ресторан съедал все вложенные деньги. 608\n",
      "FIRST: -Первые три месяца ресторан съедал все вложенные деньги. 608\n",
      "SECOND: Но он думал, что это нормальные проблемы роста. 609\n"
     ]
    },
    {
     "name": "stderr",
     "output_type": "stream",
     "text": [
      "[=====================================================================   ]  96%\r"
     ]
    },
    {
     "name": "stdout",
     "output_type": "stream",
     "text": [
      "ковер безнадежно испортить пятно еда выпивка : еда еда 1.0\n",
      "['ковер безнадежно испортить пятно еда выпивка', 'еда', 'еда'] 672\n",
      "ковер безнадежно испортить пятно еда выпивка Ну, ковёр был безнадежно испорчен - пятна от еды, выпивки. 672\n",
      "FIRST: Ну, ковёр был безнадежно испорчен - пятна от еды, выпивки. 672\n",
      "SECOND: Он был белого цвета, поэтому никакая химчистка бы уже не спасла. 673\n"
     ]
    },
    {
     "name": "stderr",
     "output_type": "stream",
     "text": [
      "[                                                                        ]   0%\r"
     ]
    },
    {
     "name": "stdout",
     "output_type": "stream",
     "text": [
      "NOW PROCESSING ./sub/proessed_subs/06.5.minut.ticiny.vozvrachenie.2018.WEB-DLRip.Files-x.srt.csv\n"
     ]
    },
    {
     "name": "stderr",
     "output_type": "stream",
     "text": [
      "[=================                                                       ]  23%\r"
     ]
    },
    {
     "name": "stdout",
     "output_type": "stream",
     "text": [
      "сегодня пропадать мясо : мясо свинина 0.810131\n",
      "['сегодня пропадать мясо', 'мясо', 'свинина'] 175\n",
      "сегодня пропадать мясо А сегодня пропало мясо. 175\n",
      "FIRST: А сегодня пропало мясо. 175\n",
      "SECOND: Кто-то бессовестно ворует продукты с кухни. 176\n"
     ]
    },
    {
     "name": "stderr",
     "output_type": "stream",
     "text": [
      "[======================                                                  ]  31%\r"
     ]
    },
    {
     "name": "stdout",
     "output_type": "stream",
     "text": [
      "съедать прекрасно ... посмотреть везде : съедать кушать 0.849749\n",
      "['съедать прекрасно ... посмотреть везде', 'съедать', 'кушать'] 233\n",
      "съедать прекрасно ... посмотреть везде Да, всё съели - прекрасно... -Посмотрел везде, 233\n",
      "FIRST: Да, всё съели - прекрасно... -Посмотрел везде, 233\n",
      "SECOND: Виталия Юрьевича нигде нет. 234\n"
     ]
    },
    {
     "name": "stderr",
     "output_type": "stream",
     "text": [
      "[===================================================================     ]  93%\r"
     ]
    },
    {
     "name": "stdout",
     "output_type": "stream",
     "text": [
      "нужно просто приходить ужин : ужин ужин 1.0\n",
      "['нужно просто приходить ужин', 'ужин', 'ужин'] 700\n",
      "нужно просто приходить ужин Тебе нужно будет просто прийти на ужин, 700\n",
      "FIRST: Тебе нужно будет просто прийти на ужин, 700\n",
      "SECOND: передать некую сумму на благотворительность. 701\n"
     ]
    },
    {
     "name": "stderr",
     "output_type": "stream",
     "text": [
      "[=====================================================================   ]  96%\r"
     ]
    },
    {
     "name": "stdout",
     "output_type": "stream",
     "text": [
      "поужинать спасибо : поужинать покушать 0.820391\n",
      "['поужинать спасибо', 'поужинать', 'покушать'] 722\n",
      "поужинать спасибо -А поужинать? -Нет, спасибо. 722\n",
      "FIRST: -А поужинать? -Нет, спасибо. 722\n",
      "SECOND: Кстати, а вы нашли, кто воровал продукты с кухни? 723\n"
     ]
    },
    {
     "name": "stderr",
     "output_type": "stream",
     "text": [
      "[                                                                        ]   0%\r"
     ]
    },
    {
     "name": "stdout",
     "output_type": "stream",
     "text": [
      "NOW PROCESSING ./sub/proessed_subs/06.Chernov.(2018).WEB-DLRip.Files-x.srt.csv\n"
     ]
    },
    {
     "name": "stderr",
     "output_type": "stream",
     "text": [
      "[===========================                                             ]  37%\r"
     ]
    },
    {
     "name": "stdout",
     "output_type": "stream",
     "text": [
      "шампанское еда стол : еда еда 1.0\n",
      "['шампанское еда стол', 'еда', 'еда'] 248\n",
      "шампанское еда стол то не было бы ни шампанского, ни еды на столе. 248\n",
      "FIRST: то не было бы ни шампанского, ни еды на столе. 248\n",
      "SECOND: Что, мол, я состоялся, а Георгий нет. 249\n"
     ]
    },
    {
     "name": "stderr",
     "output_type": "stream",
     "text": [
      "[=====================================                                   ]  51%\r"
     ]
    },
    {
     "name": "stdout",
     "output_type": "stream",
     "text": [
      "пить вредно : пить кушать 0.817057\n",
      "['пить вредно', 'пить', 'кушать'] 335\n",
      "пить вредно Пить много вредно. 335\n",
      "FIRST: Пить много вредно. 335\n",
      "SECOND: -Товарищ майор, задержанный. -Заводи. 336\n"
     ]
    },
    {
     "name": "stderr",
     "output_type": "stream",
     "text": [
      "[                                                                        ]   0%\r"
     ]
    },
    {
     "name": "stdout",
     "output_type": "stream",
     "text": [
      "NOW PROCESSING ./sub/proessed_subs/07.5.minut.ticiny.vozvrachenie.2018.WEB-DLRip.Files-x.srt.csv\n"
     ]
    },
    {
     "name": "stderr",
     "output_type": "stream",
     "text": [
      "[===                                                                     ]   4%\r"
     ]
    },
    {
     "name": "stdout",
     "output_type": "stream",
     "text": [
      "поехать ко мясо погреб бросать : мясо свинина 0.810131\n",
      "['поехать ко мясо погреб бросать', 'мясо', 'свинина'] 35\n",
      "поехать ко мясо погреб бросать -Ну что, тогда поехали ко мне. Мясо в погреб бросим. 35\n",
      "FIRST: -Ну что, тогда поехали ко мне. Мясо в погреб бросим. 35\n",
      "SECOND: Потом в сельпо, затаримся. 36\n"
     ]
    },
    {
     "name": "stderr",
     "output_type": "stream",
     "text": [
      "[====                                                                    ]   5%\r"
     ]
    },
    {
     "name": "stdout",
     "output_type": "stream",
     "text": [
      "старик каша готовить закачаться : каша каша 1.0\n",
      "['старик каша готовить закачаться', 'каша', 'каша'] 45\n",
      "старик каша готовить закачаться Старик такую кашу готовит, закачаешься. 45\n",
      "FIRST: Старик такую кашу готовит, закачаешься. 45\n",
      "SECOND: -А как я готовлю, тебе не нравится? -Почему? Очень нравится! 46\n"
     ]
    },
    {
     "name": "stderr",
     "output_type": "stream",
     "text": [
      "[================                                                        ]  23%\r"
     ]
    },
    {
     "name": "stdout",
     "output_type": "stream",
     "text": [
      "кушанье гречневый каша ... : каша каша 1.0\n",
      "['кушанье гречневый каша ...', 'каша', 'каша'] 173\n",
      "кушанье гречневый каша ... -Кушанье из гречневой каши... 173\n",
      "FIRST: -Кушанье из гречневой каши... 173\n",
      "SECOND: с творогОм. -С твОрогом. 174\n"
     ]
    },
    {
     "name": "stderr",
     "output_type": "stream",
     "text": [
      "[=======================                                                 ]  32%\r"
     ]
    },
    {
     "name": "stdout",
     "output_type": "stream",
     "text": [
      "давать давать искать недаром казенный каша : каша каша 1.0\n",
      "['давать давать искать недаром казенный каша', 'каша', 'каша'] 237\n",
      "давать давать искать недаром казенный каша -Давай-давай, ищи! -Недаром казённую кашу ест. 237\n",
      "FIRST: -Давай-давай, ищи! -Недаром казённую кашу ест. 237\n",
      "SECOND: Только ты с пригорка, и номер зашифруй. 238\n"
     ]
    },
    {
     "name": "stderr",
     "output_type": "stream",
     "text": [
      "[============================                                            ]  40%\r"
     ]
    },
    {
     "name": "stdout",
     "output_type": "stream",
     "text": [
      "видимо мясо погреб отгружать : мясо свинина 0.810131\n",
      "['видимо мясо погреб отгружать', 'мясо', 'свинина'] 291\n",
      "видимо мясо погреб отгружать -Видимо, мясо уже в погреб отгрузили. 291\n",
      "FIRST: -Видимо, мясо уже в погреб отгрузили. 291\n",
      "SECOND: Эй, хозяева! Дома есть кто? 292\n"
     ]
    },
    {
     "name": "stderr",
     "output_type": "stream",
     "text": [
      "[===================================                                     ]  48%\r"
     ]
    },
    {
     "name": "stdout",
     "output_type": "stream",
     "text": [
      "встречаться обед : обед ужин 0.841833\n",
      "['встречаться обед', 'обед', 'ужин'] 356\n",
      "встречаться обед Когда вы с ней встречаетесь? -После обеда. 356\n",
      "FIRST: Когда вы с ней встречаетесь? -После обеда. 356\n",
      "SECOND: -Вот и отлично. 357\n"
     ]
    },
    {
     "name": "stderr",
     "output_type": "stream",
     "text": [
      "[============================================                            ]  62%\r"
     ]
    },
    {
     "name": "stdout",
     "output_type": "stream",
     "text": [
      "меткий стрельба пусть пить биатлонист : пить кушать 0.817057\n",
      "['меткий стрельба пусть пить биатлонист', 'пить', 'кушать'] 451\n",
      "меткий стрельба пусть пить биатлонист -За меткую стрельбу пусть пьют биатлонисты. 451\n",
      "FIRST: -За меткую стрельбу пусть пьют биатлонисты. 451\n",
      "SECOND: А мы с вами выпьем за охотничье чутьё. 452\n"
     ]
    },
    {
     "name": "stderr",
     "output_type": "stream",
     "text": [
      "[                                                                        ]   0%\r"
     ]
    },
    {
     "name": "stdout",
     "output_type": "stream",
     "text": [
      "NOW PROCESSING ./sub/proessed_subs/07.Chernov.(2018).WEB-DLRip.Files-x.srt.csv\n"
     ]
    },
    {
     "name": "stderr",
     "output_type": "stream",
     "text": [
      "[========                                                                ]  12%\r"
     ]
    },
    {
     "name": "stdout",
     "output_type": "stream",
     "text": [
      "перегар разить 3 километр пить вчера : пить кушать 0.817057\n",
      "['перегар разить 3 километр пить вчера', 'пить', 'кушать'] 67\n",
      "перегар разить 3 километр пить вчера -А чего перегаром-то вам разит на 3 километра? Пили, что ли, вчера? 67\n",
      "FIRST: -А чего перегаром-то вам разит на 3 километра? Пили, что ли, вчера? 67\n",
      "SECOND: -Никак нет, товарищ полковник. 68\n"
     ]
    },
    {
     "name": "stderr",
     "output_type": "stream",
     "text": [
      "[=====================================================                   ]  74%\r"
     ]
    },
    {
     "name": "stdout",
     "output_type": "stream",
     "text": [
      "выпивать пить коля это твой последний : пить кушать 0.817057\n",
      "['выпивать пить коля это твой последний', 'пить', 'кушать'] 410\n",
      "выпивать пить коля это твой последний Я выпью? -Пей, Коля, это твоё последнее. 410\n",
      "FIRST: Я выпью? -Пей, Коля, это твоё последнее. 410\n",
      "SECOND: -Куда теперь? -Домой, Коля, домой. 411\n"
     ]
    },
    {
     "name": "stderr",
     "output_type": "stream",
     "text": [
      "[                                                                        ]   0%\r"
     ]
    },
    {
     "name": "stdout",
     "output_type": "stream",
     "text": [
      "NOW PROCESSING ./sub/proessed_subs/08.5.minut.ticiny.vozvrachenie.2018.WEB-DLRip.Files-x.srt.csv\n"
     ]
    },
    {
     "name": "stderr",
     "output_type": "stream",
     "text": [
      "[===                                                                     ]   4%\r"
     ]
    },
    {
     "name": "stdout",
     "output_type": "stream",
     "text": [
      "лечить ничто пить пить : пить кушать 0.817057\n",
      "['лечить ничто пить пить', 'пить', 'кушать'] 37\n",
      "лечить ничто пить пить Но не лечит ничего. Пей, пей. 37\n",
      "FIRST: Но не лечит ничего. Пей, пей. 37\n",
      "SECOND: Давай лечиться народными методами. Мы же на природе. 38\n"
     ]
    },
    {
     "name": "stderr",
     "output_type": "stream",
     "text": [
      "[=====                                                                   ]   7%\r"
     ]
    },
    {
     "name": "stdout",
     "output_type": "stream",
     "text": [
      "тортик фрукт полезно : фрукт овощ 0.85047\n",
      "['тортик фрукт полезно', 'фрукт', 'овощ'] 60\n",
      "тортик фрукт полезно -Я к тебе с тортиком. И с фруктами. Тебе ведь полезно сейчас. 60\n",
      "FIRST: -Я к тебе с тортиком. И с фруктами. Тебе ведь полезно сейчас. 60\n",
      "SECOND: Пока твоего благоверного нет, будем лопать всё, что вздумается. 61\n"
     ]
    },
    {
     "name": "stderr",
     "output_type": "stream",
     "text": [
      "[=================                                                       ]  23%\r"
     ]
    },
    {
     "name": "stdout",
     "output_type": "stream",
     "text": [
      "весь дорога активировать уголь пить живот болеть : пить кушать 0.817057\n",
      "['весь дорога активировать уголь пить живот болеть', 'пить', 'кушать'] 167\n",
      "весь дорога активировать уголь пить живот болеть Она всю дорогу активированный уголь пила, живот у неё болел. 167\n",
      "FIRST: Она всю дорогу активированный уголь пила, живот у неё болел. 167\n",
      "SECOND: Он и блокировал действие. -Понятно. 168\n"
     ]
    },
    {
     "name": "stderr",
     "output_type": "stream",
     "text": [
      "[=========================                                               ]  35%\r"
     ]
    },
    {
     "name": "stdout",
     "output_type": "stream",
     "text": [
      "пить хотеть : пить кушать 0.817057\n",
      "['пить хотеть', 'пить', 'кушать'] 247\n",
      "пить хотеть -Я пить хочу. 247\n",
      "FIRST: -Я пить хочу. 247\n",
      "SECOND: -У вас попить есть? -Идёмте. 248\n"
     ]
    },
    {
     "name": "stderr",
     "output_type": "stream",
     "text": [
      "[=======================================                                 ]  54%\r"
     ]
    },
    {
     "name": "stdout",
     "output_type": "stream",
     "text": [
      "спасибо бог пища : пища пища 1.0\n",
      "['спасибо бог пища', 'пища', 'пища'] 387\n",
      "спасибо бог пища Спасибо богам за эту пищу, 387\n",
      "FIRST: Спасибо богам за эту пищу, 387\n",
      "SECOND: за этот воздух, за эту землю. 388\n"
     ]
    },
    {
     "name": "stderr",
     "output_type": "stream",
     "text": [
      "[==================================================                      ]  70%\r"
     ]
    },
    {
     "name": "stdout",
     "output_type": "stream",
     "text": [
      "пить саня чайка липа выпивать : пить кушать 0.817057\n",
      "['пить саня чайка липа выпивать', 'пить', 'кушать'] 497\n",
      "пить саня чайка липа выпивать -Пили? -Саня, чайку с липой выпьешь? 497\n",
      "FIRST: -Пили? -Саня, чайку с липой выпьешь? 497\n",
      "SECOND: -Чаёк с липой. -Ну, всё понятно. 498\n"
     ]
    },
    {
     "name": "stderr",
     "output_type": "stream",
     "text": [
      "[                                                                        ]   0%\r"
     ]
    },
    {
     "name": "stdout",
     "output_type": "stream",
     "text": [
      "NOW PROCESSING ./sub/proessed_subs/08.Chernov.(2018).WEB-DLRip.Files-x.srt.csv\n"
     ]
    },
    {
     "name": "stderr",
     "output_type": "stream",
     "text": [
      "[===============                                                         ]  21%\r"
     ]
    },
    {
     "name": "stdout",
     "output_type": "stream",
     "text": [
      "холодный закуска ваш выбор : закуска закуска 1.0\n",
      "['холодный закуска ваш выбор', 'закуска', 'закуска'] 123\n",
      "холодный закуска ваш выбор и холодную закуску на ваш выбор. 123\n",
      "FIRST: и холодную закуску на ваш выбор. 123\n",
      "SECOND: -Понятно. 124\n"
     ]
    },
    {
     "name": "stderr",
     "output_type": "stream",
     "text": [
      "[                                                                        ]   0%\r"
     ]
    },
    {
     "name": "stdout",
     "output_type": "stream",
     "text": [
      "NOW PROCESSING ./sub/proessed_subs/09.5.minut.ticiny.vozvrachenie.2018.WEB-DLRip.Files-x.srt.csv\n"
     ]
    },
    {
     "name": "stderr",
     "output_type": "stream",
     "text": [
      "[=============================                                           ]  40%\r"
     ]
    },
    {
     "name": "stdout",
     "output_type": "stream",
     "text": [
      "пострадать человек рыбак рыбка съедать река : съедать кушать 0.849749\n",
      "['пострадать человек рыбак рыбка съедать река', 'съедать', 'кушать'] 278\n",
      "пострадать человек рыбак рыбка съедать река -А то. Пострадал человек, рыбак. Рыбки съел из реки. 278\n",
      "FIRST: -А то. Пострадал человек, рыбак. Рыбки съел из реки. 278\n",
      "SECOND: Если бы эта гадость попала в водопровод, 279\n"
     ]
    },
    {
     "name": "stderr",
     "output_type": "stream",
     "text": [
      "[==========================================================              ]  81%\r"
     ]
    },
    {
     "name": "stdout",
     "output_type": "stream",
     "text": [
      "пить : пить кушать 0.817057\n",
      "['пить', 'пить', 'кушать'] 562\n",
      "пить Ты пил? 562\n",
      "FIRST: Ты пил? 562\n",
      "SECOND: Мы же договаривались. 563\n"
     ]
    },
    {
     "name": "stderr",
     "output_type": "stream",
     "text": [
      "[======================================================================= ]  99%\r"
     ]
    },
    {
     "name": "stdout",
     "output_type": "stream",
     "text": [
      "ладно выпивать пить : пить кушать 0.817057\n",
      "['ладно выпивать пить', 'пить', 'кушать'] 678\n",
      "ладно выпивать пить -Ладно, выпьем и больше пить не будем. 678\n",
      "FIRST: -Ладно, выпьем и больше пить не будем. 678\n",
      "SECOND: -Вашу руку, начальство. 679\n"
     ]
    },
    {
     "name": "stderr",
     "output_type": "stream",
     "text": [
      "[                                                                        ]   0%\r"
     ]
    },
    {
     "name": "stdout",
     "output_type": "stream",
     "text": [
      "NOW PROCESSING ./sub/proessed_subs/09.Chernov.(2018).WEB-DLRip.Files-x.srt.csv\n"
     ]
    },
    {
     "name": "stderr",
     "output_type": "stream",
     "text": [
      "[==============================================                          ]  64%\r"
     ]
    },
    {
     "name": "stdout",
     "output_type": "stream",
     "text": [
      "хотеть выпивать пить : пить кушать 0.817057\n",
      "['хотеть выпивать пить', 'пить', 'кушать'] 408\n",
      "хотеть выпивать пить Я хочу выпить. Пейте. 408\n",
      "FIRST: Я хочу выпить. Пейте. 408\n",
      "SECOND: А вы так со всеми женщинами галантны или только со мной? 409\n"
     ]
    },
    {
     "name": "stderr",
     "output_type": "stream",
     "text": [
      "[===============================================                         ]  65%\r"
     ]
    },
    {
     "name": "stdout",
     "output_type": "stream",
     "text": [
      "наливать вино хотеть ... хотеть пить вино : пить кушать 0.817057\n",
      "['наливать вино хотеть ... хотеть пить вино', 'пить', 'кушать'] 413\n",
      "наливать вино хотеть ... хотеть пить вино Налейте мне вина. Я хочу... я хочу пить вино. 413\n",
      "FIRST: Налейте мне вина. Я хочу... я хочу пить вино. 413\n",
      "SECOND: Вы знаете... 414\n"
     ]
    },
    {
     "name": "stderr",
     "output_type": "stream",
     "text": [
      "[=========================================================               ]  80%\r"
     ]
    },
    {
     "name": "stdout",
     "output_type": "stream",
     "text": [
      "давать чай приносить доктор говорить нужно пить чай : пить кушать 0.817057\n",
      "['давать чай приносить доктор говорить нужно пить чай', 'пить', 'кушать'] 503\n",
      "давать чай приносить доктор говорить нужно пить чай Давай я тебе чай принесу. Доктор говорит, тебе нужно пить чай. 503\n",
      "FIRST: Давай я тебе чай принесу. Доктор говорит, тебе нужно пить чай. 503\n",
      "SECOND: -Давай. 504\n"
     ]
    },
    {
     "name": "stderr",
     "output_type": "stream",
     "text": [
      "[======================================================================= ]  99%\r"
     ]
    },
    {
     "name": "stdout",
     "output_type": "stream",
     "text": [
      "NOW PROCESSING ./sub/proessed_subs/1 серия (AMZN.WEB-DL.DDP5.1.H.264).srt.csv\n",
      "FILE_READING_FAILED\n"
     ]
    }
   ],
   "source": [
    "all_subs_dialogues = []\n",
    "for sub_df in subs:\n",
    "    path_to_df = join(\"./sub/proessed_subs/\",sub_df)\n",
    "    print(\"NOW PROCESSING\",path_to_df)\n",
    "    try:\n",
    "        df = pd.read_csv(path_to_df, sep='\\t', encoding='cp1251')\n",
    "        film_phrases = get_food_dialogues(df['cleaned_text'], df['lemm_text'], debug = True)\n",
    "        all_subs_dialogues.extend(film_phrases)\n",
    "    except:\n",
    "        print(\"FILE_READING_FAILED\")\n",
    "        pass\n",
    "    "
   ]
  },
  {
   "cell_type": "code",
   "execution_count": 44,
   "metadata": {},
   "outputs": [
    {
     "data": {
      "text/plain": [
       "93"
      ]
     },
     "execution_count": 44,
     "metadata": {},
     "output_type": "execute_result"
    }
   ],
   "source": [
    "len(all_subs_dialogues)"
   ]
  },
  {
   "cell_type": "code",
   "execution_count": 36,
   "metadata": {
    "collapsed": true
   },
   "outputs": [],
   "source": [
    "def save_dialogues(dialogues, line_number):\n",
    "    fist_phrase = [phrase[0] for phrase in dialogues]\n",
    "    reply = [phrase[1] for phrase in dialogues]\n",
    "    dialogues_df = pd.DataFrame(\n",
    "    {'fist_phrase': fist_phrase,\n",
    "     'reply': reply,\n",
    "    })\n",
    "    df_name = \"C:\\HSE_learning\\Python\\collect_dataset\\sub\\dialogues_df_\" + str(line_number) +\".csv\"\n",
    "    try:\n",
    "        dialogues_df.to_csv(df_name, sep='\\t', encoding='utf-8', index=False)\n",
    "    except:\n",
    "        print('SAVE_FAILED')\n",
    "        return\n",
    "    print(\"saved\", df_name)"
   ]
  },
  {
   "cell_type": "code",
   "execution_count": 37,
   "metadata": {},
   "outputs": [
    {
     "name": "stdout",
     "output_type": "stream",
     "text": [
      "saved C:\\HSE_learning\\Python\\collect_dataset\\sub\\dialogues_df_all_rest.csv\n"
     ]
    }
   ],
   "source": [
    "save_dialogues(all_subs_dialogues, \"all_rest\")"
   ]
  },
  {
   "cell_type": "code",
   "execution_count": 75,
   "metadata": {},
   "outputs": [],
   "source": [
    "big_df = pd.read_csv(\"C:\\HSE_learning\\Python\\collect_dataset\\sub\\dialogues_df_all.csv\", sep='\\t', encoding='utf-8')"
   ]
  },
  {
   "cell_type": "code",
   "execution_count": 77,
   "metadata": {},
   "outputs": [],
   "source": [
    "small_df = pd.read_csv(\"C:/HSE_learning/Python/collect_dataset/sub/dialogues_df_all_rest.csv\", sep='\\t', encoding='utf-8')"
   ]
  },
  {
   "cell_type": "code",
   "execution_count": 70,
   "metadata": {},
   "outputs": [
    {
     "data": {
      "text/html": [
       "<div>\n",
       "<style scoped>\n",
       "    .dataframe tbody tr th:only-of-type {\n",
       "        vertical-align: middle;\n",
       "    }\n",
       "\n",
       "    .dataframe tbody tr th {\n",
       "        vertical-align: top;\n",
       "    }\n",
       "\n",
       "    .dataframe thead th {\n",
       "        text-align: right;\n",
       "    }\n",
       "</style>\n",
       "<table border=\"1\" class=\"dataframe\">\n",
       "  <thead>\n",
       "    <tr style=\"text-align: right;\">\n",
       "      <th></th>\n",
       "      <th>fist_phrase</th>\n",
       "      <th>reply</th>\n",
       "    </tr>\n",
       "  </thead>\n",
       "  <tbody>\n",
       "    <tr>\n",
       "      <th>0</th>\n",
       "      <td>-Кать,\" оставайтесь с нами на ужин.</td>\n",
       "      <td>Андрея всё равно нет. Поужинаете у нас.\",,,,,,</td>\n",
       "    </tr>\n",
       "    <tr>\n",
       "      <th>1</th>\n",
       "      <td>Андрея всё равно нет. Поужинаете у нас.\\tПодож...</td>\n",
       "      <td>NaN</td>\n",
       "    </tr>\n",
       "    <tr>\n",
       "      <th>2</th>\n",
       "      <td>-Не понял. -Катя,\" оставайтесь с нами на ужин.</td>\n",
       "      <td>А дайте поцелую вашу ручку.\",,,,,,</td>\n",
       "    </tr>\n",
       "    <tr>\n",
       "      <th>3</th>\n",
       "      <td>Ты что,\" едой не хочешь делиться? -Я тобой не ...</td>\n",
       "      <td>-Ты что\", ревнуешь? Мне так нравится, когда ты...</td>\n",
       "    </tr>\n",
       "    <tr>\n",
       "      <th>4</th>\n",
       "      <td>-Ничего,\" сейчас у них обед.</td>\n",
       "      <td>Обходить нам\", что ли?,,,,,</td>\n",
       "    </tr>\n",
       "    <tr>\n",
       "      <th>5</th>\n",
       "      <td>А пока пообедаем в вашем ресторане за ваш счёт...</td>\n",
       "      <td>NaN</td>\n",
       "    </tr>\n",
       "    <tr>\n",
       "      <th>6</th>\n",
       "      <td>-А вызывайте. А мы пока пообедаем. Официант!\\t...</td>\n",
       "      <td>NaN</td>\n",
       "    </tr>\n",
       "    <tr>\n",
       "      <th>7</th>\n",
       "      <td>#NAME?,\" конечно. Только сначала пообедаем.</td>\n",
       "      <td>-Ну\", что у нас там сегодня?,,,,,</td>\n",
       "    </tr>\n",
       "    <tr>\n",
       "      <th>8</th>\n",
       "      <td>-Это ошибка какая-то. Мы пришли сюда пообедать...</td>\n",
       "      <td>NaN</td>\n",
       "    </tr>\n",
       "    <tr>\n",
       "      <th>9</th>\n",
       "      <td>-Вообще-то я тебе ужин приготовила.\\tВино купи...</td>\n",
       "      <td>NaN</td>\n",
       "    </tr>\n",
       "    <tr>\n",
       "      <th>10</th>\n",
       "      <td>и варишь борщ! Ибо это непристойное предложени...</td>\n",
       "      <td>-Очень непристойное. Именно поэтому я ему сказ...</td>\n",
       "    </tr>\n",
       "    <tr>\n",
       "      <th>11</th>\n",
       "      <td>решила мужу ужин приготовить. И пусть это звуч...</td>\n",
       "      <td>но у меня закончилась соль.\",,,,,,</td>\n",
       "    </tr>\n",
       "    <tr>\n",
       "      <th>12</th>\n",
       "      <td>Пузырь потом месяц будет доедать недоеденную е...</td>\n",
       "      <td>NaN</td>\n",
       "    </tr>\n",
       "    <tr>\n",
       "      <th>13</th>\n",
       "      <td>-На кефире надо делать,\" мягкое мясо получается.</td>\n",
       "      <td>-На кефире только в Москве замачивают. На вине...</td>\n",
       "    </tr>\n",
       "    <tr>\n",
       "      <th>14</th>\n",
       "      <td>-А для меня в шашлыке самое главное - мясо.\\t-...</td>\n",
       "      <td>NaN</td>\n",
       "    </tr>\n",
       "    <tr>\n",
       "      <th>15</th>\n",
       "      <td>Правда,\" у нас сейчас обед.</td>\n",
       "      <td>-Я думал\", всё, кранты.,,,,</td>\n",
       "    </tr>\n",
       "    <tr>\n",
       "      <th>16</th>\n",
       "      <td>#NAME?,\" а завтрак?</td>\n",
       "      <td>-Ох ты мой красавец!\",,,,,,</td>\n",
       "    </tr>\n",
       "    <tr>\n",
       "      <th>17</th>\n",
       "      <td>Она просто сама приехала и еды привезла с рест...</td>\n",
       "      <td>NaN</td>\n",
       "    </tr>\n",
       "    <tr>\n",
       "      <th>18</th>\n",
       "      <td>Курица или пирог? -Курица!\\t-Спасать надо кури...</td>\n",
       "      <td>NaN</td>\n",
       "    </tr>\n",
       "    <tr>\n",
       "      <th>19</th>\n",
       "      <td>-Спасать надо курицу. Муж без обеда - вот это ...</td>\n",
       "      <td>Ну что\", петли будем резать? -Всё-то тебе реза...</td>\n",
       "    </tr>\n",
       "    <tr>\n",
       "      <th>20</th>\n",
       "      <td>Ваш товарищ голоден и пить хочет. -Мы мигом.\\t...</td>\n",
       "      <td>NaN</td>\n",
       "    </tr>\n",
       "    <tr>\n",
       "      <th>21</th>\n",
       "      <td>-Спасибо. -Вы кушайте,\" кушайте.</td>\n",
       "      <td>-Спасибо.\",,,,,,</td>\n",
       "    </tr>\n",
       "    <tr>\n",
       "      <th>22</th>\n",
       "      <td>Может, позвонить в ресторан,\" чтобы ещё присла...</td>\n",
       "      <td>-Вроде всего хватает. Люди довольны.\",,,,,</td>\n",
       "    </tr>\n",
       "    <tr>\n",
       "      <th>23</th>\n",
       "      <td>Кушать будешь? -Потом.\\t-Ну и ладно.,,,,,,,</td>\n",
       "      <td>NaN</td>\n",
       "    </tr>\n",
       "    <tr>\n",
       "      <th>24</th>\n",
       "      <td>#NAME?, они же живые. Они и дышат,\" и водичку ...</td>\n",
       "      <td>-А под землёй же нет воздуха. Они ж там задохн...</td>\n",
       "    </tr>\n",
       "    <tr>\n",
       "      <th>25</th>\n",
       "      <td>Завтракать будешь? -А...\\tДа. Александр, извин...</td>\n",
       "      <td>NaN</td>\n",
       "    </tr>\n",
       "    <tr>\n",
       "      <th>26</th>\n",
       "      <td>Сейчас будет обед.\\tВсё по распорядку.,,,,,,,</td>\n",
       "      <td>NaN</td>\n",
       "    </tr>\n",
       "    <tr>\n",
       "      <th>27</th>\n",
       "      <td>Ну,\" я вернусь к 2-м. Я еду в Правление.</td>\n",
       "      <td>В Правление?\",,,,,,</td>\n",
       "    </tr>\n",
       "    <tr>\n",
       "      <th>28</th>\n",
       "      <td>#NAME?,\" Бетти. - Оставайтесь на обед.</td>\n",
       "      <td>Может быть завтра. Нужно идти.\",,,,,,</td>\n",
       "    </tr>\n",
       "    <tr>\n",
       "      <th>29</th>\n",
       "      <td>- Едешь на выходные? - Нет,\" я еду в Сан Диего.</td>\n",
       "      <td>Сан Диего? Правда? Надолго?\",,,,,,</td>\n",
       "    </tr>\n",
       "    <tr>\n",
       "      <th>30</th>\n",
       "      <td>мясо раздавать. -Что ты хотель,\" Федя!</td>\n",
       "      <td>Это не твои соседи. Значит так. Завтра берешь ...</td>\n",
       "    </tr>\n",
       "    <tr>\n",
       "      <th>31</th>\n",
       "      <td>-Да нет, не понял,\" за Василича... -Он не пьет.</td>\n",
       "      <td>-Так за Василича! -Совсем не пьет.\",,,,,</td>\n",
       "    </tr>\n",
       "    <tr>\n",
       "      <th>32</th>\n",
       "      <td>-Так за Василича! -Совсем не пьет.\\tВов, на се...</td>\n",
       "      <td>NaN</td>\n",
       "    </tr>\n",
       "    <tr>\n",
       "      <th>33</th>\n",
       "      <td>-И не пьешь? -Нет,\" не пью.</td>\n",
       "      <td>-Молодец. Я\", когда на пенсию выйду, тоже брош...</td>\n",
       "    </tr>\n",
       "    <tr>\n",
       "      <th>34</th>\n",
       "      <td>Вот я подлечился. Не пью,\" не курю.</td>\n",
       "      <td>-Соврал я.\",,,,,,</td>\n",
       "    </tr>\n",
       "    <tr>\n",
       "      <th>35</th>\n",
       "      <td>на Тимирязевскую машину с бараниной привезли.\\...</td>\n",
       "      <td>NaN</td>\n",
       "    </tr>\n",
       "    <tr>\n",
       "      <th>36</th>\n",
       "      <td>Дешевое мясо. -Полезная информация.\\tТолько к ...</td>\n",
       "      <td>NaN</td>\n",
       "    </tr>\n",
       "    <tr>\n",
       "      <th>37</th>\n",
       "      <td>-Сам готовиль. Кушай.\\tМне работать надо. -Спа...</td>\n",
       "      <td>NaN</td>\n",
       "    </tr>\n",
       "    <tr>\n",
       "      <th>38</th>\n",
       "      <td>что они пили? -\"Водку пили\", - сказал.\\t-Водку...</td>\n",
       "      <td>NaN</td>\n",
       "    </tr>\n",
       "    <tr>\n",
       "      <th>39</th>\n",
       "      <td>А ты не видела,\" Каленый тоже пил? -Какой Кале...</td>\n",
       "      <td>-Он такой был\", с собакой, большой, красивый.,,,</td>\n",
       "    </tr>\n",
       "    <tr>\n",
       "      <th>40</th>\n",
       "      <td>-Что вы пили? -А с какой целью интересуетесь?\\...</td>\n",
       "      <td>NaN</td>\n",
       "    </tr>\n",
       "    <tr>\n",
       "      <th>41</th>\n",
       "      <td>жить,\" понимаешь? Я тебе буду готовить каждый ...</td>\n",
       "      <td>теперь. -19. 19-е горит уже.\",,,,,,</td>\n",
       "    </tr>\n",
       "    <tr>\n",
       "      <th>42</th>\n",
       "      <td>Ну, при таком отце она еще и пить начнет,\" сер...</td>\n",
       "      <td>СОБАКА ЛАЕТ И как я прожила с тобой столько\",,,,,</td>\n",
       "    </tr>\n",
       "    <tr>\n",
       "      <th>43</th>\n",
       "      <td>-Почему пытали? Коля бухой брюки гладил,\" сок ...</td>\n",
       "      <td>-Слушайте\", что вы за люди! Человек пропал, а ...</td>\n",
       "    </tr>\n",
       "    <tr>\n",
       "      <th>44</th>\n",
       "      <td>-Меньше водку надо жрать. -Да ему подсыпали чт...</td>\n",
       "      <td>NaN</td>\n",
       "    </tr>\n",
       "    <tr>\n",
       "      <th>45</th>\n",
       "      <td>-Да пить не умеет,\" черт нерусский. Мы-то все ...</td>\n",
       "      <td>-Да? -Федьку посошок срубил.\",,,,,,</td>\n",
       "    </tr>\n",
       "    <tr>\n",
       "      <th>46</th>\n",
       "      <td>-Значит, надо узнать, с кем они пили,\" что это...</td>\n",
       "      <td>-Я прислушаюсь. У тебя номер дома какой?\",,,,</td>\n",
       "    </tr>\n",
       "    <tr>\n",
       "      <th>47</th>\n",
       "      <td>Слушай,\" дай сахарку. Не могу я твою бурду без...</td>\n",
       "      <td>-Кто зеленый чай с сахаром пьет? Вот\", кушай и...</td>\n",
       "    </tr>\n",
       "    <tr>\n",
       "      <th>48</th>\n",
       "      <td>-Кто зеленый чай с сахаром пьет? Вот,\" кушай и...</td>\n",
       "      <td>-Ну сходи за сахаром. -Про белую смерть слышал...</td>\n",
       "    </tr>\n",
       "    <tr>\n",
       "      <th>49</th>\n",
       "      <td>А ты... А ты почему ничего не кушаешь,\" а?</td>\n",
       "      <td>Я самый лучший повар из Таджикистана привез. С...</td>\n",
       "    </tr>\n",
       "  </tbody>\n",
       "</table>\n",
       "</div>"
      ],
      "text/plain": [
       "                                          fist_phrase  \\\n",
       "0                 -Кать,\" оставайтесь с нами на ужин.   \n",
       "1   Андрея всё равно нет. Поужинаете у нас.\\tПодож...   \n",
       "2      -Не понял. -Катя,\" оставайтесь с нами на ужин.   \n",
       "3   Ты что,\" едой не хочешь делиться? -Я тобой не ...   \n",
       "4                        -Ничего,\" сейчас у них обед.   \n",
       "5   А пока пообедаем в вашем ресторане за ваш счёт...   \n",
       "6   -А вызывайте. А мы пока пообедаем. Официант!\\t...   \n",
       "7         #NAME?,\" конечно. Только сначала пообедаем.   \n",
       "8   -Это ошибка какая-то. Мы пришли сюда пообедать...   \n",
       "9   -Вообще-то я тебе ужин приготовила.\\tВино купи...   \n",
       "10  и варишь борщ! Ибо это непристойное предложени...   \n",
       "11  решила мужу ужин приготовить. И пусть это звуч...   \n",
       "12  Пузырь потом месяц будет доедать недоеденную е...   \n",
       "13   -На кефире надо делать,\" мягкое мясо получается.   \n",
       "14  -А для меня в шашлыке самое главное - мясо.\\t-...   \n",
       "15                        Правда,\" у нас сейчас обед.   \n",
       "16                                #NAME?,\" а завтрак?   \n",
       "17  Она просто сама приехала и еды привезла с рест...   \n",
       "18  Курица или пирог? -Курица!\\t-Спасать надо кури...   \n",
       "19  -Спасать надо курицу. Муж без обеда - вот это ...   \n",
       "20  Ваш товарищ голоден и пить хочет. -Мы мигом.\\t...   \n",
       "21                   -Спасибо. -Вы кушайте,\" кушайте.   \n",
       "22  Может, позвонить в ресторан,\" чтобы ещё присла...   \n",
       "23        Кушать будешь? -Потом.\\t-Ну и ладно.,,,,,,,   \n",
       "24  #NAME?, они же живые. Они и дышат,\" и водичку ...   \n",
       "25  Завтракать будешь? -А...\\tДа. Александр, извин...   \n",
       "26      Сейчас будет обед.\\tВсё по распорядку.,,,,,,,   \n",
       "27           Ну,\" я вернусь к 2-м. Я еду в Правление.   \n",
       "28             #NAME?,\" Бетти. - Оставайтесь на обед.   \n",
       "29    - Едешь на выходные? - Нет,\" я еду в Сан Диего.   \n",
       "30             мясо раздавать. -Что ты хотель,\" Федя!   \n",
       "31    -Да нет, не понял,\" за Василича... -Он не пьет.   \n",
       "32  -Так за Василича! -Совсем не пьет.\\tВов, на се...   \n",
       "33                        -И не пьешь? -Нет,\" не пью.   \n",
       "34                Вот я подлечился. Не пью,\" не курю.   \n",
       "35  на Тимирязевскую машину с бараниной привезли.\\...   \n",
       "36  Дешевое мясо. -Полезная информация.\\tТолько к ...   \n",
       "37  -Сам готовиль. Кушай.\\tМне работать надо. -Спа...   \n",
       "38  что они пили? -\"Водку пили\", - сказал.\\t-Водку...   \n",
       "39  А ты не видела,\" Каленый тоже пил? -Какой Кале...   \n",
       "40  -Что вы пили? -А с какой целью интересуетесь?\\...   \n",
       "41  жить,\" понимаешь? Я тебе буду готовить каждый ...   \n",
       "42  Ну, при таком отце она еще и пить начнет,\" сер...   \n",
       "43  -Почему пытали? Коля бухой брюки гладил,\" сок ...   \n",
       "44  -Меньше водку надо жрать. -Да ему подсыпали чт...   \n",
       "45  -Да пить не умеет,\" черт нерусский. Мы-то все ...   \n",
       "46  -Значит, надо узнать, с кем они пили,\" что это...   \n",
       "47  Слушай,\" дай сахарку. Не могу я твою бурду без...   \n",
       "48  -Кто зеленый чай с сахаром пьет? Вот,\" кушай и...   \n",
       "49         А ты... А ты почему ничего не кушаешь,\" а?   \n",
       "\n",
       "                                                reply  \n",
       "0      Андрея всё равно нет. Поужинаете у нас.\",,,,,,  \n",
       "1                                                 NaN  \n",
       "2                  А дайте поцелую вашу ручку.\",,,,,,  \n",
       "3   -Ты что\", ревнуешь? Мне так нравится, когда ты...  \n",
       "4                         Обходить нам\", что ли?,,,,,  \n",
       "5                                                 NaN  \n",
       "6                                                 NaN  \n",
       "7                   -Ну\", что у нас там сегодня?,,,,,  \n",
       "8                                                 NaN  \n",
       "9                                                 NaN  \n",
       "10  -Очень непристойное. Именно поэтому я ему сказ...  \n",
       "11                 но у меня закончилась соль.\",,,,,,  \n",
       "12                                                NaN  \n",
       "13  -На кефире только в Москве замачивают. На вине...  \n",
       "14                                                NaN  \n",
       "15                        -Я думал\", всё, кранты.,,,,  \n",
       "16                        -Ох ты мой красавец!\",,,,,,  \n",
       "17                                                NaN  \n",
       "18                                                NaN  \n",
       "19  Ну что\", петли будем резать? -Всё-то тебе реза...  \n",
       "20                                                NaN  \n",
       "21                                   -Спасибо.\",,,,,,  \n",
       "22         -Вроде всего хватает. Люди довольны.\",,,,,  \n",
       "23                                                NaN  \n",
       "24  -А под землёй же нет воздуха. Они ж там задохн...  \n",
       "25                                                NaN  \n",
       "26                                                NaN  \n",
       "27                                В Правление?\",,,,,,  \n",
       "28              Может быть завтра. Нужно идти.\",,,,,,  \n",
       "29                 Сан Диего? Правда? Надолго?\",,,,,,  \n",
       "30  Это не твои соседи. Значит так. Завтра берешь ...  \n",
       "31           -Так за Василича! -Совсем не пьет.\",,,,,  \n",
       "32                                                NaN  \n",
       "33  -Молодец. Я\", когда на пенсию выйду, тоже брош...  \n",
       "34                                  -Соврал я.\",,,,,,  \n",
       "35                                                NaN  \n",
       "36                                                NaN  \n",
       "37                                                NaN  \n",
       "38                                                NaN  \n",
       "39   -Он такой был\", с собакой, большой, красивый.,,,  \n",
       "40                                                NaN  \n",
       "41                теперь. -19. 19-е горит уже.\",,,,,,  \n",
       "42  СОБАКА ЛАЕТ И как я прожила с тобой столько\",,,,,  \n",
       "43  -Слушайте\", что вы за люди! Человек пропал, а ...  \n",
       "44                                                NaN  \n",
       "45                -Да? -Федьку посошок срубил.\",,,,,,  \n",
       "46      -Я прислушаюсь. У тебя номер дома какой?\",,,,  \n",
       "47  -Кто зеленый чай с сахаром пьет? Вот\", кушай и...  \n",
       "48  -Ну сходи за сахаром. -Про белую смерть слышал...  \n",
       "49  Я самый лучший повар из Таджикистана привез. С...  "
      ]
     },
     "execution_count": 70,
     "metadata": {},
     "output_type": "execute_result"
    }
   ],
   "source": [
    "big_df.head(50)"
   ]
  },
  {
   "cell_type": "code",
   "execution_count": 55,
   "metadata": {},
   "outputs": [
    {
     "data": {
      "text/plain": [
       "650"
      ]
     },
     "execution_count": 55,
     "metadata": {},
     "output_type": "execute_result"
    }
   ],
   "source": [
    "len(big_df)"
   ]
  },
  {
   "cell_type": "code",
   "execution_count": 46,
   "metadata": {},
   "outputs": [
    {
     "data": {
      "text/plain": [
       "93"
      ]
     },
     "execution_count": 46,
     "metadata": {},
     "output_type": "execute_result"
    }
   ],
   "source": [
    "fist_phrase = [phrase[0] for phrase in all_subs_dialogues]\n",
    "reply = [phrase[1] for phrase in all_subs_dialogues]\n",
    "len(fist_phrase)"
   ]
  },
  {
   "cell_type": "code",
   "execution_count": 73,
   "metadata": {},
   "outputs": [
    {
     "data": {
      "text/plain": [
       "('Андрея всё равно нет. Поужинаете у нас.\\tПодождёте здесь. -Спасибо, конечно, за приглашение,,,,,',\n",
       " nan)"
      ]
     },
     "execution_count": 73,
     "metadata": {},
     "output_type": "execute_result"
    }
   ],
   "source": [
    "final_df = pd.concat([big_df, small_df], ignore_index=True, axis = 0)\n",
    "final_df[\"fist_phrase\"][1], final_df[\"reply\"][1]"
   ]
  },
  {
   "cell_type": "code",
   "execution_count": 61,
   "metadata": {},
   "outputs": [
    {
     "data": {
      "text/plain": [
       "743"
      ]
     },
     "execution_count": 61,
     "metadata": {},
     "output_type": "execute_result"
    }
   ],
   "source": [
    "len(final_df)"
   ]
  },
  {
   "cell_type": "code",
   "execution_count": 96,
   "metadata": {},
   "outputs": [],
   "source": [
    "final_df.to_csv(\"C:\\HSE_learning\\Python\\collect_dataset\\sub\\dialogues_df_final.csv\", sep='\\t', encoding='utf-8', index=False)"
   ]
  },
  {
   "cell_type": "code",
   "execution_count": 67,
   "metadata": {},
   "outputs": [],
   "source": [
    "final = pd.read_csv(\"C:/HSE_learning/Python/collect_dataset/sub/dialogues_df_final.csv\", sep='\\t', encoding='utf-8')"
   ]
  },
  {
   "cell_type": "code",
   "execution_count": 78,
   "metadata": {},
   "outputs": [
    {
     "data": {
      "text/plain": [
       "'А пока пообедаем в вашем ресторане за ваш счёт.\\t-Знаете что, а вот это уже хамство. Вы хотите, чтобы я вызвала полицию?,,,,,'"
      ]
     },
     "execution_count": 78,
     "metadata": {},
     "output_type": "execute_result"
    }
   ],
   "source": [
    "final['fist_phrase'][5]"
   ]
  },
  {
   "cell_type": "code",
   "execution_count": 88,
   "metadata": {},
   "outputs": [],
   "source": [
    "st =0\n",
    "\n",
    "new_first = []\n",
    "new_reply = []\n",
    "\n",
    "for first, reply in zip(final['fist_phrase'], final['reply']):\n",
    "    \n",
    "    #print(first,\"|||\", reply)\n",
    "    if '\\t' in first:\n",
    "        fst, rpl = first.split('\\t')\n",
    "        #print(fst, \">>>\", rpl)\n",
    "        new_first.append(fst)\n",
    "        new_reply.append(rpl)\n",
    "        \n",
    "    else:\n",
    "        new_first.append(first)\n",
    "        new_reply.append(reply)\n",
    "    \n",
    "    \"\"\"\n",
    "    st+=1\n",
    "    if st > 10:\n",
    "        break\"\"\""
   ]
  },
  {
   "cell_type": "code",
   "execution_count": 89,
   "metadata": {},
   "outputs": [
    {
     "data": {
      "text/plain": [
       "['-Кать,\" оставайтесь с нами на ужин.',\n",
       " 'Андрея всё равно нет. Поужинаете у нас.',\n",
       " '-Не понял. -Катя,\" оставайтесь с нами на ужин.',\n",
       " 'Ты что,\" едой не хочешь делиться? -Я тобой не хочу делиться.',\n",
       " '-Ничего,\" сейчас у них обед.',\n",
       " 'А пока пообедаем в вашем ресторане за ваш счёт.',\n",
       " '-А вызывайте. А мы пока пообедаем. Официант!',\n",
       " '#NAME?,\" конечно. Только сначала пообедаем.',\n",
       " '-Это ошибка какая-то. Мы пришли сюда пообедать.',\n",
       " '-Вообще-то я тебе ужин приготовила.']"
      ]
     },
     "execution_count": 89,
     "metadata": {},
     "output_type": "execute_result"
    }
   ],
   "source": [
    "new_first[:10]"
   ]
  },
  {
   "cell_type": "code",
   "execution_count": 90,
   "metadata": {},
   "outputs": [
    {
     "data": {
      "text/plain": [
       "['Андрея всё равно нет. Поужинаете у нас.\",,,,,,',\n",
       " 'Подождёте здесь. -Спасибо, конечно, за приглашение,,,,,',\n",
       " 'А дайте поцелую вашу ручку.\",,,,,,',\n",
       " '-Ты что\", ревнуешь? Мне так нравится, когда ты ревнуешь.,,,,',\n",
       " 'Обходить нам\", что ли?,,,,,',\n",
       " '-Знаете что, а вот это уже хамство. Вы хотите, чтобы я вызвала полицию?,,,,,',\n",
       " '-Хорошо, что всё без особых проблем прошло.,,,,,,',\n",
       " '-Ну\", что у нас там сегодня?,,,,,',\n",
       " 'А что, нельзя?,,,,,,',\n",
       " 'Вино купила.,,,,,,,']"
      ]
     },
     "execution_count": 90,
     "metadata": {},
     "output_type": "execute_result"
    }
   ],
   "source": [
    "new_reply[:10]"
   ]
  },
  {
   "cell_type": "code",
   "execution_count": 94,
   "metadata": {},
   "outputs": [
    {
     "data": {
      "text/html": [
       "<div>\n",
       "<style scoped>\n",
       "    .dataframe tbody tr th:only-of-type {\n",
       "        vertical-align: middle;\n",
       "    }\n",
       "\n",
       "    .dataframe tbody tr th {\n",
       "        vertical-align: top;\n",
       "    }\n",
       "\n",
       "    .dataframe thead th {\n",
       "        text-align: right;\n",
       "    }\n",
       "</style>\n",
       "<table border=\"1\" class=\"dataframe\">\n",
       "  <thead>\n",
       "    <tr style=\"text-align: right;\">\n",
       "      <th></th>\n",
       "      <th>fist_phrase</th>\n",
       "      <th>reply</th>\n",
       "    </tr>\n",
       "  </thead>\n",
       "  <tbody>\n",
       "    <tr>\n",
       "      <th>0</th>\n",
       "      <td>-Кать,\" оставайтесь с нами на ужин.</td>\n",
       "      <td>Андрея всё равно нет. Поужинаете у нас.\",,,,,,</td>\n",
       "    </tr>\n",
       "    <tr>\n",
       "      <th>1</th>\n",
       "      <td>Андрея всё равно нет. Поужинаете у нас.</td>\n",
       "      <td>Подождёте здесь. -Спасибо, конечно, за приглаш...</td>\n",
       "    </tr>\n",
       "    <tr>\n",
       "      <th>2</th>\n",
       "      <td>-Не понял. -Катя,\" оставайтесь с нами на ужин.</td>\n",
       "      <td>А дайте поцелую вашу ручку.\",,,,,,</td>\n",
       "    </tr>\n",
       "    <tr>\n",
       "      <th>3</th>\n",
       "      <td>Ты что,\" едой не хочешь делиться? -Я тобой не ...</td>\n",
       "      <td>-Ты что\", ревнуешь? Мне так нравится, когда ты...</td>\n",
       "    </tr>\n",
       "    <tr>\n",
       "      <th>4</th>\n",
       "      <td>-Ничего,\" сейчас у них обед.</td>\n",
       "      <td>Обходить нам\", что ли?,,,,,</td>\n",
       "    </tr>\n",
       "  </tbody>\n",
       "</table>\n",
       "</div>"
      ],
      "text/plain": [
       "                                         fist_phrase  \\\n",
       "0                -Кать,\" оставайтесь с нами на ужин.   \n",
       "1            Андрея всё равно нет. Поужинаете у нас.   \n",
       "2     -Не понял. -Катя,\" оставайтесь с нами на ужин.   \n",
       "3  Ты что,\" едой не хочешь делиться? -Я тобой не ...   \n",
       "4                       -Ничего,\" сейчас у них обед.   \n",
       "\n",
       "                                               reply  \n",
       "0     Андрея всё равно нет. Поужинаете у нас.\",,,,,,  \n",
       "1  Подождёте здесь. -Спасибо, конечно, за приглаш...  \n",
       "2                 А дайте поцелую вашу ручку.\",,,,,,  \n",
       "3  -Ты что\", ревнуешь? Мне так нравится, когда ты...  \n",
       "4                        Обходить нам\", что ли?,,,,,  "
      ]
     },
     "execution_count": 94,
     "metadata": {},
     "output_type": "execute_result"
    }
   ],
   "source": [
    "dialogues_df = pd.DataFrame(\n",
    "    {'fist_phrase': new_first,\n",
    "     'reply': new_reply,\n",
    "    })\n",
    "\n",
    "dialogues_df.head(5)"
   ]
  },
  {
   "cell_type": "code",
   "execution_count": 97,
   "metadata": {},
   "outputs": [],
   "source": [
    "dialogues_df.to_csv(\"C:\\HSE_learning\\Python\\collect_dataset\\sub\\dialogues_df_repaire.csv\", sep='\\t', encoding='utf-8', index=False)"
   ]
  },
  {
   "cell_type": "code",
   "execution_count": 99,
   "metadata": {},
   "outputs": [],
   "source": [
    "repaired = pd.read_csv(\"C:\\HSE_learning\\Python\\collect_dataset\\sub\\dialogues_df_repaire.csv\", sep='\\t', encoding='utf-8')"
   ]
  },
  {
   "cell_type": "code",
   "execution_count": 103,
   "metadata": {},
   "outputs": [
    {
     "data": {
      "text/plain": [
       "743"
      ]
     },
     "execution_count": 103,
     "metadata": {},
     "output_type": "execute_result"
    }
   ],
   "source": [
    "len(repaired)"
   ]
  },
  {
   "cell_type": "code",
   "execution_count": 101,
   "metadata": {},
   "outputs": [
    {
     "data": {
      "text/html": [
       "<div>\n",
       "<style scoped>\n",
       "    .dataframe tbody tr th:only-of-type {\n",
       "        vertical-align: middle;\n",
       "    }\n",
       "\n",
       "    .dataframe tbody tr th {\n",
       "        vertical-align: top;\n",
       "    }\n",
       "\n",
       "    .dataframe thead th {\n",
       "        text-align: right;\n",
       "    }\n",
       "</style>\n",
       "<table border=\"1\" class=\"dataframe\">\n",
       "  <thead>\n",
       "    <tr style=\"text-align: right;\">\n",
       "      <th></th>\n",
       "      <th>fist_phrase</th>\n",
       "      <th>reply</th>\n",
       "    </tr>\n",
       "  </thead>\n",
       "  <tbody>\n",
       "    <tr>\n",
       "      <th>0</th>\n",
       "      <td>-Кать,\" оставайтесь с нами на ужин.</td>\n",
       "      <td>Андрея всё равно нет. Поужинаете у нас.\",,,,,,</td>\n",
       "    </tr>\n",
       "    <tr>\n",
       "      <th>1</th>\n",
       "      <td>Андрея всё равно нет. Поужинаете у нас.</td>\n",
       "      <td>Подождёте здесь. -Спасибо, конечно, за приглаш...</td>\n",
       "    </tr>\n",
       "    <tr>\n",
       "      <th>2</th>\n",
       "      <td>-Не понял. -Катя,\" оставайтесь с нами на ужин.</td>\n",
       "      <td>А дайте поцелую вашу ручку.\",,,,,,</td>\n",
       "    </tr>\n",
       "    <tr>\n",
       "      <th>3</th>\n",
       "      <td>Ты что,\" едой не хочешь делиться? -Я тобой не ...</td>\n",
       "      <td>-Ты что\", ревнуешь? Мне так нравится, когда ты...</td>\n",
       "    </tr>\n",
       "    <tr>\n",
       "      <th>4</th>\n",
       "      <td>-Ничего,\" сейчас у них обед.</td>\n",
       "      <td>Обходить нам\", что ли?,,,,,</td>\n",
       "    </tr>\n",
       "    <tr>\n",
       "      <th>5</th>\n",
       "      <td>А пока пообедаем в вашем ресторане за ваш счёт.</td>\n",
       "      <td>-Знаете что, а вот это уже хамство. Вы хотите,...</td>\n",
       "    </tr>\n",
       "    <tr>\n",
       "      <th>6</th>\n",
       "      <td>-А вызывайте. А мы пока пообедаем. Официант!</td>\n",
       "      <td>-Хорошо, что всё без особых проблем прошло.,,,,,,</td>\n",
       "    </tr>\n",
       "    <tr>\n",
       "      <th>7</th>\n",
       "      <td>#NAME?,\" конечно. Только сначала пообедаем.</td>\n",
       "      <td>-Ну\", что у нас там сегодня?,,,,,</td>\n",
       "    </tr>\n",
       "    <tr>\n",
       "      <th>8</th>\n",
       "      <td>-Это ошибка какая-то. Мы пришли сюда пообедать.</td>\n",
       "      <td>А что, нельзя?,,,,,,</td>\n",
       "    </tr>\n",
       "    <tr>\n",
       "      <th>9</th>\n",
       "      <td>-Вообще-то я тебе ужин приготовила.</td>\n",
       "      <td>Вино купила.,,,,,,,</td>\n",
       "    </tr>\n",
       "    <tr>\n",
       "      <th>10</th>\n",
       "      <td>и варишь борщ! Ибо это непристойное предложени...</td>\n",
       "      <td>-Очень непристойное. Именно поэтому я ему сказ...</td>\n",
       "    </tr>\n",
       "    <tr>\n",
       "      <th>11</th>\n",
       "      <td>решила мужу ужин приготовить. И пусть это звуч...</td>\n",
       "      <td>но у меня закончилась соль.\",,,,,,</td>\n",
       "    </tr>\n",
       "    <tr>\n",
       "      <th>12</th>\n",
       "      <td>Пузырь потом месяц будет доедать недоеденную еду.</td>\n",
       "      <td>-Ну, он-то точно не откажется, тем более за зд...</td>\n",
       "    </tr>\n",
       "    <tr>\n",
       "      <th>13</th>\n",
       "      <td>-На кефире надо делать,\" мягкое мясо получается.</td>\n",
       "      <td>-На кефире только в Москве замачивают. На вине...</td>\n",
       "    </tr>\n",
       "    <tr>\n",
       "      <th>14</th>\n",
       "      <td>-А для меня в шашлыке самое главное - мясо.</td>\n",
       "      <td>-О, к кому-то девчонки приехали.,,,,,,</td>\n",
       "    </tr>\n",
       "    <tr>\n",
       "      <th>15</th>\n",
       "      <td>Правда,\" у нас сейчас обед.</td>\n",
       "      <td>-Я думал\", всё, кранты.,,,,</td>\n",
       "    </tr>\n",
       "    <tr>\n",
       "      <th>16</th>\n",
       "      <td>#NAME?,\" а завтрак?</td>\n",
       "      <td>-Ох ты мой красавец!\",,,,,,</td>\n",
       "    </tr>\n",
       "    <tr>\n",
       "      <th>17</th>\n",
       "      <td>Она просто сама приехала и еды привезла с рест...</td>\n",
       "      <td>Ну там просто знают её все.,,,,,,,</td>\n",
       "    </tr>\n",
       "    <tr>\n",
       "      <th>18</th>\n",
       "      <td>Курица или пирог? -Курица!</td>\n",
       "      <td>-Спасать надо курицу. Муж без обеда - вот это ...</td>\n",
       "    </tr>\n",
       "    <tr>\n",
       "      <th>19</th>\n",
       "      <td>-Спасать надо курицу. Муж без обеда - вот это ...</td>\n",
       "      <td>Ну что\", петли будем резать? -Всё-то тебе реза...</td>\n",
       "    </tr>\n",
       "    <tr>\n",
       "      <th>20</th>\n",
       "      <td>Ваш товарищ голоден и пить хочет. -Мы мигом.</td>\n",
       "      <td>-Скажи, что ты сейчас чувствуешь?,,,,,,</td>\n",
       "    </tr>\n",
       "    <tr>\n",
       "      <th>21</th>\n",
       "      <td>-Спасибо. -Вы кушайте,\" кушайте.</td>\n",
       "      <td>-Спасибо.\",,,,,,</td>\n",
       "    </tr>\n",
       "    <tr>\n",
       "      <th>22</th>\n",
       "      <td>Может, позвонить в ресторан,\" чтобы ещё присла...</td>\n",
       "      <td>-Вроде всего хватает. Люди довольны.\",,,,,</td>\n",
       "    </tr>\n",
       "    <tr>\n",
       "      <th>23</th>\n",
       "      <td>Кушать будешь? -Потом.</td>\n",
       "      <td>-Ну и ладно.,,,,,,,</td>\n",
       "    </tr>\n",
       "    <tr>\n",
       "      <th>24</th>\n",
       "      <td>#NAME?, они же живые. Они и дышат,\" и водичку ...</td>\n",
       "      <td>-А под землёй же нет воздуха. Они ж там задохн...</td>\n",
       "    </tr>\n",
       "    <tr>\n",
       "      <th>25</th>\n",
       "      <td>Завтракать будешь? -А...</td>\n",
       "      <td>Да. Александр, извините, я вчера...,,,,,</td>\n",
       "    </tr>\n",
       "    <tr>\n",
       "      <th>26</th>\n",
       "      <td>Сейчас будет обед.</td>\n",
       "      <td>Всё по распорядку.,,,,,,,</td>\n",
       "    </tr>\n",
       "    <tr>\n",
       "      <th>27</th>\n",
       "      <td>Ну,\" я вернусь к 2-м. Я еду в Правление.</td>\n",
       "      <td>В Правление?\",,,,,,</td>\n",
       "    </tr>\n",
       "    <tr>\n",
       "      <th>28</th>\n",
       "      <td>#NAME?,\" Бетти. - Оставайтесь на обед.</td>\n",
       "      <td>Может быть завтра. Нужно идти.\",,,,,,</td>\n",
       "    </tr>\n",
       "    <tr>\n",
       "      <th>29</th>\n",
       "      <td>- Едешь на выходные? - Нет,\" я еду в Сан Диего.</td>\n",
       "      <td>Сан Диего? Правда? Надолго?\",,,,,,</td>\n",
       "    </tr>\n",
       "    <tr>\n",
       "      <th>...</th>\n",
       "      <td>...</td>\n",
       "      <td>...</td>\n",
       "    </tr>\n",
       "    <tr>\n",
       "      <th>120</th>\n",
       "      <td>друг друга жрать. -Я поддерживаю.</td>\n",
       "      <td>\"-Давайте подавать в суд на этот... -\"\"Ребилди...</td>\n",
       "    </tr>\n",
       "    <tr>\n",
       "      <th>121</th>\n",
       "      <td>Полька овощи на пару приготовила.</td>\n",
       "      <td>Брокколи. Да. Вкусно.,,,,,,,</td>\n",
       "    </tr>\n",
       "    <tr>\n",
       "      <th>122</th>\n",
       "      <td>за столом? Он что, меня ударил,\" а потом продо...</td>\n",
       "      <td>Нас в доме было только трое. Я уверен\", что кт...</td>\n",
       "    </tr>\n",
       "    <tr>\n",
       "      <th>123</th>\n",
       "      <td>-Знает же,\" что ему пить нельзя. Специально се...</td>\n",
       "      <td>Жить не хочет\", будто нет ничего важнее в жизн...</td>\n",
       "    </tr>\n",
       "    <tr>\n",
       "      <th>124</th>\n",
       "      <td>Вы очень хорошо ее знаете,\" так как раньше она...</td>\n",
       "      <td>Но сегодня она преподнесет вам\",,,,,,</td>\n",
       "    </tr>\n",
       "    <tr>\n",
       "      <th>125</th>\n",
       "      <td>так что собирайте манатки! Хватит жрать коктейли!</td>\n",
       "      <td>Выметайтесь! Всё, пока, Роджер. Развлекайтесь!...</td>\n",
       "    </tr>\n",
       "    <tr>\n",
       "      <th>126</th>\n",
       "      <td>Забирайте выпивку с собой!</td>\n",
       "      <td>Часто это делаешь?,,,,,,,</td>\n",
       "    </tr>\n",
       "    <tr>\n",
       "      <th>127</th>\n",
       "      <td>Кто вообще в Японии делает ставки на бегах во ...</td>\n",
       "      <td>- В Японии уже не время завтрака. - Джо, мы по...</td>\n",
       "    </tr>\n",
       "    <tr>\n",
       "      <th>128</th>\n",
       "      <td>- В Японии уже не время завтрака. - Джо,\" мы п...</td>\n",
       "      <td>- Ребят\", вы свихнулись. - Я сделал приличную ...</td>\n",
       "    </tr>\n",
       "    <tr>\n",
       "      <th>129</th>\n",
       "      <td>- Я просто... - Он пьет. Ты ведь знаешь,\" како...</td>\n",
       "      <td>Детка\", он еще здесь.,,,,,</td>\n",
       "    </tr>\n",
       "    <tr>\n",
       "      <th>130</th>\n",
       "      <td>Ты, наверное, подумала,\" что он много пьет?</td>\n",
       "      <td>Ты даже не представляешь\", сколько.,,,</td>\n",
       "    </tr>\n",
       "    <tr>\n",
       "      <th>131</th>\n",
       "      <td>- Без выпивки? - Что-что?</td>\n",
       "      <td>Без выпивки?,,,,,,,</td>\n",
       "    </tr>\n",
       "    <tr>\n",
       "      <th>132</th>\n",
       "      <td>Без выпивки?</td>\n",
       "      <td>Без носков?,,,,,,,</td>\n",
       "    </tr>\n",
       "    <tr>\n",
       "      <th>133</th>\n",
       "      <td>Ты что,\" пьешь? Успел накидаться уже?</td>\n",
       "      <td>- Да я так\", парочку. - Сейчас утро.,,,,,</td>\n",
       "    </tr>\n",
       "    <tr>\n",
       "      <th>134</th>\n",
       "      <td>Да, давай,\" пей.</td>\n",
       "      <td>- В стакане найдешь ответ. - Не знаю. Возможно...</td>\n",
       "    </tr>\n",
       "    <tr>\n",
       "      <th>135</th>\n",
       "      <td>Ты не пьешь.</td>\n",
       "      <td>Что ты говоришь?,,,,,,,</td>\n",
       "    </tr>\n",
       "    <tr>\n",
       "      <th>136</th>\n",
       "      <td>Я не пил. Нет.</td>\n",
       "      <td>- Я должна вернуться к ребятам. - Ах, да, коне...</td>\n",
       "    </tr>\n",
       "    <tr>\n",
       "      <th>137</th>\n",
       "      <td>Это не в твоей власти,\" папа. Ужин остынет. Еш...</td>\n",
       "      <td>Прости. Я не знаю\", который сейчас час. Возьми...</td>\n",
       "    </tr>\n",
       "    <tr>\n",
       "      <th>138</th>\n",
       "      <td>Прости. Я не знаю,\" который сейчас час. Возьми...</td>\n",
       "      <td>Сколько раз ты таскал мое пианино по лестнице?...</td>\n",
       "    </tr>\n",
       "    <tr>\n",
       "      <th>139</th>\n",
       "      <td>Мы познакомились, когда ты пил,\" а теперь не п...</td>\n",
       "      <td>Я же не всё это время пил.\",,,,,</td>\n",
       "    </tr>\n",
       "    <tr>\n",
       "      <th>140</th>\n",
       "      <td>Я же не всё это время пил.</td>\n",
       "      <td>Я знаю, но ты стал пить больше после нашего зн...</td>\n",
       "    </tr>\n",
       "    <tr>\n",
       "      <th>141</th>\n",
       "      <td>Я знаю,\" но ты стал пить больше после нашего з...</td>\n",
       "      <td>Всё нормально\", пожалуйста, ради Бога. Я прост...</td>\n",
       "    </tr>\n",
       "    <tr>\n",
       "      <th>142</th>\n",
       "      <td>Ну ладно,\" я больше не могу. Придется заказать...</td>\n",
       "      <td>Хорошо. Возьму Шанхайскую с сыром.\",,,,,,</td>\n",
       "    </tr>\n",
       "    <tr>\n",
       "      <th>143</th>\n",
       "      <td>Я хочу заказать обед.</td>\n",
       "      <td>Извините, но мы не занимаемся доставкой до 5 в...</td>\n",
       "    </tr>\n",
       "    <tr>\n",
       "      <th>144</th>\n",
       "      <td>Но,\" я всего лишь проголодался... И хотел зака...</td>\n",
       "      <td>Заказать обед? Это и есть твоё желание?\",,,,,,</td>\n",
       "    </tr>\n",
       "    <tr>\n",
       "      <th>145</th>\n",
       "      <td>Заказать обед? Это и есть твоё желание?</td>\n",
       "      <td>Я могу выполнить что угодно, - не только это.....</td>\n",
       "    </tr>\n",
       "    <tr>\n",
       "      <th>146</th>\n",
       "      <td>Да. Это - магический напиток.</td>\n",
       "      <td>Если ты его выпьешь, твоя смелость увеличится ...</td>\n",
       "    </tr>\n",
       "    <tr>\n",
       "      <th>147</th>\n",
       "      <td>Шекспир описывал такой же напиток.</td>\n",
       "      <td>Очнувшись, ты полюбишь первого, кого увидишь.,...</td>\n",
       "    </tr>\n",
       "    <tr>\n",
       "      <th>148</th>\n",
       "      <td>Кей,\" подожди меня. Спасибо за угощение.</td>\n",
       "      <td>В чём дело\", Скулд? Чем ты так расстроена?,,,,,</td>\n",
       "    </tr>\n",
       "    <tr>\n",
       "      <th>149</th>\n",
       "      <td>Кушай быстрее,\" не то опоздаешь!</td>\n",
       "      <td>Спасибо.\",,,,,,</td>\n",
       "    </tr>\n",
       "  </tbody>\n",
       "</table>\n",
       "<p>150 rows × 2 columns</p>\n",
       "</div>"
      ],
      "text/plain": [
       "                                           fist_phrase  \\\n",
       "0                  -Кать,\" оставайтесь с нами на ужин.   \n",
       "1              Андрея всё равно нет. Поужинаете у нас.   \n",
       "2       -Не понял. -Катя,\" оставайтесь с нами на ужин.   \n",
       "3    Ты что,\" едой не хочешь делиться? -Я тобой не ...   \n",
       "4                         -Ничего,\" сейчас у них обед.   \n",
       "5      А пока пообедаем в вашем ресторане за ваш счёт.   \n",
       "6         -А вызывайте. А мы пока пообедаем. Официант!   \n",
       "7          #NAME?,\" конечно. Только сначала пообедаем.   \n",
       "8      -Это ошибка какая-то. Мы пришли сюда пообедать.   \n",
       "9                  -Вообще-то я тебе ужин приготовила.   \n",
       "10   и варишь борщ! Ибо это непристойное предложени...   \n",
       "11   решила мужу ужин приготовить. И пусть это звуч...   \n",
       "12   Пузырь потом месяц будет доедать недоеденную еду.   \n",
       "13    -На кефире надо делать,\" мягкое мясо получается.   \n",
       "14         -А для меня в шашлыке самое главное - мясо.   \n",
       "15                         Правда,\" у нас сейчас обед.   \n",
       "16                                 #NAME?,\" а завтрак?   \n",
       "17   Она просто сама приехала и еды привезла с рест...   \n",
       "18                          Курица или пирог? -Курица!   \n",
       "19   -Спасать надо курицу. Муж без обеда - вот это ...   \n",
       "20        Ваш товарищ голоден и пить хочет. -Мы мигом.   \n",
       "21                    -Спасибо. -Вы кушайте,\" кушайте.   \n",
       "22   Может, позвонить в ресторан,\" чтобы ещё присла...   \n",
       "23                              Кушать будешь? -Потом.   \n",
       "24   #NAME?, они же живые. Они и дышат,\" и водичку ...   \n",
       "25                            Завтракать будешь? -А...   \n",
       "26                                  Сейчас будет обед.   \n",
       "27            Ну,\" я вернусь к 2-м. Я еду в Правление.   \n",
       "28              #NAME?,\" Бетти. - Оставайтесь на обед.   \n",
       "29     - Едешь на выходные? - Нет,\" я еду в Сан Диего.   \n",
       "..                                                 ...   \n",
       "120                  друг друга жрать. -Я поддерживаю.   \n",
       "121                  Полька овощи на пару приготовила.   \n",
       "122  за столом? Он что, меня ударил,\" а потом продо...   \n",
       "123  -Знает же,\" что ему пить нельзя. Специально се...   \n",
       "124  Вы очень хорошо ее знаете,\" так как раньше она...   \n",
       "125  так что собирайте манатки! Хватит жрать коктейли!   \n",
       "126                         Забирайте выпивку с собой!   \n",
       "127  Кто вообще в Японии делает ставки на бегах во ...   \n",
       "128  - В Японии уже не время завтрака. - Джо,\" мы п...   \n",
       "129  - Я просто... - Он пьет. Ты ведь знаешь,\" како...   \n",
       "130        Ты, наверное, подумала,\" что он много пьет?   \n",
       "131                          - Без выпивки? - Что-что?   \n",
       "132                                       Без выпивки?   \n",
       "133              Ты что,\" пьешь? Успел накидаться уже?   \n",
       "134                                   Да, давай,\" пей.   \n",
       "135                                       Ты не пьешь.   \n",
       "136                                     Я не пил. Нет.   \n",
       "137  Это не в твоей власти,\" папа. Ужин остынет. Еш...   \n",
       "138  Прости. Я не знаю,\" который сейчас час. Возьми...   \n",
       "139  Мы познакомились, когда ты пил,\" а теперь не п...   \n",
       "140                         Я же не всё это время пил.   \n",
       "141  Я знаю,\" но ты стал пить больше после нашего з...   \n",
       "142  Ну ладно,\" я больше не могу. Придется заказать...   \n",
       "143                              Я хочу заказать обед.   \n",
       "144  Но,\" я всего лишь проголодался... И хотел зака...   \n",
       "145            Заказать обед? Это и есть твоё желание?   \n",
       "146                      Да. Это - магический напиток.   \n",
       "147                 Шекспир описывал такой же напиток.   \n",
       "148           Кей,\" подожди меня. Спасибо за угощение.   \n",
       "149                   Кушай быстрее,\" не то опоздаешь!   \n",
       "\n",
       "                                                 reply  \n",
       "0       Андрея всё равно нет. Поужинаете у нас.\",,,,,,  \n",
       "1    Подождёте здесь. -Спасибо, конечно, за приглаш...  \n",
       "2                   А дайте поцелую вашу ручку.\",,,,,,  \n",
       "3    -Ты что\", ревнуешь? Мне так нравится, когда ты...  \n",
       "4                          Обходить нам\", что ли?,,,,,  \n",
       "5    -Знаете что, а вот это уже хамство. Вы хотите,...  \n",
       "6    -Хорошо, что всё без особых проблем прошло.,,,,,,  \n",
       "7                    -Ну\", что у нас там сегодня?,,,,,  \n",
       "8                                 А что, нельзя?,,,,,,  \n",
       "9                                  Вино купила.,,,,,,,  \n",
       "10   -Очень непристойное. Именно поэтому я ему сказ...  \n",
       "11                  но у меня закончилась соль.\",,,,,,  \n",
       "12   -Ну, он-то точно не откажется, тем более за зд...  \n",
       "13   -На кефире только в Москве замачивают. На вине...  \n",
       "14              -О, к кому-то девчонки приехали.,,,,,,  \n",
       "15                         -Я думал\", всё, кранты.,,,,  \n",
       "16                         -Ох ты мой красавец!\",,,,,,  \n",
       "17                  Ну там просто знают её все.,,,,,,,  \n",
       "18   -Спасать надо курицу. Муж без обеда - вот это ...  \n",
       "19   Ну что\", петли будем резать? -Всё-то тебе реза...  \n",
       "20             -Скажи, что ты сейчас чувствуешь?,,,,,,  \n",
       "21                                    -Спасибо.\",,,,,,  \n",
       "22          -Вроде всего хватает. Люди довольны.\",,,,,  \n",
       "23                                 -Ну и ладно.,,,,,,,  \n",
       "24   -А под землёй же нет воздуха. Они ж там задохн...  \n",
       "25            Да. Александр, извините, я вчера...,,,,,  \n",
       "26                           Всё по распорядку.,,,,,,,  \n",
       "27                                 В Правление?\",,,,,,  \n",
       "28               Может быть завтра. Нужно идти.\",,,,,,  \n",
       "29                  Сан Диего? Правда? Надолго?\",,,,,,  \n",
       "..                                                 ...  \n",
       "120  \"-Давайте подавать в суд на этот... -\"\"Ребилди...  \n",
       "121                       Брокколи. Да. Вкусно.,,,,,,,  \n",
       "122  Нас в доме было только трое. Я уверен\", что кт...  \n",
       "123  Жить не хочет\", будто нет ничего важнее в жизн...  \n",
       "124              Но сегодня она преподнесет вам\",,,,,,  \n",
       "125  Выметайтесь! Всё, пока, Роджер. Развлекайтесь!...  \n",
       "126                          Часто это делаешь?,,,,,,,  \n",
       "127  - В Японии уже не время завтрака. - Джо, мы по...  \n",
       "128  - Ребят\", вы свихнулись. - Я сделал приличную ...  \n",
       "129                         Детка\", он еще здесь.,,,,,  \n",
       "130             Ты даже не представляешь\", сколько.,,,  \n",
       "131                                Без выпивки?,,,,,,,  \n",
       "132                                 Без носков?,,,,,,,  \n",
       "133          - Да я так\", парочку. - Сейчас утро.,,,,,  \n",
       "134  - В стакане найдешь ответ. - Не знаю. Возможно...  \n",
       "135                            Что ты говоришь?,,,,,,,  \n",
       "136  - Я должна вернуться к ребятам. - Ах, да, коне...  \n",
       "137  Прости. Я не знаю\", который сейчас час. Возьми...  \n",
       "138  Сколько раз ты таскал мое пианино по лестнице?...  \n",
       "139                   Я же не всё это время пил.\",,,,,  \n",
       "140  Я знаю, но ты стал пить больше после нашего зн...  \n",
       "141  Всё нормально\", пожалуйста, ради Бога. Я прост...  \n",
       "142          Хорошо. Возьму Шанхайскую с сыром.\",,,,,,  \n",
       "143  Извините, но мы не занимаемся доставкой до 5 в...  \n",
       "144     Заказать обед? Это и есть твоё желание?\",,,,,,  \n",
       "145  Я могу выполнить что угодно, - не только это.....  \n",
       "146  Если ты его выпьешь, твоя смелость увеличится ...  \n",
       "147  Очнувшись, ты полюбишь первого, кого увидишь.,...  \n",
       "148    В чём дело\", Скулд? Чем ты так расстроена?,,,,,  \n",
       "149                                    Спасибо.\",,,,,,  \n",
       "\n",
       "[150 rows x 2 columns]"
      ]
     },
     "execution_count": 101,
     "metadata": {},
     "output_type": "execute_result"
    }
   ],
   "source": [
    "repaired.head(150)"
   ]
  },
  {
   "cell_type": "code",
   "execution_count": 69,
   "metadata": {},
   "outputs": [
    {
     "data": {
      "text/html": [
       "<div>\n",
       "<style scoped>\n",
       "    .dataframe tbody tr th:only-of-type {\n",
       "        vertical-align: middle;\n",
       "    }\n",
       "\n",
       "    .dataframe tbody tr th {\n",
       "        vertical-align: top;\n",
       "    }\n",
       "\n",
       "    .dataframe thead th {\n",
       "        text-align: right;\n",
       "    }\n",
       "</style>\n",
       "<table border=\"1\" class=\"dataframe\">\n",
       "  <thead>\n",
       "    <tr style=\"text-align: right;\">\n",
       "      <th></th>\n",
       "      <th>fist_phrase</th>\n",
       "      <th>reply</th>\n",
       "    </tr>\n",
       "  </thead>\n",
       "  <tbody>\n",
       "    <tr>\n",
       "      <th>0</th>\n",
       "      <td>-Кать,\" оставайтесь с нами на ужин.</td>\n",
       "      <td>Андрея всё равно нет. Поужинаете у нас.\",,,,,,</td>\n",
       "    </tr>\n",
       "    <tr>\n",
       "      <th>1</th>\n",
       "      <td>Андрея всё равно нет. Поужинаете у нас.\\tПодож...</td>\n",
       "      <td>NaN</td>\n",
       "    </tr>\n",
       "    <tr>\n",
       "      <th>2</th>\n",
       "      <td>-Не понял. -Катя,\" оставайтесь с нами на ужин.</td>\n",
       "      <td>А дайте поцелую вашу ручку.\",,,,,,</td>\n",
       "    </tr>\n",
       "    <tr>\n",
       "      <th>3</th>\n",
       "      <td>Ты что,\" едой не хочешь делиться? -Я тобой не ...</td>\n",
       "      <td>-Ты что\", ревнуешь? Мне так нравится, когда ты...</td>\n",
       "    </tr>\n",
       "    <tr>\n",
       "      <th>4</th>\n",
       "      <td>-Ничего,\" сейчас у них обед.</td>\n",
       "      <td>Обходить нам\", что ли?,,,,,</td>\n",
       "    </tr>\n",
       "    <tr>\n",
       "      <th>5</th>\n",
       "      <td>А пока пообедаем в вашем ресторане за ваш счёт...</td>\n",
       "      <td>NaN</td>\n",
       "    </tr>\n",
       "    <tr>\n",
       "      <th>6</th>\n",
       "      <td>-А вызывайте. А мы пока пообедаем. Официант!\\t...</td>\n",
       "      <td>NaN</td>\n",
       "    </tr>\n",
       "    <tr>\n",
       "      <th>7</th>\n",
       "      <td>#NAME?,\" конечно. Только сначала пообедаем.</td>\n",
       "      <td>-Ну\", что у нас там сегодня?,,,,,</td>\n",
       "    </tr>\n",
       "    <tr>\n",
       "      <th>8</th>\n",
       "      <td>-Это ошибка какая-то. Мы пришли сюда пообедать...</td>\n",
       "      <td>NaN</td>\n",
       "    </tr>\n",
       "    <tr>\n",
       "      <th>9</th>\n",
       "      <td>-Вообще-то я тебе ужин приготовила.\\tВино купи...</td>\n",
       "      <td>NaN</td>\n",
       "    </tr>\n",
       "    <tr>\n",
       "      <th>10</th>\n",
       "      <td>и варишь борщ! Ибо это непристойное предложени...</td>\n",
       "      <td>-Очень непристойное. Именно поэтому я ему сказ...</td>\n",
       "    </tr>\n",
       "    <tr>\n",
       "      <th>11</th>\n",
       "      <td>решила мужу ужин приготовить. И пусть это звуч...</td>\n",
       "      <td>но у меня закончилась соль.\",,,,,,</td>\n",
       "    </tr>\n",
       "    <tr>\n",
       "      <th>12</th>\n",
       "      <td>Пузырь потом месяц будет доедать недоеденную е...</td>\n",
       "      <td>NaN</td>\n",
       "    </tr>\n",
       "    <tr>\n",
       "      <th>13</th>\n",
       "      <td>-На кефире надо делать,\" мягкое мясо получается.</td>\n",
       "      <td>-На кефире только в Москве замачивают. На вине...</td>\n",
       "    </tr>\n",
       "    <tr>\n",
       "      <th>14</th>\n",
       "      <td>-А для меня в шашлыке самое главное - мясо.\\t-...</td>\n",
       "      <td>NaN</td>\n",
       "    </tr>\n",
       "    <tr>\n",
       "      <th>15</th>\n",
       "      <td>Правда,\" у нас сейчас обед.</td>\n",
       "      <td>-Я думал\", всё, кранты.,,,,</td>\n",
       "    </tr>\n",
       "    <tr>\n",
       "      <th>16</th>\n",
       "      <td>#NAME?,\" а завтрак?</td>\n",
       "      <td>-Ох ты мой красавец!\",,,,,,</td>\n",
       "    </tr>\n",
       "    <tr>\n",
       "      <th>17</th>\n",
       "      <td>Она просто сама приехала и еды привезла с рест...</td>\n",
       "      <td>NaN</td>\n",
       "    </tr>\n",
       "    <tr>\n",
       "      <th>18</th>\n",
       "      <td>Курица или пирог? -Курица!\\t-Спасать надо кури...</td>\n",
       "      <td>NaN</td>\n",
       "    </tr>\n",
       "    <tr>\n",
       "      <th>19</th>\n",
       "      <td>-Спасать надо курицу. Муж без обеда - вот это ...</td>\n",
       "      <td>Ну что\", петли будем резать? -Всё-то тебе реза...</td>\n",
       "    </tr>\n",
       "    <tr>\n",
       "      <th>20</th>\n",
       "      <td>Ваш товарищ голоден и пить хочет. -Мы мигом.\\t...</td>\n",
       "      <td>NaN</td>\n",
       "    </tr>\n",
       "    <tr>\n",
       "      <th>21</th>\n",
       "      <td>-Спасибо. -Вы кушайте,\" кушайте.</td>\n",
       "      <td>-Спасибо.\",,,,,,</td>\n",
       "    </tr>\n",
       "    <tr>\n",
       "      <th>22</th>\n",
       "      <td>Может, позвонить в ресторан,\" чтобы ещё присла...</td>\n",
       "      <td>-Вроде всего хватает. Люди довольны.\",,,,,</td>\n",
       "    </tr>\n",
       "    <tr>\n",
       "      <th>23</th>\n",
       "      <td>Кушать будешь? -Потом.\\t-Ну и ладно.,,,,,,,</td>\n",
       "      <td>NaN</td>\n",
       "    </tr>\n",
       "    <tr>\n",
       "      <th>24</th>\n",
       "      <td>#NAME?, они же живые. Они и дышат,\" и водичку ...</td>\n",
       "      <td>-А под землёй же нет воздуха. Они ж там задохн...</td>\n",
       "    </tr>\n",
       "    <tr>\n",
       "      <th>25</th>\n",
       "      <td>Завтракать будешь? -А...\\tДа. Александр, извин...</td>\n",
       "      <td>NaN</td>\n",
       "    </tr>\n",
       "    <tr>\n",
       "      <th>26</th>\n",
       "      <td>Сейчас будет обед.\\tВсё по распорядку.,,,,,,,</td>\n",
       "      <td>NaN</td>\n",
       "    </tr>\n",
       "    <tr>\n",
       "      <th>27</th>\n",
       "      <td>Ну,\" я вернусь к 2-м. Я еду в Правление.</td>\n",
       "      <td>В Правление?\",,,,,,</td>\n",
       "    </tr>\n",
       "    <tr>\n",
       "      <th>28</th>\n",
       "      <td>#NAME?,\" Бетти. - Оставайтесь на обед.</td>\n",
       "      <td>Может быть завтра. Нужно идти.\",,,,,,</td>\n",
       "    </tr>\n",
       "    <tr>\n",
       "      <th>29</th>\n",
       "      <td>- Едешь на выходные? - Нет,\" я еду в Сан Диего.</td>\n",
       "      <td>Сан Диего? Правда? Надолго?\",,,,,,</td>\n",
       "    </tr>\n",
       "    <tr>\n",
       "      <th>30</th>\n",
       "      <td>мясо раздавать. -Что ты хотель,\" Федя!</td>\n",
       "      <td>Это не твои соседи. Значит так. Завтра берешь ...</td>\n",
       "    </tr>\n",
       "    <tr>\n",
       "      <th>31</th>\n",
       "      <td>-Да нет, не понял,\" за Василича... -Он не пьет.</td>\n",
       "      <td>-Так за Василича! -Совсем не пьет.\",,,,,</td>\n",
       "    </tr>\n",
       "    <tr>\n",
       "      <th>32</th>\n",
       "      <td>-Так за Василича! -Совсем не пьет.\\tВов, на се...</td>\n",
       "      <td>NaN</td>\n",
       "    </tr>\n",
       "    <tr>\n",
       "      <th>33</th>\n",
       "      <td>-И не пьешь? -Нет,\" не пью.</td>\n",
       "      <td>-Молодец. Я\", когда на пенсию выйду, тоже брош...</td>\n",
       "    </tr>\n",
       "    <tr>\n",
       "      <th>34</th>\n",
       "      <td>Вот я подлечился. Не пью,\" не курю.</td>\n",
       "      <td>-Соврал я.\",,,,,,</td>\n",
       "    </tr>\n",
       "    <tr>\n",
       "      <th>35</th>\n",
       "      <td>на Тимирязевскую машину с бараниной привезли.\\...</td>\n",
       "      <td>NaN</td>\n",
       "    </tr>\n",
       "    <tr>\n",
       "      <th>36</th>\n",
       "      <td>Дешевое мясо. -Полезная информация.\\tТолько к ...</td>\n",
       "      <td>NaN</td>\n",
       "    </tr>\n",
       "    <tr>\n",
       "      <th>37</th>\n",
       "      <td>-Сам готовиль. Кушай.\\tМне работать надо. -Спа...</td>\n",
       "      <td>NaN</td>\n",
       "    </tr>\n",
       "    <tr>\n",
       "      <th>38</th>\n",
       "      <td>что они пили? -\"Водку пили\", - сказал.\\t-Водку...</td>\n",
       "      <td>NaN</td>\n",
       "    </tr>\n",
       "    <tr>\n",
       "      <th>39</th>\n",
       "      <td>А ты не видела,\" Каленый тоже пил? -Какой Кале...</td>\n",
       "      <td>-Он такой был\", с собакой, большой, красивый.,,,</td>\n",
       "    </tr>\n",
       "    <tr>\n",
       "      <th>40</th>\n",
       "      <td>-Что вы пили? -А с какой целью интересуетесь?\\...</td>\n",
       "      <td>NaN</td>\n",
       "    </tr>\n",
       "    <tr>\n",
       "      <th>41</th>\n",
       "      <td>жить,\" понимаешь? Я тебе буду готовить каждый ...</td>\n",
       "      <td>теперь. -19. 19-е горит уже.\",,,,,,</td>\n",
       "    </tr>\n",
       "    <tr>\n",
       "      <th>42</th>\n",
       "      <td>Ну, при таком отце она еще и пить начнет,\" сер...</td>\n",
       "      <td>СОБАКА ЛАЕТ И как я прожила с тобой столько\",,,,,</td>\n",
       "    </tr>\n",
       "    <tr>\n",
       "      <th>43</th>\n",
       "      <td>-Почему пытали? Коля бухой брюки гладил,\" сок ...</td>\n",
       "      <td>-Слушайте\", что вы за люди! Человек пропал, а ...</td>\n",
       "    </tr>\n",
       "    <tr>\n",
       "      <th>44</th>\n",
       "      <td>-Меньше водку надо жрать. -Да ему подсыпали чт...</td>\n",
       "      <td>NaN</td>\n",
       "    </tr>\n",
       "    <tr>\n",
       "      <th>45</th>\n",
       "      <td>-Да пить не умеет,\" черт нерусский. Мы-то все ...</td>\n",
       "      <td>-Да? -Федьку посошок срубил.\",,,,,,</td>\n",
       "    </tr>\n",
       "    <tr>\n",
       "      <th>46</th>\n",
       "      <td>-Значит, надо узнать, с кем они пили,\" что это...</td>\n",
       "      <td>-Я прислушаюсь. У тебя номер дома какой?\",,,,</td>\n",
       "    </tr>\n",
       "    <tr>\n",
       "      <th>47</th>\n",
       "      <td>Слушай,\" дай сахарку. Не могу я твою бурду без...</td>\n",
       "      <td>-Кто зеленый чай с сахаром пьет? Вот\", кушай и...</td>\n",
       "    </tr>\n",
       "    <tr>\n",
       "      <th>48</th>\n",
       "      <td>-Кто зеленый чай с сахаром пьет? Вот,\" кушай и...</td>\n",
       "      <td>-Ну сходи за сахаром. -Про белую смерть слышал...</td>\n",
       "    </tr>\n",
       "    <tr>\n",
       "      <th>49</th>\n",
       "      <td>А ты... А ты почему ничего не кушаешь,\" а?</td>\n",
       "      <td>Я самый лучший повар из Таджикистана привез. С...</td>\n",
       "    </tr>\n",
       "  </tbody>\n",
       "</table>\n",
       "</div>"
      ],
      "text/plain": [
       "                                          fist_phrase  \\\n",
       "0                 -Кать,\" оставайтесь с нами на ужин.   \n",
       "1   Андрея всё равно нет. Поужинаете у нас.\\tПодож...   \n",
       "2      -Не понял. -Катя,\" оставайтесь с нами на ужин.   \n",
       "3   Ты что,\" едой не хочешь делиться? -Я тобой не ...   \n",
       "4                        -Ничего,\" сейчас у них обед.   \n",
       "5   А пока пообедаем в вашем ресторане за ваш счёт...   \n",
       "6   -А вызывайте. А мы пока пообедаем. Официант!\\t...   \n",
       "7         #NAME?,\" конечно. Только сначала пообедаем.   \n",
       "8   -Это ошибка какая-то. Мы пришли сюда пообедать...   \n",
       "9   -Вообще-то я тебе ужин приготовила.\\tВино купи...   \n",
       "10  и варишь борщ! Ибо это непристойное предложени...   \n",
       "11  решила мужу ужин приготовить. И пусть это звуч...   \n",
       "12  Пузырь потом месяц будет доедать недоеденную е...   \n",
       "13   -На кефире надо делать,\" мягкое мясо получается.   \n",
       "14  -А для меня в шашлыке самое главное - мясо.\\t-...   \n",
       "15                        Правда,\" у нас сейчас обед.   \n",
       "16                                #NAME?,\" а завтрак?   \n",
       "17  Она просто сама приехала и еды привезла с рест...   \n",
       "18  Курица или пирог? -Курица!\\t-Спасать надо кури...   \n",
       "19  -Спасать надо курицу. Муж без обеда - вот это ...   \n",
       "20  Ваш товарищ голоден и пить хочет. -Мы мигом.\\t...   \n",
       "21                   -Спасибо. -Вы кушайте,\" кушайте.   \n",
       "22  Может, позвонить в ресторан,\" чтобы ещё присла...   \n",
       "23        Кушать будешь? -Потом.\\t-Ну и ладно.,,,,,,,   \n",
       "24  #NAME?, они же живые. Они и дышат,\" и водичку ...   \n",
       "25  Завтракать будешь? -А...\\tДа. Александр, извин...   \n",
       "26      Сейчас будет обед.\\tВсё по распорядку.,,,,,,,   \n",
       "27           Ну,\" я вернусь к 2-м. Я еду в Правление.   \n",
       "28             #NAME?,\" Бетти. - Оставайтесь на обед.   \n",
       "29    - Едешь на выходные? - Нет,\" я еду в Сан Диего.   \n",
       "30             мясо раздавать. -Что ты хотель,\" Федя!   \n",
       "31    -Да нет, не понял,\" за Василича... -Он не пьет.   \n",
       "32  -Так за Василича! -Совсем не пьет.\\tВов, на се...   \n",
       "33                        -И не пьешь? -Нет,\" не пью.   \n",
       "34                Вот я подлечился. Не пью,\" не курю.   \n",
       "35  на Тимирязевскую машину с бараниной привезли.\\...   \n",
       "36  Дешевое мясо. -Полезная информация.\\tТолько к ...   \n",
       "37  -Сам готовиль. Кушай.\\tМне работать надо. -Спа...   \n",
       "38  что они пили? -\"Водку пили\", - сказал.\\t-Водку...   \n",
       "39  А ты не видела,\" Каленый тоже пил? -Какой Кале...   \n",
       "40  -Что вы пили? -А с какой целью интересуетесь?\\...   \n",
       "41  жить,\" понимаешь? Я тебе буду готовить каждый ...   \n",
       "42  Ну, при таком отце она еще и пить начнет,\" сер...   \n",
       "43  -Почему пытали? Коля бухой брюки гладил,\" сок ...   \n",
       "44  -Меньше водку надо жрать. -Да ему подсыпали чт...   \n",
       "45  -Да пить не умеет,\" черт нерусский. Мы-то все ...   \n",
       "46  -Значит, надо узнать, с кем они пили,\" что это...   \n",
       "47  Слушай,\" дай сахарку. Не могу я твою бурду без...   \n",
       "48  -Кто зеленый чай с сахаром пьет? Вот,\" кушай и...   \n",
       "49         А ты... А ты почему ничего не кушаешь,\" а?   \n",
       "\n",
       "                                                reply  \n",
       "0      Андрея всё равно нет. Поужинаете у нас.\",,,,,,  \n",
       "1                                                 NaN  \n",
       "2                  А дайте поцелую вашу ручку.\",,,,,,  \n",
       "3   -Ты что\", ревнуешь? Мне так нравится, когда ты...  \n",
       "4                         Обходить нам\", что ли?,,,,,  \n",
       "5                                                 NaN  \n",
       "6                                                 NaN  \n",
       "7                   -Ну\", что у нас там сегодня?,,,,,  \n",
       "8                                                 NaN  \n",
       "9                                                 NaN  \n",
       "10  -Очень непристойное. Именно поэтому я ему сказ...  \n",
       "11                 но у меня закончилась соль.\",,,,,,  \n",
       "12                                                NaN  \n",
       "13  -На кефире только в Москве замачивают. На вине...  \n",
       "14                                                NaN  \n",
       "15                        -Я думал\", всё, кранты.,,,,  \n",
       "16                        -Ох ты мой красавец!\",,,,,,  \n",
       "17                                                NaN  \n",
       "18                                                NaN  \n",
       "19  Ну что\", петли будем резать? -Всё-то тебе реза...  \n",
       "20                                                NaN  \n",
       "21                                   -Спасибо.\",,,,,,  \n",
       "22         -Вроде всего хватает. Люди довольны.\",,,,,  \n",
       "23                                                NaN  \n",
       "24  -А под землёй же нет воздуха. Они ж там задохн...  \n",
       "25                                                NaN  \n",
       "26                                                NaN  \n",
       "27                                В Правление?\",,,,,,  \n",
       "28              Может быть завтра. Нужно идти.\",,,,,,  \n",
       "29                 Сан Диего? Правда? Надолго?\",,,,,,  \n",
       "30  Это не твои соседи. Значит так. Завтра берешь ...  \n",
       "31           -Так за Василича! -Совсем не пьет.\",,,,,  \n",
       "32                                                NaN  \n",
       "33  -Молодец. Я\", когда на пенсию выйду, тоже брош...  \n",
       "34                                  -Соврал я.\",,,,,,  \n",
       "35                                                NaN  \n",
       "36                                                NaN  \n",
       "37                                                NaN  \n",
       "38                                                NaN  \n",
       "39   -Он такой был\", с собакой, большой, красивый.,,,  \n",
       "40                                                NaN  \n",
       "41                теперь. -19. 19-е горит уже.\",,,,,,  \n",
       "42  СОБАКА ЛАЕТ И как я прожила с тобой столько\",,,,,  \n",
       "43  -Слушайте\", что вы за люди! Человек пропал, а ...  \n",
       "44                                                NaN  \n",
       "45                -Да? -Федьку посошок срубил.\",,,,,,  \n",
       "46      -Я прислушаюсь. У тебя номер дома какой?\",,,,  \n",
       "47  -Кто зеленый чай с сахаром пьет? Вот\", кушай и...  \n",
       "48  -Ну сходи за сахаром. -Про белую смерть слышал...  \n",
       "49  Я самый лучший повар из Таджикистана привез. С...  "
      ]
     },
     "execution_count": 69,
     "metadata": {},
     "output_type": "execute_result"
    }
   ],
   "source": [
    "final.head(50)"
   ]
  },
  {
   "cell_type": "code",
   "execution_count": 58,
   "metadata": {},
   "outputs": [
    {
     "ename": "AttributeError",
     "evalue": "'Series' object has no attribute 'extend'",
     "output_type": "error",
     "traceback": [
      "\u001b[1;31m---------------------------------------------------------------------------\u001b[0m",
      "\u001b[1;31mAttributeError\u001b[0m                            Traceback (most recent call last)",
      "\u001b[1;32m<ipython-input-58-115a8a49cc78>\u001b[0m in \u001b[0;36m<module>\u001b[1;34m()\u001b[0m\n\u001b[1;32m----> 1\u001b[1;33m \u001b[0mbig_df\u001b[0m\u001b[1;33m[\u001b[0m\u001b[1;34m'fist_phrase'\u001b[0m\u001b[1;33m]\u001b[0m \u001b[1;33m=\u001b[0m  \u001b[0mbig_df\u001b[0m\u001b[1;33m[\u001b[0m\u001b[1;34m'fist_phrase'\u001b[0m\u001b[1;33m]\u001b[0m\u001b[1;33m.\u001b[0m\u001b[0mextend\u001b[0m\u001b[1;33m(\u001b[0m\u001b[0mfist_phrase\u001b[0m\u001b[1;33m)\u001b[0m\u001b[1;33m\u001b[0m\u001b[0m\n\u001b[0m\u001b[0;32m      2\u001b[0m \u001b[0mbig_df\u001b[0m\u001b[1;33m[\u001b[0m\u001b[1;34m'reply'\u001b[0m\u001b[1;33m]\u001b[0m \u001b[1;33m=\u001b[0m  \u001b[0mbig_df\u001b[0m\u001b[1;33m[\u001b[0m\u001b[1;34m'reply'\u001b[0m\u001b[1;33m]\u001b[0m\u001b[1;33m.\u001b[0m\u001b[0mextend\u001b[0m\u001b[1;33m(\u001b[0m\u001b[0mreply\u001b[0m\u001b[1;33m)\u001b[0m\u001b[1;33m\u001b[0m\u001b[0m\n\u001b[0;32m      3\u001b[0m \u001b[1;33m\u001b[0m\u001b[0m\n\u001b[0;32m      4\u001b[0m \u001b[0mlen\u001b[0m\u001b[1;33m(\u001b[0m\u001b[0mbig_df\u001b[0m\u001b[1;33m)\u001b[0m\u001b[1;33m\u001b[0m\u001b[0m\n",
      "\u001b[1;32m~\\Anaconda2\\envs\\py36\\lib\\site-packages\\pandas\\core\\generic.py\u001b[0m in \u001b[0;36m__getattr__\u001b[1;34m(self, name)\u001b[0m\n\u001b[0;32m   3612\u001b[0m             \u001b[1;32mif\u001b[0m \u001b[0mname\u001b[0m \u001b[1;32min\u001b[0m \u001b[0mself\u001b[0m\u001b[1;33m.\u001b[0m\u001b[0m_info_axis\u001b[0m\u001b[1;33m:\u001b[0m\u001b[1;33m\u001b[0m\u001b[0m\n\u001b[0;32m   3613\u001b[0m                 \u001b[1;32mreturn\u001b[0m \u001b[0mself\u001b[0m\u001b[1;33m[\u001b[0m\u001b[0mname\u001b[0m\u001b[1;33m]\u001b[0m\u001b[1;33m\u001b[0m\u001b[0m\n\u001b[1;32m-> 3614\u001b[1;33m             \u001b[1;32mreturn\u001b[0m \u001b[0mobject\u001b[0m\u001b[1;33m.\u001b[0m\u001b[0m__getattribute__\u001b[0m\u001b[1;33m(\u001b[0m\u001b[0mself\u001b[0m\u001b[1;33m,\u001b[0m \u001b[0mname\u001b[0m\u001b[1;33m)\u001b[0m\u001b[1;33m\u001b[0m\u001b[0m\n\u001b[0m\u001b[0;32m   3615\u001b[0m \u001b[1;33m\u001b[0m\u001b[0m\n\u001b[0;32m   3616\u001b[0m     \u001b[1;32mdef\u001b[0m \u001b[0m__setattr__\u001b[0m\u001b[1;33m(\u001b[0m\u001b[0mself\u001b[0m\u001b[1;33m,\u001b[0m \u001b[0mname\u001b[0m\u001b[1;33m,\u001b[0m \u001b[0mvalue\u001b[0m\u001b[1;33m)\u001b[0m\u001b[1;33m:\u001b[0m\u001b[1;33m\u001b[0m\u001b[0m\n",
      "\u001b[1;31mAttributeError\u001b[0m: 'Series' object has no attribute 'extend'"
     ]
    }
   ],
   "source": [
    "big_df['fist_phrase'] =  big_df['fist_phrase'].extend(fist_phrase)\n",
    "big_df['reply'] =  big_df['reply'].extend(reply)\n",
    "\n",
    "len(big_df)"
   ]
  },
  {
   "cell_type": "code",
   "execution_count": 41,
   "metadata": {},
   "outputs": [
    {
     "data": {
      "text/html": [
       "<div>\n",
       "<style scoped>\n",
       "    .dataframe tbody tr th:only-of-type {\n",
       "        vertical-align: middle;\n",
       "    }\n",
       "\n",
       "    .dataframe tbody tr th {\n",
       "        vertical-align: top;\n",
       "    }\n",
       "\n",
       "    .dataframe thead th {\n",
       "        text-align: right;\n",
       "    }\n",
       "</style>\n",
       "<table border=\"1\" class=\"dataframe\">\n",
       "  <thead>\n",
       "    <tr style=\"text-align: right;\">\n",
       "      <th></th>\n",
       "      <th>fist_phrase</th>\n",
       "      <th>reply</th>\n",
       "    </tr>\n",
       "  </thead>\n",
       "  <tbody>\n",
       "    <tr>\n",
       "      <th>0</th>\n",
       "      <td>-Сашка, ты скоро? Завтракать собираешься?</td>\n",
       "      <td>Лина ждёт тебя голодная. -Спасибо.</td>\n",
       "    </tr>\n",
       "    <tr>\n",
       "      <th>1</th>\n",
       "      <td>СМЕЁТСЯ Ладно, завтракайте.</td>\n",
       "      <td>Приятного аппетита.</td>\n",
       "    </tr>\n",
       "    <tr>\n",
       "      <th>2</th>\n",
       "      <td>-А я чай недавно пила.</td>\n",
       "      <td>-Правда. Я воду из фильтра брала.</td>\n",
       "    </tr>\n",
       "    <tr>\n",
       "      <th>3</th>\n",
       "      <td>-А борщ-то не сварен. -Хватит издеваться.</td>\n",
       "      <td>Да, борщ-то и не сварен.</td>\n",
       "    </tr>\n",
       "    <tr>\n",
       "      <th>4</th>\n",
       "      <td>Да, борщ-то и не сварен.</td>\n",
       "      <td>Сегодня котлеты на ужин.</td>\n",
       "    </tr>\n",
       "  </tbody>\n",
       "</table>\n",
       "</div>"
      ],
      "text/plain": [
       "                                 fist_phrase  \\\n",
       "0  -Сашка, ты скоро? Завтракать собираешься?   \n",
       "1                СМЕЁТСЯ Ладно, завтракайте.   \n",
       "2                     -А я чай недавно пила.   \n",
       "3  -А борщ-то не сварен. -Хватит издеваться.   \n",
       "4                   Да, борщ-то и не сварен.   \n",
       "\n",
       "                                reply  \n",
       "0  Лина ждёт тебя голодная. -Спасибо.  \n",
       "1                 Приятного аппетита.  \n",
       "2   -Правда. Я воду из фильтра брала.  \n",
       "3            Да, борщ-то и не сварен.  \n",
       "4            Сегодня котлеты на ужин.  "
      ]
     },
     "execution_count": 41,
     "metadata": {},
     "output_type": "execute_result"
    }
   ],
   "source": [
    "small_df.head()"
   ]
  }
 ],
 "metadata": {
  "kernelspec": {
   "display_name": "Python 3",
   "language": "python",
   "name": "python3"
  },
  "language_info": {
   "codemirror_mode": {
    "name": "ipython",
    "version": 3
   },
   "file_extension": ".py",
   "mimetype": "text/x-python",
   "name": "python",
   "nbconvert_exporter": "python",
   "pygments_lexer": "ipython3",
   "version": "3.6.2"
  }
 },
 "nbformat": 4,
 "nbformat_minor": 2
}
